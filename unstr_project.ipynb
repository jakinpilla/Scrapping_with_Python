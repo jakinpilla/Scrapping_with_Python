{
 "cells": [
  {
   "cell_type": "markdown",
   "metadata": {},
   "source": [
    "### ElasticNetCV를 활용한 문서별 지수 예측 및 분류"
   ]
  },
  {
   "cell_type": "markdown",
   "metadata": {},
   "source": [
    "#### 빅데이터 경영MBA U2017038 김정규 / U2017057 전혜진"
   ]
  },
  {
   "cell_type": "markdown",
   "metadata": {},
   "source": [
    "과제의 목적\n",
    "- 문서 택스트 데이터를 이용, 각 카테고리별 점수를 예측하는 모델을 만든다.\n",
    "- 예측된 점수를 이용, 문서를 카테고리별로 분류한다."
   ]
  },
  {
   "cell_type": "markdown",
   "metadata": {},
   "source": [
    "#####  필요 패키지 및 모듈 불러오기"
   ]
  },
  {
   "cell_type": "code",
   "execution_count": 1,
   "metadata": {
    "collapsed": true
   },
   "outputs": [],
   "source": [
    "import requests\n",
    "import lxml.html\n",
    "import datetime\n",
    "import pandas as pd \n",
    "import numpy as np"
   ]
  },
  {
   "cell_type": "markdown",
   "metadata": {},
   "source": [
    "##### 네이버 뉴스 크롤링_1\n",
    " - 20170101 ~ 20171231 기간에 대한 일자 리스트 정의"
   ]
  },
  {
   "cell_type": "code",
   "execution_count": 2,
   "metadata": {
    "collapsed": true
   },
   "outputs": [],
   "source": [
    "# datetime list 만들기\n",
    "\n",
    "datetime_list = []\n",
    "\n",
    "start = datetime.date(2017, 1, 1)\n",
    "end = datetime.date(2017, 12, 31)\n",
    "days = [start + datetime.timedelta(days = x) for x in range((end-start).days + 1)]\n",
    "for day in days:\n",
    "    datetime_list.append(day.strftime('%Y%m%d'))"
   ]
  },
  {
   "cell_type": "code",
   "execution_count": 3,
   "metadata": {},
   "outputs": [
    {
     "data": {
      "text/plain": [
       "['20170101',\n",
       " '20170102',\n",
       " '20170103',\n",
       " '20170104',\n",
       " '20170105',\n",
       " '20170106',\n",
       " '20170107',\n",
       " '20170108',\n",
       " '20170109',\n",
       " '20170110']"
      ]
     },
     "execution_count": 3,
     "metadata": {},
     "output_type": "execute_result"
    }
   ],
   "source": [
    "# 일자 리스트 생성 확인\n",
    "datetime_list[0:10]"
   ]
  },
  {
   "cell_type": "markdown",
   "metadata": {},
   "source": [
    "##### 네이버 뉴스 크롤링_2\n",
    " - 제목 및 내용 가져오기\n",
    " - 네이버 뉴스 랭킹뉴스 내 정치 첫 번째 기사만 크롤링 \n",
    " - 각 일자별 정치 랭킹뉴스 첫 번째 기사의 링크는 {div : ranking_section} > {li : num1} > {a : href}  노드\n",
    " - 상기 링크로 접속하여 {h3 : {id : articleTitle}} 노드에서 기사 제목 크롤링\n",
    " - 상시 링크로 접속하여 {div : {id : articleBodyContents}} 노드에서 기사  내용 크롤링\n",
    " - `<script>, <span>, <image>` 등의 태그들을 제거\n",
    " - 불필요 문자(\"\\n\", \"    \" 등) 및 이메일 주소 제거"
   ]
  },
  {
   "cell_type": "code",
   "execution_count": 4,
   "metadata": {
    "collapsed": true
   },
   "outputs": [],
   "source": [
    "url = \"http://news.naver.com/main/ranking/popularDay.nhn?rankingType=popular_day&date=20170101\"\n",
    "res = requests.get(url)\n",
    "element = lxml.html.fromstring(res.text)"
   ]
  },
  {
   "cell_type": "code",
   "execution_count": 5,
   "metadata": {
    "collapsed": true,
    "scrolled": true
   },
   "outputs": [],
   "source": [
    "postings = element.cssselect('div.ranking_section li.num1 a')"
   ]
  },
  {
   "cell_type": "code",
   "execution_count": 6,
   "metadata": {},
   "outputs": [
    {
     "data": {
      "text/plain": [
       "'/main/ranking/read.nhn?mid=etc&sid1=111&rankingType=popular_day&oid=001&aid=0008928841&date=20170101&type=1&rankingSectionId=100&rankingSeq=1'"
      ]
     },
     "execution_count": 6,
     "metadata": {},
     "output_type": "execute_result"
    }
   ],
   "source": [
    "postings[0].attrib[\"href\"]"
   ]
  },
  {
   "cell_type": "code",
   "execution_count": 7,
   "metadata": {
    "collapsed": true
   },
   "outputs": [],
   "source": [
    "news_url = postings[0].attrib[\"href\"]"
   ]
  },
  {
   "cell_type": "code",
   "execution_count": 8,
   "metadata": {},
   "outputs": [
    {
     "data": {
      "text/plain": [
       "'http://news.naver.com/main/ranking/read.nhn?mid=etc&sid1=111&rankingType=popular_day&oid=001&aid=0008928841&date=20170101&type=1&rankingSectionId=100&rankingSeq=1'"
      ]
     },
     "execution_count": 8,
     "metadata": {},
     "output_type": "execute_result"
    }
   ],
   "source": [
    "\"http://news.naver.com\" + news_url"
   ]
  },
  {
   "cell_type": "code",
   "execution_count": 9,
   "metadata": {
    "collapsed": true
   },
   "outputs": [],
   "source": [
    "res_2 = requests.get(\"http://news.naver.com\" + news_url)"
   ]
  },
  {
   "cell_type": "code",
   "execution_count": 10,
   "metadata": {
    "collapsed": true
   },
   "outputs": [],
   "source": [
    "element_2 = lxml.html.fromstring(res_2.text)"
   ]
  },
  {
   "cell_type": "code",
   "execution_count": 11,
   "metadata": {},
   "outputs": [
    {
     "data": {
      "text/plain": [
       "'朴대통령 \"뇌물죄, 완전히 엮은 것…세월호 허위 걷혀야\"(종합)'"
      ]
     },
     "execution_count": 11,
     "metadata": {},
     "output_type": "execute_result"
    }
   ],
   "source": [
    "## 뉴스 제목을 찾는 방법\n",
    "element_2.cssselect(\"div.article_info h3\")[0].text_content()"
   ]
  },
  {
   "cell_type": "code",
   "execution_count": 12,
   "metadata": {
    "collapsed": true
   },
   "outputs": [],
   "source": [
    "title = element_2.cssselect(\"div.article_info h3\")[0].text_content()"
   ]
  },
  {
   "cell_type": "code",
   "execution_count": 13,
   "metadata": {
    "scrolled": true
   },
   "outputs": [
    {
     "data": {
      "text/plain": [
       "'\\n\\t\\n\\t\\n\\n\\n\\n// flash 오류를 우회하기 위한 함수 추가\\nfunction _flash_removeCallback() {}\\n\\n\\t\\n\\t새해 첫날 청와대서 사실상 기자간담회…직무정지 23일 만에 첫 입장표명\"공모나 누구 봐준 일 손톱만큼도 없다…삼성 합병은 올바른 정책적 판단\"\\'7시간 의혹\\'에 \"입에 담기 민망한 이야기·너무 어이없다\" 반박\"블랙리스트 전혀 모르는 일…특검 연락오면 성실히 임하겠다\"(서울=연합뉴스) 정윤섭 강건택 이한승 기자 = 박근혜 대통령은 1일 삼성물산과 제일모직 합병 과정을 놓고 뇌물죄 의혹이 불거진 것과 관련해 \"완전히 나를 엮은 것\"이라고 정면으로 반박했다.    박 대통령은 정유년 새해 첫날 청와대 상춘재에서 출입기자단과 신년 인사회를 한 자리에서 \"누구를 봐줄 생각은 손톱만큼도 없었고 제 머릿속에서도 없었다\"며 이같이 말했다.    박 대통령의 이러한 언급은 삼성 측이 삼성물산-제일모직 합병 찬성의 대가로 미르·K스프츠 재단에 돈을 기부하고, 최순실 씨의 딸 정유라씨에 대한 승마훈련 지원 등을 했다는 의혹을 정면으로 반박한 것이다.    특히 박영수 특별검사팀이 박 대통령을 겨냥해 뇌물죄 의혹을 입증하기 위해 집중적으로 수사하는 상황에서 \"엮었다\"는 입장을 공식 표명함에 따라 향후 탄핵심판 및 특검수사 과정에서 강도 높은 대응이 예상된다.    지난달 9일 국회의 탄핵소추안 가결로 직무가 정지된 이후 박 대통령이 참모진과 탄핵심판 대리인단 외에 외부인을 만난 것은 23일 만이다.     특히 박 대통령은 직무정지 이후 대외 활동을 중단한 채 최순실 게이트에 대한 직접적인 입장 표명을 자제했으나 이날 사실상의 기자 간담회를 통해 각종 의혹을 조목조목 반박했다.박 대통령은 삼성물산-제일모직 합병 문제에 대해 \"공모나 누구를 봐주기 위해 한 일은 손톱만큼도 없다는 것을 분명히 말씀드릴 수 있다\"며 \"그것은 어떤 결정이든 간에 국가의 올바른 정책판단이다. 여기저기를 제가 도와주라고 한 적은 없다\"고 강조했다.    그러면서 박 대통령은 \"특검의 연락이 오면 성실히 (조사에) 임하겠다\"고 덧붙였다.    박 대통령은 최 씨와 연관된 KD 코퍼레이션의 현대차 납품 특혜 의혹에 대해서도 \"여기(KD코퍼레이션)도 기술력이 있다는데 거대한 기업에 끼여서 제대로 명함 한번 못 내미는 것 아닌가 해서 그럼 알아봐서 실력이 있다면 기회를 가질 수 있지 않으냐는 차원이었다\"고 설명했다.    또한, \"(최 씨와 KD코퍼레이션 측이) 아는 사이였다는 것을 보도를 보고 알았다. 제가 누구를 알아도 그 사람의 개인적 이득을 위해 부탁하는 것은 절대 금기\"라며 \"아는 건 아는 것이고, 절대 이익을 챙겨주는 일은 안될 일\"이라고 반박했다.    이와 함께 박 대통령은 세월호 참사 당일 7시간 행적 의혹에 대해서도 \"저는 그날 정상적으로 계속 보고 받으면서 체크하고 있었다\"며 \"전원 구조됐다고 해서 너무 기뻐 안심했는데 시간이 지나니 오보였다고 해 너무 놀랐다\"고 밝혔다.     특히 \\'세월호 7시간 밀회설\\' 등에 대해 \"어느 날 갑자기 \\'밀회를 했다\\'는 식으로 나오니까 얼마나 기가 막히던지\"라면서 \"말도 안 되고 입에도 담기 민망한 이야기를 했다. 대통령이 어떻게 밀회를 하겠나\"라고 반박했다.    또한 \"시간이 지나니 \\'굿을 했다\\'는 이야기가 기정사실화됐다. 너무 어이가 없었는데 이번에는 성형수술 의혹도 떠올랐다\"라며 \"미용시술 건은 전혀 아니다. 그게 어떻게 가능하겠나. 상식적으로도 있을 수가 없는 일\"이라고 덧붙였다.    박 대통령은 \"헌법재판소가 상세 내용을 제출해달라고 해 대리인단을 통해 다 정리하고 추가해 지금 만들고 있다. 제출하면 헌법재판소에서 재판하게 될 텐데 이번만큼은 그런 허위가 완전히 걷혔으면 생각한다\"라고 말했다.    박 대통령은 최순실 씨가 국정을 좌지우지했다는 의혹에 대해선 \"대통령의 직무와 판단이 있는데 어떻게 지인(최 씨)이 모든 것을 다한다고 엮을 수 있나\"라면서 \"대통령으로서 철학과 소신을 갖고 국정을 운영해 왔다\"고 강조했다.    아울러 박 대통령은 \\'문화계 블랙리스트\\' 의혹과 관련해 \"전혀 모르는 일\"이라고 부인했고, 구속기소된 \\'문화계 황태자\\' 차은택 씨가 국회 청문회에서 장관과 수석 자리를 추천했다고 증언한 것에 대해서도 \"대통령으로서 누구와 친하다고 누구를 봐줘야겠다고 한 적이 없다는 것을 분명히 말씀드릴 수 있다\"고 반박했다.jamin74@yna.co.kr\\n\\t\\n\\t'"
      ]
     },
     "execution_count": 13,
     "metadata": {},
     "output_type": "execute_result"
    }
   ],
   "source": [
    "## 뉴스 기사 본문을 찾는 방법\n",
    "element_2.get_element_by_id(\"articleBodyContents\").text_content()"
   ]
  },
  {
   "cell_type": "code",
   "execution_count": 14,
   "metadata": {
    "collapsed": true
   },
   "outputs": [],
   "source": [
    "news_article = element_2.get_element_by_id(\"articleBodyContents\")"
   ]
  },
  {
   "cell_type": "code",
   "execution_count": 15,
   "metadata": {
    "scrolled": false
   },
   "outputs": [
    {
     "data": {
      "text/plain": [
       "<Element div at 0x226393e86d8>"
      ]
     },
     "execution_count": 15,
     "metadata": {},
     "output_type": "execute_result"
    }
   ],
   "source": [
    "news_article"
   ]
  },
  {
   "cell_type": "code",
   "execution_count": 16,
   "metadata": {
    "scrolled": true
   },
   "outputs": [
    {
     "data": {
      "text/plain": [
       "'\\n\\t\\n\\t\\n\\n\\n\\n\\t\\n\\t새해 첫날 청와대서 사실상 기자간담회…직무정지 23일 만에 첫 입장표명\"공모나 누구 봐준 일 손톱만큼도 없다…삼성 합병은 올바른 정책적 판단\"\\'7시간 의혹\\'에 \"입에 담기 민망한 이야기·너무 어이없다\" 반박\"블랙리스트 전혀 모르는 일…특검 연락오면 성실히 임하겠다\"(서울=연합뉴스) 정윤섭 강건택 이한승 기자 = 박근혜 대통령은 1일 삼성물산과 제일모직 합병 과정을 놓고 뇌물죄 의혹이 불거진 것과 관련해 \"완전히 나를 엮은 것\"이라고 정면으로 반박했다.    박 대통령은 정유년 새해 첫날 청와대 상춘재에서 출입기자단과 신년 인사회를 한 자리에서 \"누구를 봐줄 생각은 손톱만큼도 없었고 제 머릿속에서도 없었다\"며 이같이 말했다.    박 대통령의 이러한 언급은 삼성 측이 삼성물산-제일모직 합병 찬성의 대가로 미르·K스프츠 재단에 돈을 기부하고, 최순실 씨의 딸 정유라씨에 대한 승마훈련 지원 등을 했다는 의혹을 정면으로 반박한 것이다.    특히 박영수 특별검사팀이 박 대통령을 겨냥해 뇌물죄 의혹을 입증하기 위해 집중적으로 수사하는 상황에서 \"엮었다\"는 입장을 공식 표명함에 따라 향후 탄핵심판 및 특검수사 과정에서 강도 높은 대응이 예상된다.    지난달 9일 국회의 탄핵소추안 가결로 직무가 정지된 이후 박 대통령이 참모진과 탄핵심판 대리인단 외에 외부인을 만난 것은 23일 만이다.     특히 박 대통령은 직무정지 이후 대외 활동을 중단한 채 최순실 게이트에 대한 직접적인 입장 표명을 자제했으나 이날 사실상의 기자 간담회를 통해 각종 의혹을 조목조목 반박했다.박 대통령은 삼성물산-제일모직 합병 문제에 대해 \"공모나 누구를 봐주기 위해 한 일은 손톱만큼도 없다는 것을 분명히 말씀드릴 수 있다\"며 \"그것은 어떤 결정이든 간에 국가의 올바른 정책판단이다. 여기저기를 제가 도와주라고 한 적은 없다\"고 강조했다.    그러면서 박 대통령은 \"특검의 연락이 오면 성실히 (조사에) 임하겠다\"고 덧붙였다.    박 대통령은 최 씨와 연관된 KD 코퍼레이션의 현대차 납품 특혜 의혹에 대해서도 \"여기(KD코퍼레이션)도 기술력이 있다는데 거대한 기업에 끼여서 제대로 명함 한번 못 내미는 것 아닌가 해서 그럼 알아봐서 실력이 있다면 기회를 가질 수 있지 않으냐는 차원이었다\"고 설명했다.    또한, \"(최 씨와 KD코퍼레이션 측이) 아는 사이였다는 것을 보도를 보고 알았다. 제가 누구를 알아도 그 사람의 개인적 이득을 위해 부탁하는 것은 절대 금기\"라며 \"아는 건 아는 것이고, 절대 이익을 챙겨주는 일은 안될 일\"이라고 반박했다.    이와 함께 박 대통령은 세월호 참사 당일 7시간 행적 의혹에 대해서도 \"저는 그날 정상적으로 계속 보고 받으면서 체크하고 있었다\"며 \"전원 구조됐다고 해서 너무 기뻐 안심했는데 시간이 지나니 오보였다고 해 너무 놀랐다\"고 밝혔다.     특히 \\'세월호 7시간 밀회설\\' 등에 대해 \"어느 날 갑자기 \\'밀회를 했다\\'는 식으로 나오니까 얼마나 기가 막히던지\"라면서 \"말도 안 되고 입에도 담기 민망한 이야기를 했다. 대통령이 어떻게 밀회를 하겠나\"라고 반박했다.    또한 \"시간이 지나니 \\'굿을 했다\\'는 이야기가 기정사실화됐다. 너무 어이가 없었는데 이번에는 성형수술 의혹도 떠올랐다\"라며 \"미용시술 건은 전혀 아니다. 그게 어떻게 가능하겠나. 상식적으로도 있을 수가 없는 일\"이라고 덧붙였다.    박 대통령은 \"헌법재판소가 상세 내용을 제출해달라고 해 대리인단을 통해 다 정리하고 추가해 지금 만들고 있다. 제출하면 헌법재판소에서 재판하게 될 텐데 이번만큼은 그런 허위가 완전히 걷혔으면 생각한다\"라고 말했다.    박 대통령은 최순실 씨가 국정을 좌지우지했다는 의혹에 대해선 \"대통령의 직무와 판단이 있는데 어떻게 지인(최 씨)이 모든 것을 다한다고 엮을 수 있나\"라면서 \"대통령으로서 철학과 소신을 갖고 국정을 운영해 왔다\"고 강조했다.    아울러 박 대통령은 \\'문화계 블랙리스트\\' 의혹과 관련해 \"전혀 모르는 일\"이라고 부인했고, 구속기소된 \\'문화계 황태자\\' 차은택 씨가 국회 청문회에서 장관과 수석 자리를 추천했다고 증언한 것에 대해서도 \"대통령으로서 누구와 친하다고 누구를 봐줘야겠다고 한 적이 없다는 것을 분명히 말씀드릴 수 있다\"고 반박했다.jamin74@yna.co.kr\\n\\t\\n\\t'"
      ]
     },
     "execution_count": 16,
     "metadata": {},
     "output_type": "execute_result"
    }
   ],
   "source": [
    "# Remove all javascript tags and style tags from html with python and the lxml module\n",
    "\n",
    "from lxml.html.clean import Cleaner\n",
    "cleaner = Cleaner()\n",
    "cleaner.javascript = True \n",
    "cleaner.style = True  \n",
    "cleaner.clean_html(element_2.get_element_by_id(\"articleBodyContents\")).text_content()"
   ]
  },
  {
   "cell_type": "code",
   "execution_count": 17,
   "metadata": {
    "scrolled": true
   },
   "outputs": [
    {
     "name": "stdout",
     "output_type": "stream",
     "text": [
      "20170101\n",
      "20170102\n",
      "20170103\n",
      "20170104\n",
      "20170105\n",
      "20170106\n",
      "20170107\n",
      "20170108\n",
      "20170109\n",
      "20170110\n",
      "20170111\n",
      "20170112\n",
      "20170113\n",
      "20170114\n",
      "20170115\n",
      "20170116\n",
      "20170117\n",
      "20170118\n",
      "20170119\n",
      "20170120\n",
      "20170121\n",
      "20170122\n",
      "20170123\n",
      "20170124\n",
      "20170125\n",
      "20170126\n",
      "20170127\n",
      "20170128\n",
      "20170129\n",
      "20170130\n",
      "20170131\n",
      "20170201\n",
      "20170202\n",
      "20170203\n",
      "20170204\n",
      "20170205\n",
      "20170206\n",
      "20170207\n",
      "20170208\n",
      "20170209\n",
      "20170210\n",
      "20170211\n",
      "20170212\n",
      "20170213\n",
      "20170214\n",
      "20170215\n",
      "20170216\n",
      "20170217\n",
      "20170218\n",
      "20170219\n",
      "20170220\n",
      "20170221\n",
      "20170222\n",
      "20170223\n",
      "20170224\n",
      "20170225\n",
      "20170226\n",
      "20170227\n",
      "20170228\n",
      "20170301\n",
      "20170302\n",
      "20170303\n",
      "20170304\n",
      "20170305\n",
      "20170306\n",
      "20170307\n",
      "20170308\n",
      "20170309\n",
      "20170310\n",
      "20170311\n",
      "20170312\n",
      "20170313\n",
      "20170314\n",
      "20170315\n",
      "20170316\n",
      "20170317\n",
      "20170318\n",
      "20170319\n",
      "20170320\n",
      "20170321\n",
      "20170322\n",
      "20170323\n",
      "20170324\n",
      "20170325\n",
      "20170326\n",
      "20170327\n",
      "20170328\n",
      "20170329\n",
      "20170330\n",
      "20170331\n",
      "20170401\n",
      "20170402\n",
      "20170403\n",
      "20170404\n",
      "20170405\n",
      "20170406\n",
      "20170407\n",
      "20170408\n",
      "20170409\n",
      "20170410\n",
      "20170411\n",
      "20170412\n",
      "20170413\n",
      "20170414\n",
      "20170415\n",
      "20170416\n",
      "20170417\n",
      "20170418\n",
      "20170419\n",
      "20170420\n",
      "20170421\n",
      "20170422\n",
      "20170423\n",
      "20170424\n",
      "20170425\n",
      "20170426\n",
      "20170427\n",
      "20170428\n",
      "20170429\n",
      "20170430\n",
      "20170501\n",
      "20170502\n",
      "20170503\n",
      "20170504\n",
      "20170505\n",
      "20170506\n",
      "20170507\n",
      "20170508\n",
      "20170509\n",
      "20170510\n",
      "20170511\n",
      "20170512\n",
      "20170513\n",
      "20170514\n",
      "20170515\n",
      "20170516\n",
      "20170517\n",
      "20170518\n",
      "20170519\n",
      "20170520\n",
      "20170521\n",
      "20170522\n",
      "20170523\n",
      "20170524\n",
      "20170525\n",
      "20170526\n",
      "20170527\n",
      "20170528\n",
      "20170529\n",
      "20170530\n",
      "20170531\n",
      "20170601\n",
      "20170602\n",
      "20170603\n",
      "20170604\n",
      "20170605\n",
      "20170606\n",
      "20170607\n",
      "20170608\n",
      "20170609\n",
      "20170610\n",
      "20170611\n",
      "20170612\n",
      "20170613\n",
      "20170614\n",
      "20170615\n",
      "20170616\n",
      "20170617\n",
      "20170618\n",
      "20170619\n",
      "20170620\n",
      "20170621\n",
      "20170622\n",
      "20170623\n",
      "20170624\n",
      "20170625\n",
      "20170626\n",
      "20170627\n",
      "20170628\n",
      "20170629\n",
      "20170630\n",
      "20170701\n",
      "20170702\n",
      "20170703\n",
      "20170704\n",
      "20170705\n",
      "20170706\n",
      "20170707\n",
      "20170708\n",
      "20170709\n",
      "20170710\n",
      "20170711\n",
      "20170712\n",
      "20170713\n",
      "20170714\n",
      "20170715\n",
      "20170716\n",
      "20170717\n",
      "20170718\n",
      "20170719\n",
      "20170720\n",
      "20170721\n",
      "20170722\n",
      "20170723\n",
      "20170724\n",
      "20170725\n",
      "20170726\n",
      "20170727\n",
      "20170728\n",
      "20170729\n",
      "20170730\n",
      "20170731\n",
      "20170801\n",
      "20170802\n",
      "20170803\n",
      "20170804\n",
      "20170805\n",
      "20170806\n",
      "20170807\n",
      "20170808\n",
      "20170809\n",
      "20170810\n",
      "20170811\n",
      "20170812\n",
      "20170813\n",
      "20170814\n",
      "20170815\n",
      "20170816\n",
      "20170817\n",
      "20170818\n",
      "20170819\n",
      "20170820\n",
      "20170821\n",
      "20170822\n",
      "20170823\n",
      "20170824\n",
      "20170825\n",
      "20170826\n",
      "20170827\n",
      "20170828\n",
      "20170829\n",
      "20170830\n",
      "20170831\n",
      "20170901\n",
      "20170902\n",
      "20170903\n",
      "20170904\n",
      "20170905\n",
      "20170906\n",
      "20170907\n",
      "20170908\n",
      "20170909\n",
      "20170910\n",
      "20170911\n",
      "20170912\n",
      "20170913\n",
      "20170914\n",
      "20170915\n",
      "20170916\n",
      "20170917\n",
      "20170918\n",
      "20170919\n",
      "20170920\n",
      "20170921\n",
      "20170922\n",
      "20170923\n",
      "20170924\n",
      "20170925\n",
      "20170926\n",
      "20170927\n",
      "20170928\n",
      "20170929\n",
      "20170930\n",
      "20171001\n",
      "20171002\n",
      "20171003\n",
      "20171004\n",
      "20171005\n",
      "20171006\n",
      "20171007\n",
      "20171008\n",
      "20171009\n",
      "20171010\n",
      "20171011\n",
      "20171012\n",
      "20171013\n",
      "20171014\n",
      "20171015\n",
      "20171016\n",
      "20171017\n",
      "20171018\n",
      "20171019\n",
      "20171020\n",
      "20171021\n",
      "20171022\n",
      "20171023\n",
      "20171024\n",
      "20171025\n",
      "20171026\n",
      "20171027\n",
      "20171028\n",
      "20171029\n",
      "20171030\n",
      "20171031\n",
      "20171101\n",
      "20171102\n",
      "20171103\n",
      "20171104\n",
      "20171105\n",
      "20171106\n",
      "20171107\n",
      "20171108\n",
      "20171109\n",
      "20171110\n",
      "20171111\n",
      "20171112\n",
      "20171113\n",
      "20171114\n",
      "20171115\n",
      "20171116\n",
      "20171117\n",
      "20171118\n",
      "20171119\n",
      "20171120\n",
      "20171121\n",
      "20171122\n",
      "20171123\n",
      "20171124\n",
      "20171125\n",
      "20171126\n",
      "20171127\n",
      "20171128\n",
      "20171129\n",
      "20171130\n",
      "20171201\n",
      "20171202\n",
      "20171203\n",
      "20171204\n",
      "20171205\n",
      "20171206\n",
      "20171207\n",
      "20171208\n",
      "20171209\n",
      "20171210\n",
      "20171211\n",
      "20171212\n",
      "20171213\n",
      "20171214\n",
      "20171215\n",
      "20171216\n",
      "20171217\n",
      "20171218\n",
      "20171219\n",
      "20171220\n",
      "20171221\n",
      "20171222\n",
      "20171223\n",
      "20171224\n",
      "20171225\n",
      "20171226\n",
      "20171227\n",
      "20171228\n",
      "20171229\n",
      "20171230\n",
      "20171231\n"
     ]
    }
   ],
   "source": [
    "## Crawling\n",
    "\n",
    "news_title_list = []\n",
    "news_content_list = []\n",
    "\n",
    "for datetime in datetime_list:\n",
    "    print(datetime)\n",
    "    url = \"http://news.naver.com/main/ranking/popularDay.nhn?rankingType=popular_day&date=\" + datetime\n",
    "    res = requests.get(url)\n",
    "    element = lxml.html.fromstring(res.text)\n",
    "    \n",
    "    # 날짜별 정치 랭킹뉴스 1위 뉴스의 url 가져오기\n",
    "    postings = element.cssselect('div.ranking_section li.num1 a')\n",
    "    news_url = postings[0].attrib[\"href\"]\n",
    "    \n",
    "    # 상기 url로 접속하여 뉴스 페이지의 element 저장하기\n",
    "    res_2 = requests.get(\"http://news.naver.com\" + news_url)\n",
    "    element_2 = lxml.html.fromstring(res_2.text)\n",
    "    \n",
    "    # 뉴스 제목\n",
    "    news_title = element_2.cssselect(\"div.article_info h3\")[0].text_content()\n",
    "    \n",
    "    # 뉴스 내용\n",
    "    news_content = cleaner.clean_html(element_2.get_element_by_id(\"articleBodyContents\")).text_content()\n",
    "    \n",
    "    #### Data PrepProcessing #################\n",
    "    # remove unnecessary characters #\n",
    "    while news_content.find(\"\\n\") != -1 :\n",
    "        news_content = news_content.replace(\"\\n\", \" \")\n",
    "        \n",
    "    while news_content.find(\"    \") != -1 :\n",
    "        news_content = news_content.replace(\"    \", \" \")\n",
    "               \n",
    "    # remove string from email   \n",
    "    if news_content.find(\"@\") !=-1:\n",
    "        index = news_content.find(\"@\")\n",
    "        while news_content[index] not in [\" \", \".\"]:\n",
    "            index = index -1\n",
    "        news_content = news_content[:index]      \n",
    "\n",
    "    news_content = news_content.strip()\n",
    "\n",
    "    ########################################\n",
    "    \n",
    "    news_title_list.append(news_title)\n",
    "    news_content_list.append(news_content) "
   ]
  },
  {
   "cell_type": "markdown",
   "metadata": {},
   "source": [
    "\n",
    "##### 데이터 프레임 생성"
   ]
  },
  {
   "cell_type": "code",
   "execution_count": 18,
   "metadata": {
    "collapsed": true
   },
   "outputs": [],
   "source": [
    "df = pd.DataFrame(columns=[\"Date\", \"Title\", \"Content\"])\n",
    "df[\"Date\"] = datetime_list\n",
    "df[\"Title\"] = news_title_list\n",
    "df[\"Content\"] = news_content_list"
   ]
  },
  {
   "cell_type": "code",
   "execution_count": 19,
   "metadata": {
    "scrolled": true
   },
   "outputs": [
    {
     "data": {
      "text/html": [
       "<div>\n",
       "<style>\n",
       "    .dataframe thead tr:only-child th {\n",
       "        text-align: right;\n",
       "    }\n",
       "\n",
       "    .dataframe thead th {\n",
       "        text-align: left;\n",
       "    }\n",
       "\n",
       "    .dataframe tbody tr th {\n",
       "        vertical-align: top;\n",
       "    }\n",
       "</style>\n",
       "<table border=\"1\" class=\"dataframe\">\n",
       "  <thead>\n",
       "    <tr style=\"text-align: right;\">\n",
       "      <th></th>\n",
       "      <th>Date</th>\n",
       "      <th>Title</th>\n",
       "      <th>Content</th>\n",
       "    </tr>\n",
       "  </thead>\n",
       "  <tbody>\n",
       "    <tr>\n",
       "      <th>0</th>\n",
       "      <td>20170101</td>\n",
       "      <td>朴대통령 \"뇌물죄, 완전히 엮은 것…세월호 허위 걷혀야\"(종합)</td>\n",
       "      <td>새해 첫날 청와대서 사실상 기자간담회…직무정지 23일 만에 첫 입장표명\"공모나 누구...</td>\n",
       "    </tr>\n",
       "    <tr>\n",
       "      <th>1</th>\n",
       "      <td>20170102</td>\n",
       "      <td>정유라, 덴마크서 불법 체류 혐의로 체포···특검 “송환 협조중” (종합)</td>\n",
       "      <td>[아시아경제 정준영 기자] 이화여대 학사부정 및 삼성 특혜지원 의혹의 수혜자 겸 공...</td>\n",
       "    </tr>\n",
       "    <tr>\n",
       "      <th>2</th>\n",
       "      <td>20170103</td>\n",
       "      <td>[단독]정유라, “(주사 아줌마)누구인지 알 것 같다”…현지 답변태도 분석, 사전 ...</td>\n",
       "      <td>덴마크 올보르 법원에서 잠시 휴정중 기자들의 질문에 답변하는 정유라씨  사진=현지교...</td>\n",
       "    </tr>\n",
       "    <tr>\n",
       "      <th>3</th>\n",
       "      <td>20170104</td>\n",
       "      <td>[단독]\"정유라, 이대학장실 등 교내서 교수 6명에 학점취득 코치받아\"</td>\n",
       "      <td>[연합뉴스TV제공]김병욱, 교육부 자료 확인…\"학점 좋은이유 모른다더니\"담당교수들 ...</td>\n",
       "    </tr>\n",
       "    <tr>\n",
       "      <th>4</th>\n",
       "      <td>20170105</td>\n",
       "      <td>윤전추 \"기억안나. 몰라. 말못해\"… 헌재 \"본인범죄 외 답해라\"</td>\n",
       "      <td>\"외부인 동행 없다\" 주장하다 \"세월호 당일 미용사 태워왔다\" 윤전추 헌재 탄핵심리...</td>\n",
       "    </tr>\n",
       "  </tbody>\n",
       "</table>\n",
       "</div>"
      ],
      "text/plain": [
       "       Date                                              Title  \\\n",
       "0  20170101                朴대통령 \"뇌물죄, 완전히 엮은 것…세월호 허위 걷혀야\"(종합)   \n",
       "1  20170102          정유라, 덴마크서 불법 체류 혐의로 체포···특검 “송환 협조중” (종합)   \n",
       "2  20170103  [단독]정유라, “(주사 아줌마)누구인지 알 것 같다”…현지 답변태도 분석, 사전 ...   \n",
       "3  20170104            [단독]\"정유라, 이대학장실 등 교내서 교수 6명에 학점취득 코치받아\"   \n",
       "4  20170105               윤전추 \"기억안나. 몰라. 말못해\"… 헌재 \"본인범죄 외 답해라\"   \n",
       "\n",
       "                                             Content  \n",
       "0  새해 첫날 청와대서 사실상 기자간담회…직무정지 23일 만에 첫 입장표명\"공모나 누구...  \n",
       "1  [아시아경제 정준영 기자] 이화여대 학사부정 및 삼성 특혜지원 의혹의 수혜자 겸 공...  \n",
       "2  덴마크 올보르 법원에서 잠시 휴정중 기자들의 질문에 답변하는 정유라씨  사진=현지교...  \n",
       "3  [연합뉴스TV제공]김병욱, 교육부 자료 확인…\"학점 좋은이유 모른다더니\"담당교수들 ...  \n",
       "4  \"외부인 동행 없다\" 주장하다 \"세월호 당일 미용사 태워왔다\" 윤전추 헌재 탄핵심리...  "
      ]
     },
     "execution_count": 19,
     "metadata": {},
     "output_type": "execute_result"
    }
   ],
   "source": [
    "df.head()"
   ]
  },
  {
   "cell_type": "markdown",
   "metadata": {},
   "source": [
    "##### \"일자_기사제목\" 형식으로 파일 이름 설정 후 \"./news\" 폴더에 저장"
   ]
  },
  {
   "cell_type": "code",
   "execution_count": 20,
   "metadata": {
    "collapsed": true
   },
   "outputs": [],
   "source": [
    "import re\n",
    "\n",
    "for i in range(0, len(df[\"Content\"])):\n",
    "    title = df[\"Title\"][i]\n",
    "    # 윈도우 os에서 파일 저장시 특수기호 제한, 정규표현식으로 제목 내 특수기호 제외\n",
    "    parsed_title = re.sub('[-=.\"#/?:$]', '', title)\n",
    "    fname = df[\"Date\"][i] + \"_\" + parsed_title + \".txt\"\n",
    "    with open(\"./news/\" + fname, \"w\", encoding = \"UTF8\") as f:\n",
    "        f.write(df[\"Title\"][i] + \"\\n\\n\" + df[\"Content\"][i])"
   ]
  },
  {
   "cell_type": "markdown",
   "metadata": {},
   "source": [
    "##### 라벨링 완료한 데이터 가져오기\n",
    "- 데이터 라벨링은 조원 2명이 각각 나누어서 시행\n",
    "- 조원이 뉴스를 직접 읽고 전체 뉴스를 청와대(BH), 국회/정당(Con/Party), 북한(North), 행정(Admin), 국방/외교(Defence/Diplo), 정치일반(Politic) 등 6개 카테고리별 뉴스를 읽고 관련성이 있다고 생각한 점수를 1점에서 10점 사이로 scoring \n",
    "- `Category` 컬럼은 부여된 6개의 점수 중 가장 높은 점수를 받은 카테고리를 표시한 것으로 해당 뉴스가 이 카테고리에 분류된 것으로 간주"
   ]
  },
  {
   "cell_type": "code",
   "execution_count": 21,
   "metadata": {},
   "outputs": [],
   "source": [
    "# After labeling ty\n",
    "labeled_data = pd.read_csv(\"labeled_dataset.csv\", encoding = \"UTF8\", index_col = 0)"
   ]
  },
  {
   "cell_type": "code",
   "execution_count": 22,
   "metadata": {},
   "outputs": [
    {
     "data": {
      "text/html": [
       "<div>\n",
       "<style>\n",
       "    .dataframe thead tr:only-child th {\n",
       "        text-align: right;\n",
       "    }\n",
       "\n",
       "    .dataframe thead th {\n",
       "        text-align: left;\n",
       "    }\n",
       "\n",
       "    .dataframe tbody tr th {\n",
       "        vertical-align: top;\n",
       "    }\n",
       "</style>\n",
       "<table border=\"1\" class=\"dataframe\">\n",
       "  <thead>\n",
       "    <tr style=\"text-align: right;\">\n",
       "      <th></th>\n",
       "      <th>Date</th>\n",
       "      <th>Title</th>\n",
       "      <th>BH</th>\n",
       "      <th>Con/Party</th>\n",
       "      <th>North</th>\n",
       "      <th>Admin</th>\n",
       "      <th>Defence/Diplo</th>\n",
       "      <th>Politic</th>\n",
       "      <th>Category</th>\n",
       "    </tr>\n",
       "  </thead>\n",
       "  <tbody>\n",
       "    <tr>\n",
       "      <th>0</th>\n",
       "      <td>20170101</td>\n",
       "      <td>朴대통령 \"뇌물죄, 완전히 엮은 것…세월호 허위 걷혀야\"(종합)</td>\n",
       "      <td>8</td>\n",
       "      <td>0</td>\n",
       "      <td>0</td>\n",
       "      <td>0</td>\n",
       "      <td>0</td>\n",
       "      <td>2</td>\n",
       "      <td>BH</td>\n",
       "    </tr>\n",
       "    <tr>\n",
       "      <th>1</th>\n",
       "      <td>20170102</td>\n",
       "      <td>정유라, 덴마크서 불법 체류 혐의로 체포···특검 “송환 협조중” (종합)</td>\n",
       "      <td>6</td>\n",
       "      <td>0</td>\n",
       "      <td>0</td>\n",
       "      <td>0</td>\n",
       "      <td>0</td>\n",
       "      <td>3</td>\n",
       "      <td>BH</td>\n",
       "    </tr>\n",
       "    <tr>\n",
       "      <th>2</th>\n",
       "      <td>20170103</td>\n",
       "      <td>[단독]정유라, “(주사 아줌마)누구인지 알 것 같다”…현지 답변태도 분석, 사전 ...</td>\n",
       "      <td>6</td>\n",
       "      <td>0</td>\n",
       "      <td>0</td>\n",
       "      <td>0</td>\n",
       "      <td>0</td>\n",
       "      <td>3</td>\n",
       "      <td>BH</td>\n",
       "    </tr>\n",
       "    <tr>\n",
       "      <th>3</th>\n",
       "      <td>20170104</td>\n",
       "      <td>[단독]\"정유라, 이대학장실 등 교내서 교수 6명에 학점취득 코치받아\"</td>\n",
       "      <td>5</td>\n",
       "      <td>0</td>\n",
       "      <td>0</td>\n",
       "      <td>0</td>\n",
       "      <td>0</td>\n",
       "      <td>6</td>\n",
       "      <td>Politic</td>\n",
       "    </tr>\n",
       "    <tr>\n",
       "      <th>4</th>\n",
       "      <td>20170105</td>\n",
       "      <td>윤전추 \"기억안나. 몰라. 말못해\"… 헌재 \"본인범죄 외 답해라\"</td>\n",
       "      <td>7</td>\n",
       "      <td>0</td>\n",
       "      <td>0</td>\n",
       "      <td>0</td>\n",
       "      <td>0</td>\n",
       "      <td>2</td>\n",
       "      <td>BH</td>\n",
       "    </tr>\n",
       "  </tbody>\n",
       "</table>\n",
       "</div>"
      ],
      "text/plain": [
       "       Date                                              Title  BH  Con/Party  \\\n",
       "0  20170101                朴대통령 \"뇌물죄, 완전히 엮은 것…세월호 허위 걷혀야\"(종합)   8          0   \n",
       "1  20170102          정유라, 덴마크서 불법 체류 혐의로 체포···특검 “송환 협조중” (종합)   6          0   \n",
       "2  20170103  [단독]정유라, “(주사 아줌마)누구인지 알 것 같다”…현지 답변태도 분석, 사전 ...   6          0   \n",
       "3  20170104            [단독]\"정유라, 이대학장실 등 교내서 교수 6명에 학점취득 코치받아\"   5          0   \n",
       "4  20170105               윤전추 \"기억안나. 몰라. 말못해\"… 헌재 \"본인범죄 외 답해라\"   7          0   \n",
       "\n",
       "   North  Admin  Defence/Diplo  Politic Category  \n",
       "0      0      0              0        2       BH  \n",
       "1      0      0              0        3       BH  \n",
       "2      0      0              0        3       BH  \n",
       "3      0      0              0        6  Politic  \n",
       "4      0      0              0        2       BH  "
      ]
     },
     "execution_count": 22,
     "metadata": {},
     "output_type": "execute_result"
    }
   ],
   "source": [
    "labeled_data.head()"
   ]
  },
  {
   "cell_type": "markdown",
   "metadata": {},
   "source": [
    "##### 형태소 분석기 Komoran 사용, tokenize 함수 정의(명사(Noun) 만 사용)"
   ]
  },
  {
   "cell_type": "code",
   "execution_count": 23,
   "metadata": {
    "collapsed": true
   },
   "outputs": [],
   "source": [
    "from konlpy.tag import Komoran\n",
    "tag = Komoran()"
   ]
  },
  {
   "cell_type": "code",
   "execution_count": 24,
   "metadata": {
    "collapsed": true
   },
   "outputs": [],
   "source": [
    "def kor_noun(text):\n",
    "    words = []\n",
    "    for w in tag.nouns(text):\n",
    "        if len(w) > 1:\n",
    "            words.append(w)\n",
    "    return words"
   ]
  },
  {
   "cell_type": "markdown",
   "metadata": {},
   "source": [
    "##### TfidfVectorizer 사용 단어들을 vector화 하고 TermDocumentMatrix(df_tfidf) 생성"
   ]
  },
  {
   "cell_type": "code",
   "execution_count": 25,
   "metadata": {
    "collapsed": true
   },
   "outputs": [],
   "source": [
    "from sklearn.feature_extraction.text import TfidfVectorizer"
   ]
  },
  {
   "cell_type": "code",
   "execution_count": 26,
   "metadata": {
    "collapsed": true
   },
   "outputs": [],
   "source": [
    "text_data_list = df[\"Content\"].astype(str).tolist()\n",
    "text_data_arr = np.array([\"\".join(text) for text in text_data_list])"
   ]
  },
  {
   "cell_type": "code",
   "execution_count": 27,
   "metadata": {},
   "outputs": [
    {
     "name": "stderr",
     "output_type": "stream",
     "text": [
      "C:\\Users\\Daniel\\Anaconda3\\lib\\site-packages\\sklearn\\feature_extraction\\text.py:1059: FutureWarning: Conversion of the second argument of issubdtype from `float` to `np.floating` is deprecated. In future, it will be treated as `np.float64 == np.dtype(float).type`.\n",
      "  if hasattr(X, 'dtype') and np.issubdtype(X.dtype, np.float):\n"
     ]
    }
   ],
   "source": [
    "vectorizer = TfidfVectorizer(min_df = 2, tokenizer = kor_noun, norm = 'l2')\n",
    "text_data = vectorizer.fit_transform(text_data_arr)"
   ]
  },
  {
   "cell_type": "code",
   "execution_count": 28,
   "metadata": {
    "scrolled": true
   },
   "outputs": [
    {
     "data": {
      "text/html": [
       "<div>\n",
       "<style>\n",
       "    .dataframe thead tr:only-child th {\n",
       "        text-align: right;\n",
       "    }\n",
       "\n",
       "    .dataframe thead th {\n",
       "        text-align: left;\n",
       "    }\n",
       "\n",
       "    .dataframe tbody tr th {\n",
       "        vertical-align: top;\n",
       "    }\n",
       "</style>\n",
       "<table border=\"1\" class=\"dataframe\">\n",
       "  <thead>\n",
       "    <tr style=\"text-align: right;\">\n",
       "      <th></th>\n",
       "      <th>12월 14일</th>\n",
       "      <th>1시간</th>\n",
       "      <th>1월 2일</th>\n",
       "      <th>2007년 남북정상회담</th>\n",
       "      <th>2010년 9월</th>\n",
       "      <th>2012년 10월</th>\n",
       "      <th>2012년 12월</th>\n",
       "      <th>2013년 10월</th>\n",
       "      <th>2013년 12월</th>\n",
       "      <th>2013년 1월</th>\n",
       "      <th>...</th>\n",
       "      <th>휴전선</th>\n",
       "      <th>휴정</th>\n",
       "      <th>휴학</th>\n",
       "      <th>흐름</th>\n",
       "      <th>흔적</th>\n",
       "      <th>흡수</th>\n",
       "      <th>희망</th>\n",
       "      <th>희생</th>\n",
       "      <th>희생자</th>\n",
       "      <th>흰색</th>\n",
       "    </tr>\n",
       "  </thead>\n",
       "  <tbody>\n",
       "    <tr>\n",
       "      <th>0</th>\n",
       "      <td>0.0</td>\n",
       "      <td>0.0</td>\n",
       "      <td>0.0</td>\n",
       "      <td>0.0</td>\n",
       "      <td>0.0</td>\n",
       "      <td>0.0</td>\n",
       "      <td>0.0</td>\n",
       "      <td>0.0</td>\n",
       "      <td>0.0</td>\n",
       "      <td>0.0</td>\n",
       "      <td>...</td>\n",
       "      <td>0.0</td>\n",
       "      <td>0.000000</td>\n",
       "      <td>0.000000</td>\n",
       "      <td>0.0</td>\n",
       "      <td>0.000000</td>\n",
       "      <td>0.0</td>\n",
       "      <td>0.0</td>\n",
       "      <td>0.0</td>\n",
       "      <td>0.0</td>\n",
       "      <td>0.0</td>\n",
       "    </tr>\n",
       "    <tr>\n",
       "      <th>1</th>\n",
       "      <td>0.0</td>\n",
       "      <td>0.0</td>\n",
       "      <td>0.0</td>\n",
       "      <td>0.0</td>\n",
       "      <td>0.0</td>\n",
       "      <td>0.0</td>\n",
       "      <td>0.0</td>\n",
       "      <td>0.0</td>\n",
       "      <td>0.0</td>\n",
       "      <td>0.0</td>\n",
       "      <td>...</td>\n",
       "      <td>0.0</td>\n",
       "      <td>0.000000</td>\n",
       "      <td>0.000000</td>\n",
       "      <td>0.0</td>\n",
       "      <td>0.000000</td>\n",
       "      <td>0.0</td>\n",
       "      <td>0.0</td>\n",
       "      <td>0.0</td>\n",
       "      <td>0.0</td>\n",
       "      <td>0.0</td>\n",
       "    </tr>\n",
       "    <tr>\n",
       "      <th>2</th>\n",
       "      <td>0.0</td>\n",
       "      <td>0.0</td>\n",
       "      <td>0.0</td>\n",
       "      <td>0.0</td>\n",
       "      <td>0.0</td>\n",
       "      <td>0.0</td>\n",
       "      <td>0.0</td>\n",
       "      <td>0.0</td>\n",
       "      <td>0.0</td>\n",
       "      <td>0.0</td>\n",
       "      <td>...</td>\n",
       "      <td>0.0</td>\n",
       "      <td>0.072151</td>\n",
       "      <td>0.037957</td>\n",
       "      <td>0.0</td>\n",
       "      <td>0.036075</td>\n",
       "      <td>0.0</td>\n",
       "      <td>0.0</td>\n",
       "      <td>0.0</td>\n",
       "      <td>0.0</td>\n",
       "      <td>0.0</td>\n",
       "    </tr>\n",
       "    <tr>\n",
       "      <th>3</th>\n",
       "      <td>0.0</td>\n",
       "      <td>0.0</td>\n",
       "      <td>0.0</td>\n",
       "      <td>0.0</td>\n",
       "      <td>0.0</td>\n",
       "      <td>0.0</td>\n",
       "      <td>0.0</td>\n",
       "      <td>0.0</td>\n",
       "      <td>0.0</td>\n",
       "      <td>0.0</td>\n",
       "      <td>...</td>\n",
       "      <td>0.0</td>\n",
       "      <td>0.000000</td>\n",
       "      <td>0.000000</td>\n",
       "      <td>0.0</td>\n",
       "      <td>0.000000</td>\n",
       "      <td>0.0</td>\n",
       "      <td>0.0</td>\n",
       "      <td>0.0</td>\n",
       "      <td>0.0</td>\n",
       "      <td>0.0</td>\n",
       "    </tr>\n",
       "    <tr>\n",
       "      <th>4</th>\n",
       "      <td>0.0</td>\n",
       "      <td>0.0</td>\n",
       "      <td>0.0</td>\n",
       "      <td>0.0</td>\n",
       "      <td>0.0</td>\n",
       "      <td>0.0</td>\n",
       "      <td>0.0</td>\n",
       "      <td>0.0</td>\n",
       "      <td>0.0</td>\n",
       "      <td>0.0</td>\n",
       "      <td>...</td>\n",
       "      <td>0.0</td>\n",
       "      <td>0.000000</td>\n",
       "      <td>0.000000</td>\n",
       "      <td>0.0</td>\n",
       "      <td>0.000000</td>\n",
       "      <td>0.0</td>\n",
       "      <td>0.0</td>\n",
       "      <td>0.0</td>\n",
       "      <td>0.0</td>\n",
       "      <td>0.0</td>\n",
       "    </tr>\n",
       "  </tbody>\n",
       "</table>\n",
       "<p>5 rows × 4412 columns</p>\n",
       "</div>"
      ],
      "text/plain": [
       "   12월 14일  1시간  1월 2일  2007년 남북정상회담  2010년 9월  2012년 10월  2012년 12월  \\\n",
       "0      0.0  0.0    0.0           0.0       0.0        0.0        0.0   \n",
       "1      0.0  0.0    0.0           0.0       0.0        0.0        0.0   \n",
       "2      0.0  0.0    0.0           0.0       0.0        0.0        0.0   \n",
       "3      0.0  0.0    0.0           0.0       0.0        0.0        0.0   \n",
       "4      0.0  0.0    0.0           0.0       0.0        0.0        0.0   \n",
       "\n",
       "   2013년 10월  2013년 12월  2013년 1월 ...   휴전선        휴정        휴학   흐름  \\\n",
       "0        0.0        0.0       0.0 ...   0.0  0.000000  0.000000  0.0   \n",
       "1        0.0        0.0       0.0 ...   0.0  0.000000  0.000000  0.0   \n",
       "2        0.0        0.0       0.0 ...   0.0  0.072151  0.037957  0.0   \n",
       "3        0.0        0.0       0.0 ...   0.0  0.000000  0.000000  0.0   \n",
       "4        0.0        0.0       0.0 ...   0.0  0.000000  0.000000  0.0   \n",
       "\n",
       "         흔적   흡수   희망   희생  희생자   흰색  \n",
       "0  0.000000  0.0  0.0  0.0  0.0  0.0  \n",
       "1  0.000000  0.0  0.0  0.0  0.0  0.0  \n",
       "2  0.036075  0.0  0.0  0.0  0.0  0.0  \n",
       "3  0.000000  0.0  0.0  0.0  0.0  0.0  \n",
       "4  0.000000  0.0  0.0  0.0  0.0  0.0  \n",
       "\n",
       "[5 rows x 4412 columns]"
      ]
     },
     "execution_count": 28,
     "metadata": {},
     "output_type": "execute_result"
    }
   ],
   "source": [
    "df_tfidf = pd.DataFrame(text_data.A, columns = vectorizer.get_feature_names())\n",
    "df_tfidf.head()"
   ]
  },
  {
   "cell_type": "markdown",
   "metadata": {},
   "source": [
    "##### BH(청와대 ) 점수에 대한 ElasticNetCV 모델 생성"
   ]
  },
  {
   "cell_type": "code",
   "execution_count": 29,
   "metadata": {},
   "outputs": [],
   "source": [
    "##### 청와대 지수를 TermDocumentMatrix에 붙어 데이터셋으르 생성\n",
    "\n",
    "df_bh_1 = pd.DataFrame({\"BH_y\" : list(labeled_data[\"BH\"])})\n",
    "df_bh = pd.concat([df_tfidf, df_bh_1['BH_y']], axis=1)"
   ]
  },
  {
   "cell_type": "code",
   "execution_count": 30,
   "metadata": {
    "collapsed": true
   },
   "outputs": [],
   "source": [
    "X = df_bh.drop([\"BH_y\"], axis=1)\n",
    "y =  df_bh[\"BH_y\"]"
   ]
  },
  {
   "cell_type": "code",
   "execution_count": 31,
   "metadata": {
    "collapsed": true
   },
   "outputs": [],
   "source": [
    "## Data Spliting\n",
    "\n",
    "from sklearn.model_selection import train_test_split\n",
    "X_train, X_test, y_train, y_test  = train_test_split(X, y, test_size=0.2, random_state = 1234)"
   ]
  },
  {
   "cell_type": "code",
   "execution_count": 32,
   "metadata": {},
   "outputs": [
    {
     "data": {
      "text/plain": [
       "(73, 4412)"
      ]
     },
     "execution_count": 32,
     "metadata": {},
     "output_type": "execute_result"
    }
   ],
   "source": [
    "X_test.shape"
   ]
  },
  {
   "cell_type": "code",
   "execution_count": 33,
   "metadata": {
    "collapsed": true
   },
   "outputs": [],
   "source": [
    "## Modeling Training\n",
    "\n",
    "from sklearn.linear_model import ElasticNetCV"
   ]
  },
  {
   "cell_type": "code",
   "execution_count": 34,
   "metadata": {
    "collapsed": true
   },
   "outputs": [],
   "source": [
    "elastic_bh = ElasticNetCV(cv=3, random_state=0)"
   ]
  },
  {
   "cell_type": "code",
   "execution_count": 35,
   "metadata": {
    "scrolled": true
   },
   "outputs": [
    {
     "data": {
      "text/plain": [
       "ElasticNetCV(alphas=None, copy_X=True, cv=3, eps=0.001, fit_intercept=True,\n",
       "       l1_ratio=0.5, max_iter=1000, n_alphas=100, n_jobs=1,\n",
       "       normalize=False, positive=False, precompute='auto', random_state=0,\n",
       "       selection='cyclic', tol=0.0001, verbose=0)"
      ]
     },
     "execution_count": 35,
     "metadata": {},
     "output_type": "execute_result"
    }
   ],
   "source": [
    "elastic_bh.fit(X_train, y_train)"
   ]
  },
  {
   "cell_type": "code",
   "execution_count": 36,
   "metadata": {
    "collapsed": true
   },
   "outputs": [],
   "source": [
    "y_pred = elastic_bh.predict(X_test)"
   ]
  },
  {
   "cell_type": "code",
   "execution_count": 37,
   "metadata": {
    "collapsed": true
   },
   "outputs": [],
   "source": [
    "## Model evaluation\n",
    "\n",
    "from sklearn.metrics import r2_score, mean_squared_error"
   ]
  },
  {
   "cell_type": "code",
   "execution_count": 38,
   "metadata": {},
   "outputs": [
    {
     "data": {
      "text/plain": [
       "0.5381201908514406"
      ]
     },
     "execution_count": 38,
     "metadata": {},
     "output_type": "execute_result"
    }
   ],
   "source": [
    "r2_score(y_test, y_pred)"
   ]
  },
  {
   "cell_type": "code",
   "execution_count": 39,
   "metadata": {
    "scrolled": true
   },
   "outputs": [
    {
     "data": {
      "text/plain": [
       "7.564462792878527"
      ]
     },
     "execution_count": 39,
     "metadata": {},
     "output_type": "execute_result"
    }
   ],
   "source": [
    "mean_squared_error(y_test, y_pred)"
   ]
  },
  {
   "cell_type": "code",
   "execution_count": 40,
   "metadata": {},
   "outputs": [
    {
     "data": {
      "text/plain": [
       "0.5381201908514406"
      ]
     },
     "execution_count": 40,
     "metadata": {},
     "output_type": "execute_result"
    }
   ],
   "source": [
    "elastic_bh.score(X_test, y_test) ## 결정계수값 = 0.55"
   ]
  },
  {
   "cell_type": "markdown",
   "metadata": {},
   "source": [
    "- 청와대 지수 계산 모델을 ElasticNetCV로 생성한 결과,\n",
    "- 결정계수는 0.54이고 MSE 값은 7.56 이었음"
   ]
  },
  {
   "cell_type": "markdown",
   "metadata": {},
   "source": [
    "##### 청와대 지수 예측 모델(elastic_bh)의 예측값과 labeled 데이터값간의 차이를 시각화"
   ]
  },
  {
   "cell_type": "code",
   "execution_count": 41,
   "metadata": {
    "collapsed": true
   },
   "outputs": [],
   "source": [
    "df_compare = pd.DataFrame({\"y_pred\" : y_pred.tolist(), \"y_labeled\" : y_test.tolist()})"
   ]
  },
  {
   "cell_type": "code",
   "execution_count": 42,
   "metadata": {},
   "outputs": [
    {
     "data": {
      "text/html": [
       "<div>\n",
       "<style>\n",
       "    .dataframe thead tr:only-child th {\n",
       "        text-align: right;\n",
       "    }\n",
       "\n",
       "    .dataframe thead th {\n",
       "        text-align: left;\n",
       "    }\n",
       "\n",
       "    .dataframe tbody tr th {\n",
       "        vertical-align: top;\n",
       "    }\n",
       "</style>\n",
       "<table border=\"1\" class=\"dataframe\">\n",
       "  <thead>\n",
       "    <tr style=\"text-align: right;\">\n",
       "      <th></th>\n",
       "      <th>x_axis</th>\n",
       "      <th>y_labeled</th>\n",
       "      <th>y_pred</th>\n",
       "    </tr>\n",
       "  </thead>\n",
       "  <tbody>\n",
       "    <tr>\n",
       "      <th>0</th>\n",
       "      <td>0</td>\n",
       "      <td>9</td>\n",
       "      <td>6.621854</td>\n",
       "    </tr>\n",
       "    <tr>\n",
       "      <th>1</th>\n",
       "      <td>1</td>\n",
       "      <td>9</td>\n",
       "      <td>4.825073</td>\n",
       "    </tr>\n",
       "    <tr>\n",
       "      <th>2</th>\n",
       "      <td>2</td>\n",
       "      <td>0</td>\n",
       "      <td>3.668346</td>\n",
       "    </tr>\n",
       "    <tr>\n",
       "      <th>3</th>\n",
       "      <td>3</td>\n",
       "      <td>10</td>\n",
       "      <td>9.100115</td>\n",
       "    </tr>\n",
       "    <tr>\n",
       "      <th>4</th>\n",
       "      <td>4</td>\n",
       "      <td>6</td>\n",
       "      <td>4.988630</td>\n",
       "    </tr>\n",
       "  </tbody>\n",
       "</table>\n",
       "</div>"
      ],
      "text/plain": [
       "   x_axis  y_labeled    y_pred\n",
       "0       0          9  6.621854\n",
       "1       1          9  4.825073\n",
       "2       2          0  3.668346\n",
       "3       3         10  9.100115\n",
       "4       4          6  4.988630"
      ]
     },
     "execution_count": 42,
     "metadata": {},
     "output_type": "execute_result"
    }
   ],
   "source": [
    "df_compare[\"x_axis\"] = df_compare.index.tolist()\n",
    "df_compare[[\"x_axis\", \"y_labeled\", \"y_pred\"]].head()"
   ]
  },
  {
   "cell_type": "code",
   "execution_count": 43,
   "metadata": {
    "collapsed": true
   },
   "outputs": [],
   "source": [
    "import seaborn as sns\n",
    "import matplotlib.pyplot as plt\n",
    "%matplotlib inline"
   ]
  },
  {
   "cell_type": "code",
   "execution_count": 44,
   "metadata": {},
   "outputs": [
    {
     "data": {
      "image/png": "[encoded data removed]",
      "text/plain": [
       "<matplotlib.figure.Figure at 0x226544ae240>"
      ]
     },
     "metadata": {},
     "output_type": "display_data"
    }
   ],
   "source": [
    "sns.set(style = \"whitegrid\")\n",
    "f, ax = plt.subplots(figsize = (20, 10))\n",
    "\n",
    "sns.set_color_codes(\"pastel\")\n",
    "sns.barplot(x = \"x_axis\", y = \"y_labeled\", data = df_compare, label = \"labeled\", color = \"b\")\n",
    "sns.barplot(x = \"x_axis\", y = \"y_pred\", data = df_compare, label = \"pred\", color = \"r\", alpha = 0.5)\n",
    "\n",
    "ax.legend(ncol = 2, loc = \"upper right\", frameon = True)\n",
    "ax.set(xlim = (0, 73), ylabel = \"\", xlabel = \"Test Data\")\n",
    "sns.despine(left = True, bottom = True)"
   ]
  },
  {
   "cell_type": "markdown",
   "metadata": {},
   "source": [
    "##### Con/Party(국회/정당 ) 점수에 대한 ElasticNetCV 모델 생성"
   ]
  },
  {
   "cell_type": "code",
   "execution_count": 45,
   "metadata": {},
   "outputs": [],
   "source": [
    "#####  국회/정당 지수를 TermDocumentMatrix에 붙어 데이터셋으르 생성\n",
    "\n",
    "df_con_party_1 = pd.DataFrame({\"Con/Party_y\" : list(labeled_data[\"Con/Party\"])})\n",
    "df_con_party = pd.concat([df_tfidf, df_con_party_1['Con/Party_y']], axis=1)"
   ]
  },
  {
   "cell_type": "code",
   "execution_count": 46,
   "metadata": {
    "collapsed": true
   },
   "outputs": [],
   "source": [
    "X = df_con_party.drop([\"Con/Party_y\"], axis=1)\n",
    "y =  df_con_party[\"Con/Party_y\"]"
   ]
  },
  {
   "cell_type": "code",
   "execution_count": 47,
   "metadata": {
    "collapsed": true
   },
   "outputs": [],
   "source": [
    "## Data Spliting\n",
    "X_train, X_test, y_train, y_test  = train_test_split(X, y, test_size=0.2, random_state = 1234)"
   ]
  },
  {
   "cell_type": "code",
   "execution_count": 48,
   "metadata": {
    "collapsed": true
   },
   "outputs": [],
   "source": [
    "## Modeling Training\n",
    "\n",
    "from sklearn.linear_model import ElasticNetCV"
   ]
  },
  {
   "cell_type": "code",
   "execution_count": 49,
   "metadata": {
    "collapsed": true
   },
   "outputs": [],
   "source": [
    "elastic_con_party = ElasticNetCV(cv=3, random_state=0)"
   ]
  },
  {
   "cell_type": "code",
   "execution_count": 50,
   "metadata": {
    "scrolled": true
   },
   "outputs": [
    {
     "data": {
      "text/plain": [
       "ElasticNetCV(alphas=None, copy_X=True, cv=3, eps=0.001, fit_intercept=True,\n",
       "       l1_ratio=0.5, max_iter=1000, n_alphas=100, n_jobs=1,\n",
       "       normalize=False, positive=False, precompute='auto', random_state=0,\n",
       "       selection='cyclic', tol=0.0001, verbose=0)"
      ]
     },
     "execution_count": 50,
     "metadata": {},
     "output_type": "execute_result"
    }
   ],
   "source": [
    "elastic_con_party.fit(X_train, y_train)"
   ]
  },
  {
   "cell_type": "code",
   "execution_count": 51,
   "metadata": {
    "collapsed": true
   },
   "outputs": [],
   "source": [
    "y_pred = elastic_con_party.predict(X_test)"
   ]
  },
  {
   "cell_type": "code",
   "execution_count": 52,
   "metadata": {
    "collapsed": true
   },
   "outputs": [],
   "source": [
    "## Model evaluation\n",
    "\n",
    "from sklearn.metrics import r2_score, mean_squared_error"
   ]
  },
  {
   "cell_type": "code",
   "execution_count": 53,
   "metadata": {},
   "outputs": [
    {
     "data": {
      "text/plain": [
       "0.5447377768713692"
      ]
     },
     "execution_count": 53,
     "metadata": {},
     "output_type": "execute_result"
    }
   ],
   "source": [
    "r2_score(y_test, y_pred)"
   ]
  },
  {
   "cell_type": "code",
   "execution_count": 54,
   "metadata": {
    "scrolled": true
   },
   "outputs": [
    {
     "data": {
      "text/plain": [
       "7.707762862659286"
      ]
     },
     "execution_count": 54,
     "metadata": {},
     "output_type": "execute_result"
    }
   ],
   "source": [
    "mean_squared_error(y_test, y_pred)"
   ]
  },
  {
   "cell_type": "markdown",
   "metadata": {},
   "source": [
    "- 국회/정당 지수 계산 모델을 ElasticNetCV로 생성한 결과,\n",
    "- 결정계수는 0.54이고 MSE 값은 7.70 이었음"
   ]
  },
  {
   "cell_type": "markdown",
   "metadata": {},
   "source": [
    "##### 국회/정당 지수 예측 모델(elastic_con_party) 예측값과 labeled 데이터값간의 차이를 시각화"
   ]
  },
  {
   "cell_type": "code",
   "execution_count": 55,
   "metadata": {
    "collapsed": true
   },
   "outputs": [],
   "source": [
    "df_compare = pd.DataFrame({\"y_pred\" : y_pred.tolist(), \"y_labeled\" : y_test.tolist()})"
   ]
  },
  {
   "cell_type": "code",
   "execution_count": 56,
   "metadata": {},
   "outputs": [
    {
     "data": {
      "text/html": [
       "<div>\n",
       "<style>\n",
       "    .dataframe thead tr:only-child th {\n",
       "        text-align: right;\n",
       "    }\n",
       "\n",
       "    .dataframe thead th {\n",
       "        text-align: left;\n",
       "    }\n",
       "\n",
       "    .dataframe tbody tr th {\n",
       "        vertical-align: top;\n",
       "    }\n",
       "</style>\n",
       "<table border=\"1\" class=\"dataframe\">\n",
       "  <thead>\n",
       "    <tr style=\"text-align: right;\">\n",
       "      <th></th>\n",
       "      <th>x_axis</th>\n",
       "      <th>y_labeled</th>\n",
       "      <th>y_pred</th>\n",
       "    </tr>\n",
       "  </thead>\n",
       "  <tbody>\n",
       "    <tr>\n",
       "      <th>0</th>\n",
       "      <td>0</td>\n",
       "      <td>10</td>\n",
       "      <td>7.365913</td>\n",
       "    </tr>\n",
       "    <tr>\n",
       "      <th>1</th>\n",
       "      <td>1</td>\n",
       "      <td>0</td>\n",
       "      <td>2.593460</td>\n",
       "    </tr>\n",
       "    <tr>\n",
       "      <th>2</th>\n",
       "      <td>2</td>\n",
       "      <td>0</td>\n",
       "      <td>1.857930</td>\n",
       "    </tr>\n",
       "    <tr>\n",
       "      <th>3</th>\n",
       "      <td>3</td>\n",
       "      <td>9</td>\n",
       "      <td>8.159385</td>\n",
       "    </tr>\n",
       "    <tr>\n",
       "      <th>4</th>\n",
       "      <td>4</td>\n",
       "      <td>2</td>\n",
       "      <td>0.130726</td>\n",
       "    </tr>\n",
       "  </tbody>\n",
       "</table>\n",
       "</div>"
      ],
      "text/plain": [
       "   x_axis  y_labeled    y_pred\n",
       "0       0         10  7.365913\n",
       "1       1          0  2.593460\n",
       "2       2          0  1.857930\n",
       "3       3          9  8.159385\n",
       "4       4          2  0.130726"
      ]
     },
     "execution_count": 56,
     "metadata": {},
     "output_type": "execute_result"
    }
   ],
   "source": [
    "df_compare[\"x_axis\"] = df_compare.index.tolist()\n",
    "df_compare[[\"x_axis\", \"y_labeled\", \"y_pred\"]].head()"
   ]
  },
  {
   "cell_type": "code",
   "execution_count": 57,
   "metadata": {
    "scrolled": true
   },
   "outputs": [
    {
     "data": {
      "image/png": "[encoded data removed]",
      "text/plain": [
       "<matplotlib.figure.Figure at 0x226503637b8>"
      ]
     },
     "metadata": {},
     "output_type": "display_data"
    }
   ],
   "source": [
    "sns.set(style = \"whitegrid\")\n",
    "f, ax = plt.subplots(figsize = (20, 10))\n",
    "\n",
    "sns.set_color_codes(\"pastel\")\n",
    "sns.barplot(x = \"x_axis\", y = \"y_labeled\", data = df_compare, label = \"labeled\", color = \"b\")\n",
    "sns.barplot(x = \"x_axis\", y = \"y_pred\", data = df_compare, label = \"pred\", color = \"r\", alpha = 0.3)\n",
    "\n",
    "ax.legend(ncol = 2, loc = \"upper right\", frameon = True)\n",
    "ax.set(xlim = (0, 73), ylabel = \"\", xlabel = \"Test Data\")\n",
    "sns.despine(left = True, bottom = True)"
   ]
  },
  {
   "cell_type": "markdown",
   "metadata": {},
   "source": [
    "##### North(북한 )지수 산출 모델 생성"
   ]
  },
  {
   "cell_type": "code",
   "execution_count": 58,
   "metadata": {
    "collapsed": true
   },
   "outputs": [],
   "source": [
    "# 북한 지수를 TermDocumentMatrix에 붙어 데이터셋으르 생성\n",
    "\n",
    "df_north_1 = pd.DataFrame({\"North_y\" : list(labeled_data[\"North\"])})\n",
    "df_north = pd.concat([df_tfidf, df_north_1['North_y']], axis=1)"
   ]
  },
  {
   "cell_type": "code",
   "execution_count": 59,
   "metadata": {
    "collapsed": true
   },
   "outputs": [],
   "source": [
    "X = df_north.drop([\"North_y\"], axis=1)\n",
    "y =  df_north[\"North_y\"]"
   ]
  },
  {
   "cell_type": "code",
   "execution_count": 60,
   "metadata": {
    "collapsed": true
   },
   "outputs": [],
   "source": [
    "## Data Spliting\n",
    "X_train, X_test, y_train, y_test  = train_test_split(X, y, test_size=0.2, random_state = 1234)"
   ]
  },
  {
   "cell_type": "code",
   "execution_count": 61,
   "metadata": {
    "collapsed": true
   },
   "outputs": [],
   "source": [
    "## Modeling Training\n",
    "\n",
    "from sklearn.linear_model import ElasticNetCV"
   ]
  },
  {
   "cell_type": "code",
   "execution_count": 62,
   "metadata": {
    "collapsed": true
   },
   "outputs": [],
   "source": [
    "elastic_north = ElasticNetCV(cv=3, random_state=0)"
   ]
  },
  {
   "cell_type": "code",
   "execution_count": 63,
   "metadata": {
    "scrolled": true
   },
   "outputs": [
    {
     "data": {
      "text/plain": [
       "ElasticNetCV(alphas=None, copy_X=True, cv=3, eps=0.001, fit_intercept=True,\n",
       "       l1_ratio=0.5, max_iter=1000, n_alphas=100, n_jobs=1,\n",
       "       normalize=False, positive=False, precompute='auto', random_state=0,\n",
       "       selection='cyclic', tol=0.0001, verbose=0)"
      ]
     },
     "execution_count": 63,
     "metadata": {},
     "output_type": "execute_result"
    }
   ],
   "source": [
    "elastic_north.fit(X_train, y_train)"
   ]
  },
  {
   "cell_type": "code",
   "execution_count": 64,
   "metadata": {
    "collapsed": true
   },
   "outputs": [],
   "source": [
    "y_pred = elastic_north.predict(X_test)"
   ]
  },
  {
   "cell_type": "code",
   "execution_count": 65,
   "metadata": {
    "collapsed": true
   },
   "outputs": [],
   "source": [
    "## Model evaluation\n",
    "\n",
    "from sklearn.metrics import r2_score, mean_squared_error"
   ]
  },
  {
   "cell_type": "code",
   "execution_count": 66,
   "metadata": {},
   "outputs": [
    {
     "data": {
      "text/plain": [
       "0.5028839194272506"
      ]
     },
     "execution_count": 66,
     "metadata": {},
     "output_type": "execute_result"
    }
   ],
   "source": [
    "r2_score(y_test, y_pred)"
   ]
  },
  {
   "cell_type": "code",
   "execution_count": 67,
   "metadata": {
    "scrolled": true
   },
   "outputs": [
    {
     "data": {
      "text/plain": [
       "4.942242437369912"
      ]
     },
     "execution_count": 67,
     "metadata": {},
     "output_type": "execute_result"
    }
   ],
   "source": [
    "mean_squared_error(y_test, y_pred)"
   ]
  },
  {
   "cell_type": "markdown",
   "metadata": {},
   "source": [
    "- 북한 지수 계산 모델을 ElasticNetCV로 생성한 결과,\n",
    "- 결정계수는 0.5이고 MSE 값은 4.94 이었음"
   ]
  },
  {
   "cell_type": "markdown",
   "metadata": {},
   "source": [
    "##### 북한 지수 예측모델(elastic_north) 예측값과 labeled 데이터값간의 차이를 시각화"
   ]
  },
  {
   "cell_type": "code",
   "execution_count": 68,
   "metadata": {
    "collapsed": true
   },
   "outputs": [],
   "source": [
    "df_compare = pd.DataFrame({\"y_pred\" : y_pred.tolist(), \"y_labeled\" : y_test.tolist()})"
   ]
  },
  {
   "cell_type": "code",
   "execution_count": 69,
   "metadata": {
    "collapsed": true
   },
   "outputs": [],
   "source": [
    "df_compare[\"x_axis\"] = df_compare.index.tolist()\n",
    "df_compare =  df_compare[[\"x_axis\", \"y_labeled\", \"y_pred\"]]"
   ]
  },
  {
   "cell_type": "code",
   "execution_count": 70,
   "metadata": {},
   "outputs": [
    {
     "data": {
      "image/png": "[encoded data removed]",
      "text/plain": [
       "<matplotlib.figure.Figure at 0x22652b4afd0>"
      ]
     },
     "metadata": {},
     "output_type": "display_data"
    }
   ],
   "source": [
    "sns.set(style = \"whitegrid\")\n",
    "f, ax = plt.subplots(figsize = (20, 10))\n",
    "\n",
    "sns.set_color_codes(\"pastel\")\n",
    "sns.barplot(x = \"x_axis\", y = \"y_labeled\", data = df_compare, label = \"labeled\", color = \"b\")\n",
    "sns.barplot(x = \"x_axis\", y = \"y_pred\", data = df_compare, label = \"pred\", color = \"r\", alpha = 0.3)\n",
    "\n",
    "ax.legend(ncol = 2, loc = \"upper right\", frameon = True)\n",
    "ax.set(xlim = (0, 73), ylabel = \"\", xlabel = \"Test Data\")\n",
    "sns.despine(left = True, bottom = True)"
   ]
  },
  {
   "cell_type": "markdown",
   "metadata": {},
   "source": [
    "##### Admin(행정) 지수 산출 모델 생성"
   ]
  },
  {
   "cell_type": "code",
   "execution_count": 71,
   "metadata": {
    "collapsed": true
   },
   "outputs": [],
   "source": [
    "# 행정 지수를 TermDocumentMatrix에 붙어 데이터셋으르 생성\n",
    "\n",
    "df_admin_1 = pd.DataFrame({\"Admin_y\" : list(labeled_data[\"Admin\"])})\n",
    "df_admin = pd.concat([df_tfidf, df_admin_1['Admin_y']], axis=1)"
   ]
  },
  {
   "cell_type": "code",
   "execution_count": 72,
   "metadata": {
    "collapsed": true
   },
   "outputs": [],
   "source": [
    "X = df_admin.drop([\"Admin_y\"], axis=1)\n",
    "y =  df_admin[\"Admin_y\"]"
   ]
  },
  {
   "cell_type": "code",
   "execution_count": 73,
   "metadata": {
    "collapsed": true
   },
   "outputs": [],
   "source": [
    "## Data Spliting\n",
    "X_train, X_test, y_train, y_test  = train_test_split(X, y, test_size=0.2, random_state = 1234)"
   ]
  },
  {
   "cell_type": "code",
   "execution_count": 74,
   "metadata": {
    "collapsed": true
   },
   "outputs": [],
   "source": [
    "## Modeling Training\n",
    "\n",
    "from sklearn.linear_model import ElasticNetCV"
   ]
  },
  {
   "cell_type": "code",
   "execution_count": 75,
   "metadata": {
    "collapsed": true
   },
   "outputs": [],
   "source": [
    "elastic_admin = ElasticNetCV(cv=3, random_state=0)"
   ]
  },
  {
   "cell_type": "code",
   "execution_count": 76,
   "metadata": {
    "scrolled": true
   },
   "outputs": [
    {
     "data": {
      "text/plain": [
       "ElasticNetCV(alphas=None, copy_X=True, cv=3, eps=0.001, fit_intercept=True,\n",
       "       l1_ratio=0.5, max_iter=1000, n_alphas=100, n_jobs=1,\n",
       "       normalize=False, positive=False, precompute='auto', random_state=0,\n",
       "       selection='cyclic', tol=0.0001, verbose=0)"
      ]
     },
     "execution_count": 76,
     "metadata": {},
     "output_type": "execute_result"
    }
   ],
   "source": [
    "elastic_admin.fit(X_train, y_train)"
   ]
  },
  {
   "cell_type": "code",
   "execution_count": 77,
   "metadata": {
    "collapsed": true
   },
   "outputs": [],
   "source": [
    "y_pred = elastic_admin.predict(X_test)"
   ]
  },
  {
   "cell_type": "code",
   "execution_count": 78,
   "metadata": {
    "collapsed": true
   },
   "outputs": [],
   "source": [
    "## Model evaluation\n",
    "\n",
    "from sklearn.metrics import r2_score, mean_squared_error"
   ]
  },
  {
   "cell_type": "code",
   "execution_count": 79,
   "metadata": {},
   "outputs": [
    {
     "data": {
      "text/plain": [
       "0.026252949379969248"
      ]
     },
     "execution_count": 79,
     "metadata": {},
     "output_type": "execute_result"
    }
   ],
   "source": [
    "r2_score(y_test, y_pred)"
   ]
  },
  {
   "cell_type": "code",
   "execution_count": 80,
   "metadata": {
    "scrolled": true
   },
   "outputs": [
    {
     "data": {
      "text/plain": [
       "11.941877415316474"
      ]
     },
     "execution_count": 80,
     "metadata": {},
     "output_type": "execute_result"
    }
   ],
   "source": [
    "mean_squared_error(y_test, y_pred)"
   ]
  },
  {
   "cell_type": "markdown",
   "metadata": {},
   "source": [
    "- 행정지수 예측 모델의 결정계수는 0.026이고,  MSE 값은 11.94 임\n",
    "- 결정계수 값이 0.03으로 모델이 데이터를 거의 설명하지 못하고 있음\n",
    "- 행정이라는 주제가 다른 주제들과 비교시 그 의미가 추상적이고 광범위하여 모델이 값을 예측하기 곤란했을 거라 사료됨"
   ]
  },
  {
   "cell_type": "markdown",
   "metadata": {},
   "source": [
    "##### 행정지수 예측모델(elastic_admin)의 예측값과 labeled 데이터값간의 차이를 시각화"
   ]
  },
  {
   "cell_type": "code",
   "execution_count": 81,
   "metadata": {
    "collapsed": true
   },
   "outputs": [],
   "source": [
    "df_compare = pd.DataFrame({\"y_pred\" : y_pred.tolist(), \"y_labeled\" : y_test.tolist()})"
   ]
  },
  {
   "cell_type": "code",
   "execution_count": 82,
   "metadata": {
    "collapsed": true
   },
   "outputs": [],
   "source": [
    "df_compare[\"x_axis\"] = df_compare.index.tolist()\n",
    "df_compare =  df_compare[[\"x_axis\", \"y_labeled\", \"y_pred\"]]"
   ]
  },
  {
   "cell_type": "code",
   "execution_count": 83,
   "metadata": {
    "scrolled": true
   },
   "outputs": [
    {
     "data": {
      "image/png": "[encoded data removed]",
      "text/plain": [
       "<matplotlib.figure.Figure at 0x226520cfe80>"
      ]
     },
     "metadata": {},
     "output_type": "display_data"
    }
   ],
   "source": [
    "sns.set(style = \"whitegrid\")\n",
    "f, ax = plt.subplots(figsize = (20, 10))\n",
    "\n",
    "sns.set_color_codes(\"pastel\")\n",
    "sns.barplot(x = \"x_axis\", y = \"y_labeled\", data = df_compare, label = \"labeled\", color = \"b\")\n",
    "sns.barplot(x = \"x_axis\", y = \"y_pred\", data = df_compare, label = \"pred\", color = \"r\", alpha = 0.5)\n",
    "\n",
    "ax.legend(ncol = 2, loc = \"upper right\", frameon = True)\n",
    "ax.set(xlim = (0, 73), ylabel = \"\", xlabel = \"Test Data\")\n",
    "sns.despine(left = True, bottom = True)"
   ]
  },
  {
   "cell_type": "markdown",
   "metadata": {},
   "source": [
    "##### 국방/외교 지수 산출 모델 생성"
   ]
  },
  {
   "cell_type": "code",
   "execution_count": 84,
   "metadata": {
    "collapsed": true
   },
   "outputs": [],
   "source": [
    "# 국방/외교 지수를 TermDocumentMatrix에 붙어 데이터셋으르 생성\n",
    "\n",
    "df_defence_diplo_1 = pd.DataFrame({\"Defence/Diplo_y\" : list(labeled_data[\"Defence/Diplo\"])})\n",
    "df_defence_diplo = pd.concat([df_tfidf, df_defence_diplo_1['Defence/Diplo_y']], axis=1)"
   ]
  },
  {
   "cell_type": "code",
   "execution_count": 85,
   "metadata": {
    "collapsed": true
   },
   "outputs": [],
   "source": [
    "X = df_defence_diplo.drop([\"Defence/Diplo_y\"], axis=1)\n",
    "y = df_defence_diplo[\"Defence/Diplo_y\"]"
   ]
  },
  {
   "cell_type": "code",
   "execution_count": 86,
   "metadata": {
    "collapsed": true
   },
   "outputs": [],
   "source": [
    "## Data Spliting\n",
    "X_train, X_test, y_train, y_test  = train_test_split(X, y, test_size=0.2, random_state = 1234)"
   ]
  },
  {
   "cell_type": "code",
   "execution_count": 87,
   "metadata": {
    "collapsed": true
   },
   "outputs": [],
   "source": [
    "## Modeling Training\n",
    "\n",
    "from sklearn.linear_model import ElasticNetCV"
   ]
  },
  {
   "cell_type": "code",
   "execution_count": 88,
   "metadata": {
    "collapsed": true
   },
   "outputs": [],
   "source": [
    "elastic_defence_diplo = ElasticNetCV(cv=3, random_state=0)"
   ]
  },
  {
   "cell_type": "code",
   "execution_count": 89,
   "metadata": {
    "scrolled": true
   },
   "outputs": [
    {
     "data": {
      "text/plain": [
       "ElasticNetCV(alphas=None, copy_X=True, cv=3, eps=0.001, fit_intercept=True,\n",
       "       l1_ratio=0.5, max_iter=1000, n_alphas=100, n_jobs=1,\n",
       "       normalize=False, positive=False, precompute='auto', random_state=0,\n",
       "       selection='cyclic', tol=0.0001, verbose=0)"
      ]
     },
     "execution_count": 89,
     "metadata": {},
     "output_type": "execute_result"
    }
   ],
   "source": [
    "elastic_defence_diplo.fit(X_train, y_train)"
   ]
  },
  {
   "cell_type": "code",
   "execution_count": 90,
   "metadata": {
    "collapsed": true
   },
   "outputs": [],
   "source": [
    "y_pred = elastic_defence_diplo.predict(X_test)"
   ]
  },
  {
   "cell_type": "code",
   "execution_count": 91,
   "metadata": {
    "collapsed": true
   },
   "outputs": [],
   "source": [
    "## Model evaluation\n",
    "\n",
    "from sklearn.metrics import r2_score, mean_squared_error"
   ]
  },
  {
   "cell_type": "code",
   "execution_count": 92,
   "metadata": {},
   "outputs": [
    {
     "data": {
      "text/plain": [
       "0.6311010424815219"
      ]
     },
     "execution_count": 92,
     "metadata": {},
     "output_type": "execute_result"
    }
   ],
   "source": [
    "r2_score(y_test, y_pred)"
   ]
  },
  {
   "cell_type": "code",
   "execution_count": 93,
   "metadata": {
    "scrolled": true
   },
   "outputs": [
    {
     "data": {
      "text/plain": [
       "6.01868098376554"
      ]
     },
     "execution_count": 93,
     "metadata": {},
     "output_type": "execute_result"
    }
   ],
   "source": [
    "mean_squared_error(y_test, y_pred)"
   ]
  },
  {
   "cell_type": "markdown",
   "metadata": {},
   "source": [
    "- 국방/외교 지수 계산 모델(elastic_defence_diplo)을 ElasticNetCV로 생성한 결과,\n",
    "- 결정계수는 0.63이고 MSE 값은 6.02 이었음\n",
    "- 가장 성능이 우수한 모델이 이었는데, 이는 국방/외교에 대한 기사들이 다른 기사들보다 쉽게 구분되는 주제이었기 때문이었을거라고 사료됨."
   ]
  },
  {
   "cell_type": "markdown",
   "metadata": {},
   "source": [
    "##### 국빙/외교 지수 예측 모델(elastic_defence_diplo) 예측값과 labeled 데이터값간의 차이를 시각화"
   ]
  },
  {
   "cell_type": "code",
   "execution_count": 94,
   "metadata": {
    "collapsed": true
   },
   "outputs": [],
   "source": [
    "df_compare = pd.DataFrame({\"y_pred\" : y_pred.tolist(), \"y_labeled\" : y_test.tolist()})"
   ]
  },
  {
   "cell_type": "code",
   "execution_count": 95,
   "metadata": {
    "collapsed": true
   },
   "outputs": [],
   "source": [
    "df_compare[\"x_axis\"] = df_compare.index.tolist()\n",
    "df_compare =  df_compare[[\"x_axis\", \"y_labeled\", \"y_pred\"]]"
   ]
  },
  {
   "cell_type": "code",
   "execution_count": 96,
   "metadata": {
    "scrolled": true
   },
   "outputs": [
    {
     "data": {
      "image/png": "[encoded data removed]",
      "text/plain": [
       "<matplotlib.figure.Figure at 0x22654970e80>"
      ]
     },
     "metadata": {},
     "output_type": "display_data"
    }
   ],
   "source": [
    "sns.set(style = \"whitegrid\")\n",
    "f, ax = plt.subplots(figsize = (20, 10))\n",
    "\n",
    "sns.set_color_codes(\"pastel\")\n",
    "sns.barplot(x = \"x_axis\", y = \"y_labeled\", data = df_compare, label = \"labeled\", color = \"b\")\n",
    "sns.barplot(x = \"x_axis\", y = \"y_pred\", data = df_compare, label = \"pred\", color = \"r\", alpha = 0.3)\n",
    "\n",
    "ax.legend(ncol = 2, loc = \"upper right\", frameon = True)\n",
    "ax.set(xlim = (0, 73), ylabel = \"\", xlabel = \"Test Data\")\n",
    "sns.despine(left = True, bottom = True)"
   ]
  },
  {
   "cell_type": "markdown",
   "metadata": {},
   "source": [
    "##### Politic(정치일반)지수 산출 모델 생성"
   ]
  },
  {
   "cell_type": "code",
   "execution_count": 97,
   "metadata": {
    "collapsed": true
   },
   "outputs": [],
   "source": [
    "# 정치일반 지수를 TermDocumentMatrix에 붙어 데이터셋으르 생성\n",
    "\n",
    "df_politic_1 = pd.DataFrame({\"Politic_y\" : list(labeled_data[\"Politic\"])})\n",
    "df_politic = pd.concat([df_tfidf, df_politic_1['Politic_y']], axis=1)"
   ]
  },
  {
   "cell_type": "code",
   "execution_count": 98,
   "metadata": {
    "collapsed": true
   },
   "outputs": [],
   "source": [
    "X = df_politic.drop([\"Politic_y\"], axis=1)\n",
    "y = df_politic[\"Politic_y\"]"
   ]
  },
  {
   "cell_type": "code",
   "execution_count": 99,
   "metadata": {
    "collapsed": true
   },
   "outputs": [],
   "source": [
    "## Data Spliting\n",
    "X_train, X_test, y_train, y_test  = train_test_split(X, y, test_size=0.2, random_state = 1234)"
   ]
  },
  {
   "cell_type": "code",
   "execution_count": 100,
   "metadata": {
    "collapsed": true
   },
   "outputs": [],
   "source": [
    "## Modeling Training\n",
    "\n",
    "from sklearn.linear_model import ElasticNetCV"
   ]
  },
  {
   "cell_type": "code",
   "execution_count": 101,
   "metadata": {
    "collapsed": true
   },
   "outputs": [],
   "source": [
    "elastic_politic = ElasticNetCV(cv=3, random_state=0)"
   ]
  },
  {
   "cell_type": "code",
   "execution_count": 102,
   "metadata": {
    "scrolled": true
   },
   "outputs": [
    {
     "data": {
      "text/plain": [
       "ElasticNetCV(alphas=None, copy_X=True, cv=3, eps=0.001, fit_intercept=True,\n",
       "       l1_ratio=0.5, max_iter=1000, n_alphas=100, n_jobs=1,\n",
       "       normalize=False, positive=False, precompute='auto', random_state=0,\n",
       "       selection='cyclic', tol=0.0001, verbose=0)"
      ]
     },
     "execution_count": 102,
     "metadata": {},
     "output_type": "execute_result"
    }
   ],
   "source": [
    "elastic_politic.fit(X_train, y_train)"
   ]
  },
  {
   "cell_type": "code",
   "execution_count": 103,
   "metadata": {
    "collapsed": true
   },
   "outputs": [],
   "source": [
    "y_pred = elastic_politic.predict(X_test)"
   ]
  },
  {
   "cell_type": "code",
   "execution_count": 104,
   "metadata": {
    "collapsed": true
   },
   "outputs": [],
   "source": [
    "## Model evaluation\n",
    "\n",
    "from sklearn.metrics import r2_score, mean_squared_error"
   ]
  },
  {
   "cell_type": "code",
   "execution_count": 105,
   "metadata": {},
   "outputs": [
    {
     "data": {
      "text/plain": [
       "0.17361207263422473"
      ]
     },
     "execution_count": 105,
     "metadata": {},
     "output_type": "execute_result"
    }
   ],
   "source": [
    "r2_score(y_test, y_pred)"
   ]
  },
  {
   "cell_type": "code",
   "execution_count": 106,
   "metadata": {
    "scrolled": true
   },
   "outputs": [
    {
     "data": {
      "text/plain": [
       "9.75072623323423"
      ]
     },
     "execution_count": 106,
     "metadata": {},
     "output_type": "execute_result"
    }
   ],
   "source": [
    "mean_squared_error(y_test, y_pred)"
   ]
  },
  {
   "cell_type": "markdown",
   "metadata": {},
   "source": [
    "- 정치 일반 지수 예측 모델(elastic_politic)의 결정계수는 0.17이고,  MSE 값은 9.75 임\n",
    "- 결정계수 값이 0.17으로 모델이 데이터를 거의 설명하지 못하고 있음\n",
    "- 정치일반이라는 주제가 행정과 같이 다른 주제들과 비교시 그 의미가 추상적이고 광범위하여 모델이 값을 예측하기 곤란했을 거라 사료됨"
   ]
  },
  {
   "cell_type": "markdown",
   "metadata": {},
   "source": [
    "##### 정치일반지수 예측모델(elastic_politic) 예측값과 labeled 데이터값간의 차이를 시각화"
   ]
  },
  {
   "cell_type": "code",
   "execution_count": 107,
   "metadata": {
    "collapsed": true
   },
   "outputs": [],
   "source": [
    "df_compare = pd.DataFrame({\"y_pred\" : y_pred.tolist(), \"y_labeled\" : y_test.tolist()})"
   ]
  },
  {
   "cell_type": "code",
   "execution_count": 108,
   "metadata": {
    "collapsed": true
   },
   "outputs": [],
   "source": [
    "df_compare[\"x_axis\"] = df_compare.index.tolist()\n",
    "df_compare =  df_compare[[\"x_axis\", \"y_labeled\", \"y_pred\"]]"
   ]
  },
  {
   "cell_type": "code",
   "execution_count": 109,
   "metadata": {
    "scrolled": true
   },
   "outputs": [
    {
     "data": {
      "image/png": "[encoded data removed]",
      "text/plain": [
       "<matplotlib.figure.Figure at 0x2265464f908>"
      ]
     },
     "metadata": {},
     "output_type": "display_data"
    }
   ],
   "source": [
    "sns.set(style = \"whitegrid\")\n",
    "f, ax = plt.subplots(figsize = (20, 10))\n",
    "\n",
    "sns.set_color_codes(\"pastel\")\n",
    "sns.barplot(x = \"x_axis\", y = \"y_labeled\", data = df_compare, label = \"labeled\", color = \"b\")\n",
    "sns.barplot(x = \"x_axis\", y = \"y_pred\", data = df_compare, label = \"pred\", color = \"r\", alpha = 0.3)\n",
    "\n",
    "ax.legend(ncol = 2, loc = \"upper right\", frameon = True)\n",
    "ax.set(xlim = (0, 73), ylabel = \"\", xlabel = \"Test Data\")\n",
    "sns.despine(left = True, bottom = True)"
   ]
  },
  {
   "cell_type": "markdown",
   "metadata": {},
   "source": [
    "##### 임의의 파일 가져오기와 각 모델에 대입, 각 지수 산출해보기"
   ]
  },
  {
   "cell_type": "code",
   "execution_count": 110,
   "metadata": {},
   "outputs": [],
   "source": [
    "# \"20170101_朴대통령 뇌물죄, 완전히 엮은 것…세월호 허위 걷혀야(종합).txt\" 파일은 2017.01.01 2위 뉴스를 가져온 파일임.\n",
    "with open(\"./test_news/20170101_7시간해명 집중한 대통령...돌연 기자 간담회, 왜.txt\", \"rb\") as data:\n",
    "    data = data.read()\n",
    "    data = data.decode(\"utf-8\")"
   ]
  },
  {
   "cell_type": "code",
   "execution_count": 111,
   "metadata": {
    "scrolled": true
   },
   "outputs": [
    {
     "data": {
      "text/plain": [
       "'\\ufeff[앵커]\\r\\n\\r\\n그럼 오늘(1일) 박근혜 대통령의 기자 간담회에 참여해서 주장을 직접 듣고 온 정치부 윤설영 기자와 자세한 얘기 나눠보겠습니다.\\r\\n\\r\\n윤 기자, 오늘 박 대통령이 모습을 보인 것이 3차 대국민 담화 이후 처음이었죠. (네, 그렇습니다.) 한 달 여 만에 모습을 드러낸 것이어서 많은 분들이 관심을 갖고 지켜봤습니다. 오늘 박 대통령이 한 얘기 가운데 세월호 7시간 의혹, 이 부분이 가장 비중이 컸던 것 같습니다.\\r\\n\\r\\n[기자]\\r\\n\\r\\n네, 박 대통령은 세월호 7시간 부분에 대해 제기되고 있는 의혹에 대해서 한마디로 전면 부인을 했습니다. 새로운 팩트를 앞세우기보다는 강한 표현으로 대체했습니다.\\r\\n\\r\\n왜곡과 오보 또 허위가 남발이 된다고 주장했습니다. 실은 어떤 게 왜곡이고 어떤게 허위라는건지에 대해서는 구체적인 팩트라든가 이를 뒷받침할만한 근거를 제시하지는 않았습니다. \\r\\n\\r\\n세월호 참사 7시간 문제는 한두 언론이 아니라 사실상 모든 언론이 제기했던 다양한 의혹들이 있는데 이를 한마디로 허위 남발이라고 말한 겁니다 \\r\\n\\r\\n[앵커]\\r\\n\\r\\n\"대통령으로서 할 일은 했다\"고 하면서도 관저 출근을 하지 않은 점은 인정을 한 것이거든요?\\r\\n\\r\\n[기자]\\r\\n\\r\\n네, 세월호 당일 왜 관저에만 있었냐는 기자의 질문에, 박 대통령은 현장은 바쁠 것 같아 본관에 가지 않았다고 밝혔는데요. \\r\\n\\r\\n관저에서 30~40분에 한 번씩 전화로 보고도 받고 지시도 했다, 그리고 다른 업무도 같이 봤다고 말했는데요.\\r\\n\\r\\n대형 국가적 참사에 대응해야할 최종 책임자가 바로 대통령인데 본관에 출근해서 회의를 주재하고 직접 지휘를 하면 업무에 차질이 빚어질 것 같아서 안 했다는 해명인데, 아무리 봐도 이해가 어려운 부분입니다. \\r\\n\\r\\n[앵커]\\r\\n\\r\\n관저에서는 어떤 조치를 했다고 했습니까?\\r\\n\\r\\n[기자]\\r\\n\\r\\n구체적으로 어떤 보고를 받고 어떻게 지휘했는지도 오늘 해명에는 없었습니다. \\r\\n\\r\\n그러니까 이전에 청와대 대변인이 주장을 했던 내용에서 진전된 내용은 없이 정상적으로 일했다는 주장을 반복한 건데요.\\r\\n\\r\\n특히 중대본에 바로 가지 않은 것에 대해선 \"경호실에서 필수시간이 필요하다고 해서 마음대로 움직이지 못했다\"고 말했습니다.\\r\\n\\r\\n경호의 특수성을 감안한다 하더라도 2시간동안 움직이지 못했다는 것은 이해하기 힘들다는 지적이 나옵니다.\\r\\n\\r\\n[앵커]\\r\\n\\r\\n오늘 대통령이 한 말 중에 눈에 띄는 것이 \\'철학과 소신\\' 인데요. 처음 나온 말이죠?\\r\\n\\r\\n[기자]\\r\\n\\r\\n대통령은 각종 의혹에 대해 \"국정운영의 철학과 소신을 갖고 쭉 해온 일이다\"라고 했습니다. \\r\\n\\r\\n대통령의 해명은 담화 때마다 말이 조금씩 바뀌고 있는데요. 검찰 수사 상황하고도 연관이 되는 걸로 보입니다. \\r\\n\\r\\n처음 대국민 담화 때는 \"꼼꼼하게 챙겨보고자 하는 순수한 마음으로 한 일이다\"라고 했다가, 3차 때는 \"사익을 추구하지 않았고 작은 사심도 품지 않았다\"라고 주장해왔는데, 본격적인 탄핵심리를 앞두고 \\'철학과 소신\\'에 따른 것이라는 논리를 들고 나온 것으로 보입니다.\\r\\n\\r\\n[앵커]\\r\\n\\r\\n따로 이유가 있습니까? \\r\\n\\r\\n[기자]\\r\\n\\r\\n모든 것이 철학과 소신에 따른 것이라고 주장하는 것은 최순실 씨의 국정농단 의혹 등 여러 부분이 통치행위의 일환이었다고 주장하려는 의도로 풀이됩니다. \\r\\n\\r\\n즉 통치행위이기 때문에 특검 수사를 통해 처벌할 수도 없고 탄핵의 대상도 안 된다는 주장을 펴기 위한 것이라는 지적입니다. \\r\\n\\r\\n특히 담화를 통해 해명을 하고 난 뒤에 계속해서 새로운 의혹, 예를 들면 국가적 이익이라고 했는데 최순실씨 딸 친구 부모 기업을 지원하도록 한 부분 등이 새롭게 나타난 건데요.\\r\\n\\r\\n이를 모두 포괄적이고 애매한 용어로 해명하려는 게 아니냐는 해석이 나옵니다. \\r\\n\\r\\n[앵커]\\r\\n\\r\\n그런데 오늘 이렇게 새해 첫날부터 간담회를 연 배경은 뭘까요?\\r\\n\\r\\n[기자]\\r\\n\\r\\n오늘 박 대통령의 기자간담회는 모레 헌법재판소의 탄핵 첫 변론 기일을 이틀 앞두고 열렸는데요. \\r\\n\\r\\n헌법재판소에서 여러 탄핵소추 사유에 대해서 사실 관계를 다퉈 우선 헌법재판소의 심리를 지연시키고 최종적으로는 탄핵 기각을 노린 것으로 풀이됩니다. \\r\\n\\r\\n실제 박 대통령은 헌재에서 여러 허위가 좀 거둬졌으면 하고 생각한다고 말하기도 했습니다. \\r\\n\\r\\n오늘 자리는 박 대통령 본인의 강력한 의지에 의한 것이었다고 청와대 관계자의 설명이 있었습니다. \\r\\n\\r\\n[앵커]\\r\\n\\r\\n박 대통령의 기자간담회가 예정이 돼 있었던 건 아니죠? 15분 전에 전해들었다고요?\\r\\n\\r\\n[기자]\\r\\n\\r\\n네, 오늘 점심에 한광옥 대통령비서실장이 새해를 맞아 기자들과 떡국을 먹었습니다. 그런데 이 자리에서 갑자기 박 대통령 기자간담회가 공지 됐습니다. \\r\\n\\r\\n청와대 측은 \"정식 기자간담회가 아니다\"라면서 기자들이 노트북도 갖고 들어가지 못하게 했는데요. \\r\\n\\r\\n하지만 대통령은 40분 넘게 그동안 제기된 의혹에 대해 하고싶은 말은 다 하는 분위기였습니다. \\r\\n\\r\\n지난 금요일 대통령이 처음으로 변호인단과 첫 미팅을 가졌는데, 변호인단과도 치밀하게 준비를 한 모습이었습니다.\\r\\n\\r\\n[앵커]\\r\\n\\r\\n일단 기자들은 노트북도 가지고 들어가지 못했고, 촬영도 청와대에서 자체적으로 해서 보내준 것을 저희가 받은 것이고요. 알겠습니다. 정치부 윤설영 기자였습니다.\\r\\n\\r\\n윤설영'"
      ]
     },
     "execution_count": 111,
     "metadata": {},
     "output_type": "execute_result"
    }
   ],
   "source": [
    "data"
   ]
  },
  {
   "cell_type": "code",
   "execution_count": 112,
   "metadata": {
    "collapsed": true
   },
   "outputs": [],
   "source": [
    "df_test_doc = pd.DataFrame({\"Content\" : [data]})"
   ]
  },
  {
   "cell_type": "code",
   "execution_count": 113,
   "metadata": {
    "collapsed": true
   },
   "outputs": [],
   "source": [
    "test_doc_data_list = df_test_doc[\"Content\"].astype(str).tolist()\n",
    "test_doc_data_arr = np.array([\"\".join(text) for text in test_doc_data_list])"
   ]
  },
  {
   "cell_type": "code",
   "execution_count": 114,
   "metadata": {},
   "outputs": [
    {
     "name": "stderr",
     "output_type": "stream",
     "text": [
      "C:\\Users\\Daniel\\Anaconda3\\lib\\site-packages\\sklearn\\feature_extraction\\text.py:1059: FutureWarning: Conversion of the second argument of issubdtype from `float` to `np.floating` is deprecated. In future, it will be treated as `np.float64 == np.dtype(float).type`.\n",
      "  if hasattr(X, 'dtype') and np.issubdtype(X.dtype, np.float):\n"
     ]
    }
   ],
   "source": [
    "vectorizer = TfidfVectorizer(max_df = 2, tokenizer=kor_noun, norm = 'l2')\n",
    "test_doc_data = vectorizer.fit_transform(test_doc_data_arr)"
   ]
  },
  {
   "cell_type": "code",
   "execution_count": 115,
   "metadata": {
    "scrolled": true
   },
   "outputs": [
    {
     "data": {
      "text/plain": [
       "(1, 157)"
      ]
     },
     "execution_count": 115,
     "metadata": {},
     "output_type": "execute_result"
    }
   ],
   "source": [
    "test_doc_df_tfidf = pd.DataFrame(test_doc_data.A, columns = vectorizer.get_feature_names())\n",
    "test_doc_df_tfidf.shape"
   ]
  },
  {
   "cell_type": "markdown",
   "metadata": {},
   "source": [
    "#####  임의로 선택된 데이터(data)에서 형성된 Tfidf를  지수 각 6개 산출 모델(regr_bh)에 대입 후 점수 산출  하기 "
   ]
  },
  {
   "cell_type": "code",
   "execution_count": 116,
   "metadata": {
    "collapsed": true
   },
   "outputs": [],
   "source": [
    "X_test_doc = test_doc_df_tfidf"
   ]
  },
  {
   "cell_type": "markdown",
   "metadata": {},
   "source": [
    "##### 모델을 생성시 사용한 TermDocumentMatrix의 단어는 4412개 이어서 새로 대입되는 data의 TDM(단어컬럼수가 157개)을 기존 훈련 데이터 형식과 맞추는 작업이 필요\n",
    " - 대입되는 data의 tfidf 데이터 프레임을 transpose하고 index를 새로운 \"words\"컬럼에 삽입하고 동 tfdif 내 값들을 \"weight\" 컬럼으로 정의하여 새로운 데이터 프레임 df_2를 정의\n",
    " - 모델 생성시 사용했던 df_tfidf의 컬럼 이름들을 새로운 \"words\" 컬럼에 삽입하여 새로운 데이터 프레임 df_3를 정의\n",
    " - df_3를 기준으로 키값 \"words\"에 대해 \"left outer\" 조인 시행 후 데이터 프레임 \"merged_df_4\"를 정의\n",
    " - \"merged_df_4\" DF의 index를 \"words\" 컬럼으로 대체하고 \"words\" 컬럼으로 삭제 후 새로운 데이터 프레임 \"df_4\"를 정의\n",
    " - \"df_4\"를 다시 tranpose하고 NaN값들을 0으로 대체하여 최종 모델에 대입할 \"X_test_doc\" 데이터를 생성"
   ]
  },
  {
   "cell_type": "code",
   "execution_count": 117,
   "metadata": {
    "collapsed": true
   },
   "outputs": [],
   "source": [
    "# 대입되는 data의 tfidf를 transpose하고 index를 새로운 \"words\"컬럼에 삽입, 동 tfdif 내 값들을 \"weight\" 컬럼으로 하여 최종 새로운 데이터 프레임 df_2를 정의\n",
    "df_2 = test_doc_df_tfidf.transpose()\n",
    "df_2[\"words\"] = df_2.index\n",
    "df_2 = df_2.rename(columns = {0 : \"weights\"})\n",
    "df_2_list = df_2[\"words\"].tolist()"
   ]
  },
  {
   "cell_type": "code",
   "execution_count": 118,
   "metadata": {
    "collapsed": true
   },
   "outputs": [],
   "source": [
    "# 모델 생성시 사용했던 df_tfidf의 컬럼 이름들을 새로운 \"words\" 컬럼에 삽입하여 새로운 데이터 프레임 df_3를 정의\n",
    "df_large_words = pd.DataFrame(df_tfidf.columns.values, columns = [\"words\"])\n",
    "df_3 = df_large_words\n",
    "df_3_list = df_3[\"words\"].tolist()"
   ]
  },
  {
   "cell_type": "code",
   "execution_count": 119,
   "metadata": {},
   "outputs": [
    {
     "data": {
      "text/plain": [
       "147"
      ]
     },
     "execution_count": 119,
     "metadata": {},
     "output_type": "execute_result"
    }
   ],
   "source": [
    "## large words set 과 small words set의 교집합 범위는 143개, 즉 data의 단어 컬럼수가 157개에서 143개로 감소하였음에 유의\n",
    "len(set(df_2_list) & set(df_3_list))"
   ]
  },
  {
   "cell_type": "code",
   "execution_count": 120,
   "metadata": {},
   "outputs": [
    {
     "data": {
      "text/plain": [
       "{'건지', '남발', '노트북', '미팅', '사심', '새해 첫날', '순수한 마음', '정치부', '통치행위', '한광옥'}"
      ]
     },
     "execution_count": 120,
     "metadata": {},
     "output_type": "execute_result"
    }
   ],
   "source": [
    "set(df_2_list) - (set(df_2_list) & set(df_3_list)) # 대입될 데이터에는 있지만 훈련용 데이터 셋에는 없는 단어 집합 확인(tfidf)"
   ]
  },
  {
   "cell_type": "code",
   "execution_count": 121,
   "metadata": {
    "collapsed": true
   },
   "outputs": [],
   "source": [
    "# \"merged_df_4\" DF의 index를 \"words\" 컬럼으로 대체하고 \"words\" 컬럼으로 삭제 후 새로운 데이터 프레임 \"df_4\"를 정의\n",
    "merged_df_4 = pd.merge(df_3, df_2[[\"weights\", \"words\"]], how = \"left\", on = [\"words\"])"
   ]
  },
  {
   "cell_type": "code",
   "execution_count": 122,
   "metadata": {
    "collapsed": true
   },
   "outputs": [],
   "source": [
    "# \"df_4\"를 다시 tranpose하고 NaN값들을 0으로 대체하여 최종 모델에 대입할 \"X_test_doc\" 데이터를 생성\n",
    "merged_df_4.index =merged_df_4[\"words\"].tolist()\n",
    "df_4 = merged_df_4.drop([\"words\"], axis = 1)\n",
    "X_test_doc = df_4.transpose().fillna(0)"
   ]
  },
  {
   "cell_type": "code",
   "execution_count": 123,
   "metadata": {},
   "outputs": [
    {
     "data": {
      "text/html": [
       "<div>\n",
       "<style>\n",
       "    .dataframe thead tr:only-child th {\n",
       "        text-align: right;\n",
       "    }\n",
       "\n",
       "    .dataframe thead th {\n",
       "        text-align: left;\n",
       "    }\n",
       "\n",
       "    .dataframe tbody tr th {\n",
       "        vertical-align: top;\n",
       "    }\n",
       "</style>\n",
       "<table border=\"1\" class=\"dataframe\">\n",
       "  <thead>\n",
       "    <tr style=\"text-align: right;\">\n",
       "      <th></th>\n",
       "      <th>12월 14일</th>\n",
       "      <th>1시간</th>\n",
       "      <th>1월 2일</th>\n",
       "      <th>2007년 남북정상회담</th>\n",
       "      <th>2010년 9월</th>\n",
       "      <th>2012년 10월</th>\n",
       "      <th>2012년 12월</th>\n",
       "      <th>2013년 10월</th>\n",
       "      <th>2013년 12월</th>\n",
       "      <th>2013년 1월</th>\n",
       "      <th>...</th>\n",
       "      <th>휴전선</th>\n",
       "      <th>휴정</th>\n",
       "      <th>휴학</th>\n",
       "      <th>흐름</th>\n",
       "      <th>흔적</th>\n",
       "      <th>흡수</th>\n",
       "      <th>희망</th>\n",
       "      <th>희생</th>\n",
       "      <th>희생자</th>\n",
       "      <th>흰색</th>\n",
       "    </tr>\n",
       "  </thead>\n",
       "  <tbody>\n",
       "    <tr>\n",
       "      <th>weights</th>\n",
       "      <td>0.0</td>\n",
       "      <td>0.0</td>\n",
       "      <td>0.0</td>\n",
       "      <td>0.0</td>\n",
       "      <td>0.0</td>\n",
       "      <td>0.0</td>\n",
       "      <td>0.0</td>\n",
       "      <td>0.0</td>\n",
       "      <td>0.0</td>\n",
       "      <td>0.0</td>\n",
       "      <td>...</td>\n",
       "      <td>0.0</td>\n",
       "      <td>0.0</td>\n",
       "      <td>0.0</td>\n",
       "      <td>0.0</td>\n",
       "      <td>0.0</td>\n",
       "      <td>0.0</td>\n",
       "      <td>0.0</td>\n",
       "      <td>0.0</td>\n",
       "      <td>0.0</td>\n",
       "      <td>0.0</td>\n",
       "    </tr>\n",
       "  </tbody>\n",
       "</table>\n",
       "<p>1 rows × 4412 columns</p>\n",
       "</div>"
      ],
      "text/plain": [
       "         12월 14일  1시간  1월 2일  2007년 남북정상회담  2010년 9월  2012년 10월  2012년 12월  \\\n",
       "weights      0.0  0.0    0.0           0.0       0.0        0.0        0.0   \n",
       "\n",
       "         2013년 10월  2013년 12월  2013년 1월 ...   휴전선   휴정   휴학   흐름   흔적   흡수  \\\n",
       "weights        0.0        0.0       0.0 ...   0.0  0.0  0.0  0.0  0.0  0.0   \n",
       "\n",
       "          희망   희생  희생자   흰색  \n",
       "weights  0.0  0.0  0.0  0.0  \n",
       "\n",
       "[1 rows x 4412 columns]"
      ]
     },
     "execution_count": 123,
     "metadata": {},
     "output_type": "execute_result"
    }
   ],
   "source": [
    "# 훈련용 데이터셋에서 사용된 단어컬럼들의 형식으로 재정의\n",
    "X_test_doc"
   ]
  },
  {
   "cell_type": "markdown",
   "metadata": {},
   "source": [
    "##### 각  지출 모델에 대입하여 점수 확인"
   ]
  },
  {
   "cell_type": "code",
   "execution_count": 124,
   "metadata": {},
   "outputs": [
    {
     "data": {
      "text/plain": [
       "8.595485090973739"
      ]
     },
     "execution_count": 124,
     "metadata": {},
     "output_type": "execute_result"
    }
   ],
   "source": [
    "elastic_bh.predict(X_test_doc)[0]"
   ]
  },
  {
   "cell_type": "code",
   "execution_count": 125,
   "metadata": {},
   "outputs": [
    {
     "data": {
      "text/plain": [
       "3.4408796129761843"
      ]
     },
     "execution_count": 125,
     "metadata": {},
     "output_type": "execute_result"
    }
   ],
   "source": [
    "elastic_con_party.predict(X_test_doc)[0]"
   ]
  },
  {
   "cell_type": "code",
   "execution_count": 126,
   "metadata": {},
   "outputs": [
    {
     "data": {
      "text/plain": [
       "-1.5028328371933684"
      ]
     },
     "execution_count": 126,
     "metadata": {},
     "output_type": "execute_result"
    }
   ],
   "source": [
    "elastic_north.predict(X_test_doc)[0]"
   ]
  },
  {
   "cell_type": "code",
   "execution_count": 127,
   "metadata": {},
   "outputs": [
    {
     "data": {
      "text/plain": [
       "0.4143353233798872"
      ]
     },
     "execution_count": 127,
     "metadata": {},
     "output_type": "execute_result"
    }
   ],
   "source": [
    "elastic_admin.predict(X_test_doc)[0]"
   ]
  },
  {
   "cell_type": "markdown",
   "metadata": {},
   "source": [
    "##### 국방/외교 지수 산출 모델에 대입하여 국방/외교 지수 산출"
   ]
  },
  {
   "cell_type": "code",
   "execution_count": 128,
   "metadata": {},
   "outputs": [
    {
     "data": {
      "text/plain": [
       "0.1516826872381194"
      ]
     },
     "execution_count": 128,
     "metadata": {},
     "output_type": "execute_result"
    }
   ],
   "source": [
    "elastic_defence_diplo.predict(X_test_doc)[0]"
   ]
  },
  {
   "cell_type": "markdown",
   "metadata": {},
   "source": [
    "##### 정치일반 지수 산출 모델에 대입하여 정치일반 지수 산출"
   ]
  },
  {
   "cell_type": "code",
   "execution_count": 129,
   "metadata": {},
   "outputs": [
    {
     "data": {
      "text/plain": [
       "3.1516784101620874"
      ]
     },
     "execution_count": 129,
     "metadata": {},
     "output_type": "execute_result"
    }
   ],
   "source": [
    "elastic_politic.predict(X_test_doc)[0]"
   ]
  },
  {
   "cell_type": "markdown",
   "metadata": {},
   "source": [
    "- 가장 높은 점수는 8.59인 청와대 지수 점수 이므로 data는 청와대와 관련이 있는 뉴스로 판단 가능"
   ]
  },
  {
   "cell_type": "markdown",
   "metadata": {
    "collapsed": true
   },
   "source": [
    "##### 6개 지수 자동 산출 함수 생성"
   ]
  },
  {
   "cell_type": "code",
   "execution_count": 130,
   "metadata": {
    "collapsed": true
   },
   "outputs": [],
   "source": [
    "def auto_6_scores_of_text(fname):\n",
    "    \n",
    "    ## \".txt 파일 읽어오기\" #################################################################\n",
    "    with open(fname, \"rb\") as data:\n",
    "        data = data.read()\n",
    "        data = data.decode(\"utf-8\")\n",
    "\n",
    "    ## 읽은 파일 내용에 대한 tfidf DataFrame 만들기 ##########################################\n",
    "    df_test_doc = pd.DataFrame({\"Content\"  : [data]})\n",
    "    test_doc_data_list = df_test_doc[\"Content\"].astype(str).tolist()\n",
    "    test_doc_data_arr = np.array([\"\".join(text) for text in test_doc_data_list])\n",
    "    vectorizer = TfidfVectorizer(max_df = 2, tokenizer = kor_noun, norm = 'l2')\n",
    "    test_doc_data = vectorizer.fit_transform(test_doc_data_arr)\n",
    "    test_doc_df_tfidf = pd.DataFrame(test_doc_data.A, columns = vectorizer.get_feature_names())\n",
    "    \n",
    "    ## X_test_doc 데이터 포맷을 모델의 입력 데이터 포맷과 일치하는 작업 ###########################\n",
    "    \n",
    "    ## 읽은 데이터에 대한 부분 단어 데이터 프레임 만들기\n",
    "    df_partial_words = test_doc_df_tfidf.transpose()\n",
    "    df_partial_words[\"words\"] = df_partial_words.index\n",
    "    df_partial_words = df_partial_words.rename(columns = {0 : \"weights\"})\n",
    "    \n",
    "    ## 전체 단어 데이터 프레임(left)과 부분 단어 데이터 프레임(right)를 서로 \"left outer join\"\n",
    "    df_total_words = pd.DataFrame(df_tfidf.columns.values, columns = [\"words\"])\n",
    "    merged_total_partial_df_by_words = pd.merge(df_total_words,\n",
    "                                                df_partial_words[[\"weights\", \"words\"]],\n",
    "                                                how = \"left\",\n",
    "                                                on = [\"words\"])\n",
    "    \n",
    "    ## \"left outer\" 조인 후 인덱스를 전체 단어로 대체\n",
    "    merged_total_partial_df_by_words.index = merged_total_partial_df_by_words[\"words\"].tolist()\n",
    "    \n",
    "    ## \"words\" 컬럼 삭제\n",
    "    total_partial_df_by_words = merged_total_partial_df_by_words.drop([\"words\"], axis = 1)\n",
    "    \n",
    "    ## \"transpose()\"하고 \"NaN\" 갑을 0으로 대체, 최종 모델 입력 데이터 생성\n",
    "    X_test_doc = total_partial_df_by_words.transpose().fillna(0)\n",
    "    \n",
    "    ## 각 모델별 지수 산출 #################################################################\n",
    "    \n",
    "    ## 청와대(bh) 지수\n",
    "    BH_score = elastic_bh.predict(X_test_doc)[0]\n",
    "    print(\"청와대 지수 : \", BH_score)\n",
    "    \n",
    "    ## 국회/정당(con_party) 지수\n",
    "    Con_Party_score = elastic_con_party.predict(X_test_doc)[0]\n",
    "    print(\"국회/정당 지수 : \", Con_Party_score)\n",
    "    \n",
    "    ## 북한(north) 지수\n",
    "    North_score = elastic_north.predict(X_test_doc)[0]\n",
    "    print(\"북한 지수 : \", North_score)\n",
    "    \n",
    "    ## 행정(admin) 지수\n",
    "    Admin_score = elastic_admin.predict(X_test_doc)[0]\n",
    "    print(\"행정 지수 : \", Admin_score)\n",
    "    \n",
    "    ## 국방/외교(defence_diplo) 지수\n",
    "    Defence_diplo_score = elastic_defence_diplo.predict(X_test_doc)[0]\n",
    "    print(\"국방/외교 지수 : \", Defence_diplo_score)\n",
    "    \n",
    "    ## 정치(politic) 지수\n",
    "    Politic_score = elastic_politic.predict(X_test_doc)[0]\n",
    "    print(\"정치일반 지수 : \", Politic_score, \"\\n\")\n",
    "    \n",
    "    ## 각 지수 데이터 프레임 생성\n",
    "    global df_scores\n",
    "    global df_score_transposed\n",
    "    df_scores = pd.DataFrame.from_items([(\"BH\", [BH_score]),\n",
    "                                        (\"Con/Party\", [Con_Party_score]),\n",
    "                                        (\"North\", [North_score]),\n",
    "                                        (\"Admin\", [Admin_score]),\n",
    "                                        (\"Defense/Diplo\", [Defence_diplo_score]),\n",
    "                                        (\"Politic\", [Politic_score])])\n",
    "    df_score_index = [\"Scores\"]\n",
    "    df_scores.index =df_score_index\n",
    "    df_score_transposed = df_scores.transpose()"
   ]
  },
  {
   "cell_type": "code",
   "execution_count": 131,
   "metadata": {
    "scrolled": true
   },
   "outputs": [
    {
     "name": "stdout",
     "output_type": "stream",
     "text": [
      "청와대 지수 :  8.595485090973739\n",
      "국회/정당 지수 :  3.4408796129761843\n",
      "북한 지수 :  -1.5028328371933684\n",
      "행정 지수 :  0.4143353233798872\n",
      "국방/외교 지수 :  0.1516826872381194\n",
      "정치일반 지수 :  3.1516784101620874 \n",
      "\n"
     ]
    },
    {
     "name": "stderr",
     "output_type": "stream",
     "text": [
      "C:\\Users\\Daniel\\Anaconda3\\lib\\site-packages\\sklearn\\feature_extraction\\text.py:1059: FutureWarning: Conversion of the second argument of issubdtype from `float` to `np.floating` is deprecated. In future, it will be treated as `np.float64 == np.dtype(float).type`.\n",
      "  if hasattr(X, 'dtype') and np.issubdtype(X.dtype, np.float):\n"
     ]
    }
   ],
   "source": [
    "auto_6_scores_of_text(\"./test_news/20170101_7시간해명 집중한 대통령...돌연 기자 간담회, 왜.txt\")"
   ]
  },
  {
   "cell_type": "code",
   "execution_count": 132,
   "metadata": {},
   "outputs": [
    {
     "data": {
      "text/html": [
       "<div>\n",
       "<style>\n",
       "    .dataframe thead tr:only-child th {\n",
       "        text-align: right;\n",
       "    }\n",
       "\n",
       "    .dataframe thead th {\n",
       "        text-align: left;\n",
       "    }\n",
       "\n",
       "    .dataframe tbody tr th {\n",
       "        vertical-align: top;\n",
       "    }\n",
       "</style>\n",
       "<table border=\"1\" class=\"dataframe\">\n",
       "  <thead>\n",
       "    <tr style=\"text-align: right;\">\n",
       "      <th></th>\n",
       "      <th>BH</th>\n",
       "      <th>Con/Party</th>\n",
       "      <th>North</th>\n",
       "      <th>Admin</th>\n",
       "      <th>Defense/Diplo</th>\n",
       "      <th>Politic</th>\n",
       "    </tr>\n",
       "  </thead>\n",
       "  <tbody>\n",
       "    <tr>\n",
       "      <th>Scores</th>\n",
       "      <td>8.595485</td>\n",
       "      <td>3.44088</td>\n",
       "      <td>-1.502833</td>\n",
       "      <td>0.414335</td>\n",
       "      <td>0.151683</td>\n",
       "      <td>3.151678</td>\n",
       "    </tr>\n",
       "  </tbody>\n",
       "</table>\n",
       "</div>"
      ],
      "text/plain": [
       "              BH  Con/Party     North     Admin  Defense/Diplo   Politic\n",
       "Scores  8.595485    3.44088 -1.502833  0.414335       0.151683  3.151678"
      ]
     },
     "execution_count": 132,
     "metadata": {},
     "output_type": "execute_result"
    }
   ],
   "source": [
    "df_scores"
   ]
  },
  {
   "cell_type": "markdown",
   "metadata": {},
   "source": [
    "##### 레이터 챠트 그리기"
   ]
  },
  {
   "cell_type": "code",
   "execution_count": 133,
   "metadata": {},
   "outputs": [
    {
     "data": {
      "text/html": [
       "<div>\n",
       "<style>\n",
       "    .dataframe thead tr:only-child th {\n",
       "        text-align: right;\n",
       "    }\n",
       "\n",
       "    .dataframe thead th {\n",
       "        text-align: left;\n",
       "    }\n",
       "\n",
       "    .dataframe tbody tr th {\n",
       "        vertical-align: top;\n",
       "    }\n",
       "</style>\n",
       "<table border=\"1\" class=\"dataframe\">\n",
       "  <thead>\n",
       "    <tr style=\"text-align: right;\">\n",
       "      <th></th>\n",
       "      <th>BH</th>\n",
       "      <th>Con/Party</th>\n",
       "      <th>North</th>\n",
       "      <th>Admin</th>\n",
       "      <th>Defense/Diplo</th>\n",
       "      <th>Politic</th>\n",
       "    </tr>\n",
       "  </thead>\n",
       "  <tbody>\n",
       "    <tr>\n",
       "      <th>Scores</th>\n",
       "      <td>8.595485</td>\n",
       "      <td>3.44088</td>\n",
       "      <td>-1.502833</td>\n",
       "      <td>0.414335</td>\n",
       "      <td>0.151683</td>\n",
       "      <td>3.151678</td>\n",
       "    </tr>\n",
       "  </tbody>\n",
       "</table>\n",
       "</div>"
      ],
      "text/plain": [
       "              BH  Con/Party     North     Admin  Defense/Diplo   Politic\n",
       "Scores  8.595485    3.44088 -1.502833  0.414335       0.151683  3.151678"
      ]
     },
     "execution_count": 133,
     "metadata": {},
     "output_type": "execute_result"
    }
   ],
   "source": [
    "df_scores"
   ]
  },
  {
   "cell_type": "code",
   "execution_count": 134,
   "metadata": {
    "collapsed": true
   },
   "outputs": [],
   "source": [
    "import matplotlib.pyplot as plt\n",
    "from math import pi\n",
    "% matplotlib inline"
   ]
  },
  {
   "cell_type": "code",
   "execution_count": 135,
   "metadata": {},
   "outputs": [
    {
     "data": {
      "text/plain": [
       "[<matplotlib.patches.Polygon at 0x226549c59b0>]"
      ]
     },
     "execution_count": 135,
     "metadata": {},
     "output_type": "execute_result"
    },
    {
     "data": {
      "image/png": "[encoded data removed]",
      "text/plain": [
       "<matplotlib.figure.Figure at 0x22654577ac8>"
      ]
     },
     "metadata": {},
     "output_type": "display_data"
    }
   ],
   "source": [
    "df_radar = df_scores.reset_index().rename(columns = {\"index\" : \"Group\"})\n",
    "categories_radar = list(df_radar)[1:]\n",
    "N_radar = len(categories_radar)\n",
    "\n",
    "values_radar = df_radar.loc[0].drop(\"Group\").values.flatten().tolist()\n",
    "values_radar += values_radar[:1]\n",
    "\n",
    "angles_radar = [n / float(N_radar)*2*pi for n in range(N_radar)]\n",
    "angles_radar += angles_radar[:1]\n",
    "\n",
    "ax_radar = plt.subplot(111, polar = True)\n",
    "\n",
    "plt.xticks(angles_radar[:-1], categories_radar, color = \"grey\", size = 8)\n",
    "\n",
    "ax_radar.set_rlabel_position(0)\n",
    "plt.yticks([1, 2, 3, 4, 5, 6, 7, 8, 9], \n",
    "          [\"1\", \"2\", \"3\", \"4\", \"5\", \"6\", \"7\", \"8\", \"9\"],\n",
    "          color = \"grey\", size = 7)\n",
    "plt.ylim(0, 10)\n",
    "\n",
    "ax_radar.plot(angles_radar, values_radar, linewidth = 1, linestyle = \"solid\")\n",
    "ax_radar.fill(angles_radar, values_radar, \"b\", alpha=0.1)"
   ]
  },
  {
   "cell_type": "code",
   "execution_count": 136,
   "metadata": {
    "collapsed": true
   },
   "outputs": [],
   "source": [
    "##### 점수 계산 및 레이터 챠트 함수 만들기"
   ]
  },
  {
   "cell_type": "code",
   "execution_count": 137,
   "metadata": {
    "collapsed": true
   },
   "outputs": [],
   "source": [
    "def auto_6_scores_radar_chart(fname):\n",
    "    \n",
    "    ## \".txt 파일 읽어오기\" #################################################################\n",
    "    with open(fname, \"rb\") as data:\n",
    "        data = data.read()\n",
    "        data = data.decode(\"utf-8\")\n",
    "\n",
    "    ## 읽은 파일 내용에 대한 tfidf DataFrame 만들기 ##########################################\n",
    "    df_test_doc = pd.DataFrame({\"Content\"  : [data]})\n",
    "    test_doc_data_list = df_test_doc[\"Content\"].astype(str).tolist()\n",
    "    test_doc_data_arr = np.array([\"\".join(text) for text in test_doc_data_list])\n",
    "    vectorizer = TfidfVectorizer(max_df = 2, tokenizer = kor_noun, norm = 'l2')\n",
    "    test_doc_data = vectorizer.fit_transform(test_doc_data_arr)\n",
    "    test_doc_df_tfidf = pd.DataFrame(test_doc_data.A, columns = vectorizer.get_feature_names())\n",
    "    \n",
    "    ## X_test_doc 데이터 포맷을 모델의 입력 데이터 포맷과 일치하는 작업 ###########################\n",
    "    \n",
    "    ## 읽은 데이터에 대한 부분 단어 데이터 프레임 만들기\n",
    "    df_partial_words = test_doc_df_tfidf.transpose()\n",
    "    df_partial_words[\"words\"] = df_partial_words.index\n",
    "    df_partial_words = df_partial_words.rename(columns = {0 : \"weights\"})\n",
    "    \n",
    "    ## 전체 단어 데이터 프레임(left)과 부분 단어 데이터 프레임(right)를 서로 \"left outer join\"\n",
    "    df_total_words = pd.DataFrame(df_tfidf.columns.values, columns = [\"words\"])\n",
    "    merged_total_partial_df_by_words = pd.merge(df_total_words,\n",
    "                                                df_partial_words[[\"weights\", \"words\"]],\n",
    "                                                how = \"left\",\n",
    "                                                on = [\"words\"])\n",
    "    \n",
    "    ## \"left outer\" 조인 후 인덱스를 전체 단어로 대체\n",
    "    merged_total_partial_df_by_words.index = merged_total_partial_df_by_words[\"words\"].tolist()\n",
    "    \n",
    "    ## \"words\" 컬럼 삭제\n",
    "    total_partial_df_by_words = merged_total_partial_df_by_words.drop([\"words\"], axis = 1)\n",
    "    \n",
    "    ## \"transpose()\"하고 \"NaN\" 갑을 0으로 대체, 최종 모델 입력 데이터 생성\n",
    "    X_test_doc = total_partial_df_by_words.transpose().fillna(0)\n",
    "    \n",
    "    ## 각 모델별 지수 산출 #################################################################\n",
    "    \n",
    "    ## 청와대(bh) 지수\n",
    "    if elastic_bh.predict(X_test_doc)[0] >= 0:\n",
    "        BH_score = elastic_bh.predict(X_test_doc)[0]\n",
    "    else:\n",
    "        BH_score = 0\n",
    "        \n",
    "    print(\"청와대 지수 : \", BH_score)\n",
    "    \n",
    "    ## 국회/정당(con_party) 지수\n",
    "    if elastic_con_party.predict(X_test_doc)[0] >= 0:\n",
    "        Con_Party_score = elastic_con_party.predict(X_test_doc)[0]\n",
    "    else:\n",
    "        Con_Party_score = 0\n",
    "\n",
    "    print(\"국회/정당 지수 : \", Con_Party_score)\n",
    "    \n",
    "    ## 북한(north) 지수\n",
    "    if elastic_north.predict(X_test_doc)[0] >= 0:\n",
    "        North_score = elastic_north.predict(X_test_doc)[0]\n",
    "    else:\n",
    "        North_score = 0\n",
    "        \n",
    "    print(\"북한 지수 : \", North_score)\n",
    "    \n",
    "    ## 행정(admin) 지수\n",
    "    if elastic_admin.predict(X_test_doc)[0] >= 0:\n",
    "        Admin_score = elastic_admin.predict(X_test_doc)[0]\n",
    "    else:\n",
    "        Admin_score = 0\n",
    "        \n",
    "    print(\"행정 지수 : \", Admin_score)\n",
    "    \n",
    "    ## 국방/외교(defence_diplo) 지수\n",
    "    if elastic_defence_diplo.predict(X_test_doc)[0] >= 0:\n",
    "        Defence_diplo_score = elastic_defence_diplo.predict(X_test_doc)[0]\n",
    "    else:\n",
    "        Defence_diplo_score = 0\n",
    "        \n",
    "    print(\"국방/외교 지수 : \", Defence_diplo_score)\n",
    "    \n",
    "    ## 정치(politic) 지수\n",
    "    if elastic_politic.predict(X_test_doc)[0] >= 0:\n",
    "        Politic_score = elastic_politic.predict(X_test_doc)[0]\n",
    "    else:\n",
    "        Politic_score = 0\n",
    "        \n",
    "    print(\"정치일반 지수 : \", Politic_score, \"\\n\\n\")\n",
    "    \n",
    "    ## 각 지수 데이터 프레임 생성\n",
    "    global df_scores\n",
    "    global df_score_transposed\n",
    "    df_scores = pd.DataFrame.from_items([(\"BH\", [BH_score]),\n",
    "                                        (\"Con/Party\", [Con_Party_score]),\n",
    "                                        (\"North\", [North_score]),\n",
    "                                        (\"Admin\", [Admin_score]),\n",
    "                                        (\"Defense/Diplo\", [Defence_diplo_score]),\n",
    "                                        (\"Politic\", [Politic_score])])\n",
    "    df_score_index = [\"Scores\"]\n",
    "    df_scores.index =df_score_index\n",
    "    df_score_transposed = df_scores.transpose()\n",
    "    \n",
    "    ## radar chart 그리기 ############################################################\n",
    "    df_radar = df_scores.reset_index().rename(columns = {\"index\" : \"Group\"})\n",
    "    categories_radar = list(df_radar)[1:]\n",
    "    N_radar = len(categories_radar)\n",
    "    \n",
    "    values_radar = df_radar.loc[0].drop(\"Group\").values.flatten().tolist()\n",
    "    values_radar += values_radar[:1]\n",
    "    \n",
    "    angles_radar = [n / float(N_radar)*2*pi for n in range(N_radar)]\n",
    "    angles_radar += angles_radar[:1]\n",
    "    \n",
    "    ax_radar = plt.subplot(111, polar = True)\n",
    "    plt.xticks(angles_radar[:-1], categories_radar, color = \"grey\", size = 8)\n",
    "    \n",
    "    ax_radar.set_rlabel_position(0)\n",
    "    plt.yticks([1, 2, 3, 4, 5, 6, 7, 8, 9], [\"1\", \"2\", \"3\", \"4\", \"5\", \"6\", \"7\", \"8\", \"9\"],\n",
    "          color = \"grey\", size = 7)\n",
    "    plt.ylim(0, 10)\n",
    "    \n",
    "    ax_radar.plot(angles_radar, values_radar, linewidth = 1, linestyle = \"solid\")\n",
    "    ax_radar.fill(angles_radar, values_radar, \"b\", alpha=0.1)"
   ]
  },
  {
   "cell_type": "code",
   "execution_count": 138,
   "metadata": {},
   "outputs": [
    {
     "name": "stdout",
     "output_type": "stream",
     "text": [
      "청와대 지수 :  8.595485090973739\n",
      "국회/정당 지수 :  3.4408796129761843\n",
      "북한 지수 :  0\n",
      "행정 지수 :  0.4143353233798872\n",
      "국방/외교 지수 :  0.1516826872381194\n",
      "정치일반 지수 :  3.1516784101620874 \n",
      "\n",
      "\n"
     ]
    },
    {
     "name": "stderr",
     "output_type": "stream",
     "text": [
      "C:\\Users\\Daniel\\Anaconda3\\lib\\site-packages\\sklearn\\feature_extraction\\text.py:1059: FutureWarning: Conversion of the second argument of issubdtype from `float` to `np.floating` is deprecated. In future, it will be treated as `np.float64 == np.dtype(float).type`.\n",
      "  if hasattr(X, 'dtype') and np.issubdtype(X.dtype, np.float):\n"
     ]
    },
    {
     "data": {
      "image/png": "[encoded data removed]",
      "text/plain": [
       "<matplotlib.figure.Figure at 0x22651ebf940>"
      ]
     },
     "metadata": {},
     "output_type": "display_data"
    }
   ],
   "source": [
    "auto_6_scores_radar_chart(\"./test_news/20170101_7시간해명 집중한 대통령...돌연 기자 간담회, 왜.txt\")"
   ]
  },
  {
   "cell_type": "markdown",
   "metadata": {},
   "source": [
    "##### 예측점수 중 가장 많은 점수로 기사를 분류 후 실제 분류와 비교(정확도 계산)"
   ]
  },
  {
   "cell_type": "code",
   "execution_count": 139,
   "metadata": {
    "collapsed": true
   },
   "outputs": [],
   "source": [
    "def auto_6_scores_of_text_without_print(fname):\n",
    "    \n",
    "    ## \".txt 파일 읽어오기\" #################################################################\n",
    "    with open(fname, \"rb\") as data:\n",
    "        data = data.read()\n",
    "        data = data.decode(\"utf-8\")\n",
    "\n",
    "    ## 읽은 파일 내용에 대한 tfidf DataFrame 만들기 ##########################################\n",
    "    df_test_doc = pd.DataFrame({\"Content\"  : [data]})\n",
    "    test_doc_data_list = df_test_doc[\"Content\"].astype(str).tolist()\n",
    "    test_doc_data_arr = np.array([\"\".join(text) for text in test_doc_data_list])\n",
    "    vectorizer = TfidfVectorizer(max_df = 2, tokenizer = kor_noun, norm = 'l2')\n",
    "    test_doc_data = vectorizer.fit_transform(test_doc_data_arr)\n",
    "    test_doc_df_tfidf = pd.DataFrame(test_doc_data.A, columns = vectorizer.get_feature_names())\n",
    "    \n",
    "    ## X_test_doc 데이터 포맷을 모델의 입력 데이터 포맷과 일치하는 작업 ###########################\n",
    "    \n",
    "    ## 읽은 데이터에 대한 부분 단어 데이터 프레임 만들기\n",
    "    df_partial_words = test_doc_df_tfidf.transpose()\n",
    "    df_partial_words[\"words\"] = df_partial_words.index\n",
    "    df_partial_words = df_partial_words.rename(columns = {0 : \"weights\"})\n",
    "    \n",
    "    ## 전체 단어 데이터 프레임(left)과 부분 단어 데이터 프레임(right)를 서로 \"left outer join\"\n",
    "    df_total_words = pd.DataFrame(df_tfidf.columns.values, columns = [\"words\"])\n",
    "    merged_total_partial_df_by_words = pd.merge(df_total_words,\n",
    "                                                df_partial_words[[\"weights\", \"words\"]],\n",
    "                                                how = \"left\",\n",
    "                                                on = [\"words\"])\n",
    "    \n",
    "    ## \"left outer\" 조인 후 인덱스를 전체 단어로 대체\n",
    "    merged_total_partial_df_by_words.index = merged_total_partial_df_by_words[\"words\"].tolist()\n",
    "    \n",
    "    ## \"words\" 컬럼 삭제\n",
    "    total_partial_df_by_words = merged_total_partial_df_by_words.drop([\"words\"], axis = 1)\n",
    "    \n",
    "    ## \"transpose()\"하고 \"NaN\" 갑을 0으로 대체, 최종 모델 입력 데이터 생성\n",
    "    X_test_doc = total_partial_df_by_words.transpose().fillna(0)\n",
    "    \n",
    "    ## 각 모델별 지수 산출 #################################################################\n",
    "    \n",
    "    ## 청와대(bh) 지수\n",
    "    global BH_score\n",
    "    BH_score = elastic_bh.predict(X_test_doc)[0]\n",
    "    \n",
    "    ## 국회/정당(con_party) 지수\n",
    "    global Con_Party_score\n",
    "    Con_Party_score = elastic_con_party.predict(X_test_doc)[0]\n",
    "    \n",
    "    ## 북한(north) 지수\n",
    "    global North_score\n",
    "    North_score = elastic_north.predict(X_test_doc)[0]\n",
    "\n",
    "    ## 행정(admin) 지수\n",
    "    global Admin_score\n",
    "    Admin_score = elastic_admin.predict(X_test_doc)[0]\n",
    "    \n",
    "    ## 국방/외교(defence_diplo) 지수\n",
    "    global Defence_diplo_score\n",
    "    Defence_diplo_score = elastic_defence_diplo.predict(X_test_doc)[0]\n",
    "    \n",
    "    ## 정치(politic) 지수\n",
    "    global Politic_score\n",
    "    Politic_score = elastic_politic.predict(X_test_doc)[0]"
   ]
  },
  {
   "cell_type": "code",
   "execution_count": 140,
   "metadata": {
    "collapsed": true
   },
   "outputs": [],
   "source": [
    "from os import listdir\n",
    "from os.path import isfile, join\n",
    "myfiles = [f for f in listdir(\"./news\") if isfile(join(\"./news\", f))]"
   ]
  },
  {
   "cell_type": "code",
   "execution_count": 141,
   "metadata": {
    "collapsed": true
   },
   "outputs": [],
   "source": [
    "myfiles.sort()"
   ]
  },
  {
   "cell_type": "code",
   "execution_count": 142,
   "metadata": {
    "scrolled": false
   },
   "outputs": [
    {
     "data": {
      "text/plain": [
       "365"
      ]
     },
     "execution_count": 142,
     "metadata": {},
     "output_type": "execute_result"
    }
   ],
   "source": [
    "len(myfiles)"
   ]
  },
  {
   "cell_type": "code",
   "execution_count": 143,
   "metadata": {},
   "outputs": [
    {
     "name": "stderr",
     "output_type": "stream",
     "text": [
      "C:\\Users\\Daniel\\Anaconda3\\lib\\site-packages\\sklearn\\feature_extraction\\text.py:1059: FutureWarning: Conversion of the second argument of issubdtype from `float` to `np.floating` is deprecated. In future, it will be treated as `np.float64 == np.dtype(float).type`.\n",
      "  if hasattr(X, 'dtype') and np.issubdtype(X.dtype, np.float):\n"
     ]
    }
   ],
   "source": [
    "BH_score_list = []\n",
    "Con_Party_score_list = []\n",
    "North_score_list = []\n",
    "Admin_score_list = []\n",
    "Defence_Diplo_score_list = []\n",
    "Politic_score_list = []\n",
    "\n",
    "for i in myfiles:\n",
    "    \n",
    "    # 읽어올 파일 이름 만들기\n",
    "    fname = \"./news/\" + i\n",
    "    \n",
    "    ## 읽은 파일 내용에 대한 각 분야별 지수 계산(auto_6_scores_of_text_without_print 함수 이용)\n",
    "    auto_6_scores_of_text_without_print(fname)\n",
    "    \n",
    "    BH_score_list.append(BH_score)\n",
    "    Con_Party_score_list.append(Con_Party_score)\n",
    "    North_score_list.append(North_score)\n",
    "    Admin_score_list.append(Admin_score)\n",
    "    Defence_Diplo_score_list.append(Defence_diplo_score)\n",
    "    Politic_score_list.append(Politic_score)"
   ]
  },
  {
   "cell_type": "code",
   "execution_count": 144,
   "metadata": {
    "collapsed": true
   },
   "outputs": [],
   "source": [
    "df_test = pd.DataFrame(columns=[\"BH\", \"Con/Party\", \"North\", \"Admin\",\n",
    "                                 \"Defence/Diplo\", \"Politic\"])\n",
    "df_test[\"BH\"] = BH_score_list\n",
    "df_test[\"Con/Party\"] = Con_Party_score_list\n",
    "df_test[\"North\"] = North_score_list\n",
    "df_test[\"Admin\"] = Admin_score_list\n",
    "df_test[\"Defence/Diplo\"] = Defence_Diplo_score_list\n",
    "df_test[\"Politic\"] = Politic_score_list"
   ]
  },
  {
   "cell_type": "code",
   "execution_count": 145,
   "metadata": {
    "scrolled": false
   },
   "outputs": [
    {
     "data": {
      "text/html": [
       "<div>\n",
       "<style>\n",
       "    .dataframe thead tr:only-child th {\n",
       "        text-align: right;\n",
       "    }\n",
       "\n",
       "    .dataframe thead th {\n",
       "        text-align: left;\n",
       "    }\n",
       "\n",
       "    .dataframe tbody tr th {\n",
       "        vertical-align: top;\n",
       "    }\n",
       "</style>\n",
       "<table border=\"1\" class=\"dataframe\">\n",
       "  <thead>\n",
       "    <tr style=\"text-align: right;\">\n",
       "      <th></th>\n",
       "      <th>BH</th>\n",
       "      <th>Con/Party</th>\n",
       "      <th>North</th>\n",
       "      <th>Admin</th>\n",
       "      <th>Defence/Diplo</th>\n",
       "      <th>Politic</th>\n",
       "    </tr>\n",
       "  </thead>\n",
       "  <tbody>\n",
       "    <tr>\n",
       "      <th>0</th>\n",
       "      <td>9.726184</td>\n",
       "      <td>2.902576</td>\n",
       "      <td>-0.967088</td>\n",
       "      <td>0.115460</td>\n",
       "      <td>-0.574612</td>\n",
       "      <td>3.375722</td>\n",
       "    </tr>\n",
       "    <tr>\n",
       "      <th>1</th>\n",
       "      <td>6.287002</td>\n",
       "      <td>-0.720626</td>\n",
       "      <td>0.266411</td>\n",
       "      <td>0.503647</td>\n",
       "      <td>-0.303105</td>\n",
       "      <td>3.079211</td>\n",
       "    </tr>\n",
       "    <tr>\n",
       "      <th>2</th>\n",
       "      <td>6.594995</td>\n",
       "      <td>0.822646</td>\n",
       "      <td>-0.416149</td>\n",
       "      <td>0.564240</td>\n",
       "      <td>0.315885</td>\n",
       "      <td>3.513176</td>\n",
       "    </tr>\n",
       "    <tr>\n",
       "      <th>3</th>\n",
       "      <td>4.563722</td>\n",
       "      <td>0.529652</td>\n",
       "      <td>0.637710</td>\n",
       "      <td>1.536373</td>\n",
       "      <td>-0.090278</td>\n",
       "      <td>4.438874</td>\n",
       "    </tr>\n",
       "    <tr>\n",
       "      <th>4</th>\n",
       "      <td>6.905071</td>\n",
       "      <td>0.355169</td>\n",
       "      <td>-0.368948</td>\n",
       "      <td>0.065061</td>\n",
       "      <td>-0.313791</td>\n",
       "      <td>2.170892</td>\n",
       "    </tr>\n",
       "  </tbody>\n",
       "</table>\n",
       "</div>"
      ],
      "text/plain": [
       "         BH  Con/Party     North     Admin  Defence/Diplo   Politic\n",
       "0  9.726184   2.902576 -0.967088  0.115460      -0.574612  3.375722\n",
       "1  6.287002  -0.720626  0.266411  0.503647      -0.303105  3.079211\n",
       "2  6.594995   0.822646 -0.416149  0.564240       0.315885  3.513176\n",
       "3  4.563722   0.529652  0.637710  1.536373      -0.090278  4.438874\n",
       "4  6.905071   0.355169 -0.368948  0.065061      -0.313791  2.170892"
      ]
     },
     "execution_count": 145,
     "metadata": {},
     "output_type": "execute_result"
    }
   ],
   "source": [
    "df_test.head()"
   ]
  },
  {
   "cell_type": "code",
   "execution_count": 146,
   "metadata": {
    "collapsed": true
   },
   "outputs": [],
   "source": [
    "df_test[\"Category(predicted)\"] = df_test.idxmax(\"columns\")"
   ]
  },
  {
   "cell_type": "code",
   "execution_count": 147,
   "metadata": {
    "scrolled": true
   },
   "outputs": [
    {
     "data": {
      "text/plain": [
       "365"
      ]
     },
     "execution_count": 147,
     "metadata": {},
     "output_type": "execute_result"
    }
   ],
   "source": [
    "len(datetime_list)"
   ]
  },
  {
   "cell_type": "code",
   "execution_count": 148,
   "metadata": {},
   "outputs": [
    {
     "data": {
      "text/plain": [
       "(365, 7)"
      ]
     },
     "execution_count": 148,
     "metadata": {},
     "output_type": "execute_result"
    }
   ],
   "source": [
    "df_test.shape"
   ]
  },
  {
   "cell_type": "code",
   "execution_count": 149,
   "metadata": {},
   "outputs": [],
   "source": [
    "df_test[\"Date\"] = datetime_list"
   ]
  },
  {
   "cell_type": "code",
   "execution_count": 150,
   "metadata": {},
   "outputs": [
    {
     "data": {
      "text/html": [
       "<div>\n",
       "<style>\n",
       "    .dataframe thead tr:only-child th {\n",
       "        text-align: right;\n",
       "    }\n",
       "\n",
       "    .dataframe thead th {\n",
       "        text-align: left;\n",
       "    }\n",
       "\n",
       "    .dataframe tbody tr th {\n",
       "        vertical-align: top;\n",
       "    }\n",
       "</style>\n",
       "<table border=\"1\" class=\"dataframe\">\n",
       "  <thead>\n",
       "    <tr style=\"text-align: right;\">\n",
       "      <th></th>\n",
       "      <th>BH</th>\n",
       "      <th>Con/Party</th>\n",
       "      <th>North</th>\n",
       "      <th>Admin</th>\n",
       "      <th>Defence/Diplo</th>\n",
       "      <th>Politic</th>\n",
       "      <th>Category(predicted)</th>\n",
       "      <th>Date</th>\n",
       "    </tr>\n",
       "  </thead>\n",
       "  <tbody>\n",
       "    <tr>\n",
       "      <th>0</th>\n",
       "      <td>9.726184</td>\n",
       "      <td>2.902576</td>\n",
       "      <td>-0.967088</td>\n",
       "      <td>0.115460</td>\n",
       "      <td>-0.574612</td>\n",
       "      <td>3.375722</td>\n",
       "      <td>BH</td>\n",
       "      <td>20170101</td>\n",
       "    </tr>\n",
       "    <tr>\n",
       "      <th>1</th>\n",
       "      <td>6.287002</td>\n",
       "      <td>-0.720626</td>\n",
       "      <td>0.266411</td>\n",
       "      <td>0.503647</td>\n",
       "      <td>-0.303105</td>\n",
       "      <td>3.079211</td>\n",
       "      <td>BH</td>\n",
       "      <td>20170102</td>\n",
       "    </tr>\n",
       "    <tr>\n",
       "      <th>2</th>\n",
       "      <td>6.594995</td>\n",
       "      <td>0.822646</td>\n",
       "      <td>-0.416149</td>\n",
       "      <td>0.564240</td>\n",
       "      <td>0.315885</td>\n",
       "      <td>3.513176</td>\n",
       "      <td>BH</td>\n",
       "      <td>20170103</td>\n",
       "    </tr>\n",
       "    <tr>\n",
       "      <th>3</th>\n",
       "      <td>4.563722</td>\n",
       "      <td>0.529652</td>\n",
       "      <td>0.637710</td>\n",
       "      <td>1.536373</td>\n",
       "      <td>-0.090278</td>\n",
       "      <td>4.438874</td>\n",
       "      <td>BH</td>\n",
       "      <td>20170104</td>\n",
       "    </tr>\n",
       "    <tr>\n",
       "      <th>4</th>\n",
       "      <td>6.905071</td>\n",
       "      <td>0.355169</td>\n",
       "      <td>-0.368948</td>\n",
       "      <td>0.065061</td>\n",
       "      <td>-0.313791</td>\n",
       "      <td>2.170892</td>\n",
       "      <td>BH</td>\n",
       "      <td>20170105</td>\n",
       "    </tr>\n",
       "  </tbody>\n",
       "</table>\n",
       "</div>"
      ],
      "text/plain": [
       "         BH  Con/Party     North     Admin  Defence/Diplo   Politic  \\\n",
       "0  9.726184   2.902576 -0.967088  0.115460      -0.574612  3.375722   \n",
       "1  6.287002  -0.720626  0.266411  0.503647      -0.303105  3.079211   \n",
       "2  6.594995   0.822646 -0.416149  0.564240       0.315885  3.513176   \n",
       "3  4.563722   0.529652  0.637710  1.536373      -0.090278  4.438874   \n",
       "4  6.905071   0.355169 -0.368948  0.065061      -0.313791  2.170892   \n",
       "\n",
       "  Category(predicted)      Date  \n",
       "0                  BH  20170101  \n",
       "1                  BH  20170102  \n",
       "2                  BH  20170103  \n",
       "3                  BH  20170104  \n",
       "4                  BH  20170105  "
      ]
     },
     "execution_count": 150,
     "metadata": {},
     "output_type": "execute_result"
    }
   ],
   "source": [
    "df_test.head()"
   ]
  },
  {
   "cell_type": "code",
   "execution_count": 151,
   "metadata": {
    "scrolled": false
   },
   "outputs": [
    {
     "name": "stdout",
     "output_type": "stream",
     "text": [
      "<class 'pandas.core.frame.DataFrame'>\n",
      "RangeIndex: 365 entries, 0 to 364\n",
      "Data columns (total 8 columns):\n",
      "Date                   365 non-null object\n",
      "BH                     365 non-null float64\n",
      "Con/Party              365 non-null float64\n",
      "North                  365 non-null float64\n",
      "Admin                  365 non-null float64\n",
      "Defence/Diplo          365 non-null float64\n",
      "Politic                365 non-null float64\n",
      "Category(predicted)    365 non-null object\n",
      "dtypes: float64(6), object(2)\n",
      "memory usage: 22.9+ KB\n"
     ]
    }
   ],
   "source": [
    "df_predicted = df_test[[\"Date\", \"BH\", \"Con/Party\", \"North\",  \"Admin\", \"Defence/Diplo\", \"Politic\", \"Category(predicted)\"]]\n",
    "df_predicted.info()"
   ]
  },
  {
   "cell_type": "code",
   "execution_count": 152,
   "metadata": {
    "scrolled": false
   },
   "outputs": [
    {
     "data": {
      "text/html": [
       "<div>\n",
       "<style>\n",
       "    .dataframe thead tr:only-child th {\n",
       "        text-align: right;\n",
       "    }\n",
       "\n",
       "    .dataframe thead th {\n",
       "        text-align: left;\n",
       "    }\n",
       "\n",
       "    .dataframe tbody tr th {\n",
       "        vertical-align: top;\n",
       "    }\n",
       "</style>\n",
       "<table border=\"1\" class=\"dataframe\">\n",
       "  <thead>\n",
       "    <tr style=\"text-align: right;\">\n",
       "      <th></th>\n",
       "      <th>Date</th>\n",
       "      <th>BH</th>\n",
       "      <th>Con/Party</th>\n",
       "      <th>North</th>\n",
       "      <th>Admin</th>\n",
       "      <th>Defence/Diplo</th>\n",
       "      <th>Politic</th>\n",
       "      <th>Category(predicted)</th>\n",
       "    </tr>\n",
       "  </thead>\n",
       "  <tbody>\n",
       "    <tr>\n",
       "      <th>0</th>\n",
       "      <td>20170101</td>\n",
       "      <td>9.726184</td>\n",
       "      <td>2.902576</td>\n",
       "      <td>-0.967088</td>\n",
       "      <td>0.115460</td>\n",
       "      <td>-0.574612</td>\n",
       "      <td>3.375722</td>\n",
       "      <td>BH</td>\n",
       "    </tr>\n",
       "    <tr>\n",
       "      <th>1</th>\n",
       "      <td>20170102</td>\n",
       "      <td>6.287002</td>\n",
       "      <td>-0.720626</td>\n",
       "      <td>0.266411</td>\n",
       "      <td>0.503647</td>\n",
       "      <td>-0.303105</td>\n",
       "      <td>3.079211</td>\n",
       "      <td>BH</td>\n",
       "    </tr>\n",
       "    <tr>\n",
       "      <th>2</th>\n",
       "      <td>20170103</td>\n",
       "      <td>6.594995</td>\n",
       "      <td>0.822646</td>\n",
       "      <td>-0.416149</td>\n",
       "      <td>0.564240</td>\n",
       "      <td>0.315885</td>\n",
       "      <td>3.513176</td>\n",
       "      <td>BH</td>\n",
       "    </tr>\n",
       "    <tr>\n",
       "      <th>3</th>\n",
       "      <td>20170104</td>\n",
       "      <td>4.563722</td>\n",
       "      <td>0.529652</td>\n",
       "      <td>0.637710</td>\n",
       "      <td>1.536373</td>\n",
       "      <td>-0.090278</td>\n",
       "      <td>4.438874</td>\n",
       "      <td>BH</td>\n",
       "    </tr>\n",
       "    <tr>\n",
       "      <th>4</th>\n",
       "      <td>20170105</td>\n",
       "      <td>6.905071</td>\n",
       "      <td>0.355169</td>\n",
       "      <td>-0.368948</td>\n",
       "      <td>0.065061</td>\n",
       "      <td>-0.313791</td>\n",
       "      <td>2.170892</td>\n",
       "      <td>BH</td>\n",
       "    </tr>\n",
       "  </tbody>\n",
       "</table>\n",
       "</div>"
      ],
      "text/plain": [
       "       Date        BH  Con/Party     North     Admin  Defence/Diplo   Politic  \\\n",
       "0  20170101  9.726184   2.902576 -0.967088  0.115460      -0.574612  3.375722   \n",
       "1  20170102  6.287002  -0.720626  0.266411  0.503647      -0.303105  3.079211   \n",
       "2  20170103  6.594995   0.822646 -0.416149  0.564240       0.315885  3.513176   \n",
       "3  20170104  4.563722   0.529652  0.637710  1.536373      -0.090278  4.438874   \n",
       "4  20170105  6.905071   0.355169 -0.368948  0.065061      -0.313791  2.170892   \n",
       "\n",
       "  Category(predicted)  \n",
       "0                  BH  \n",
       "1                  BH  \n",
       "2                  BH  \n",
       "3                  BH  \n",
       "4                  BH  "
      ]
     },
     "execution_count": 152,
     "metadata": {},
     "output_type": "execute_result"
    }
   ],
   "source": [
    "df_predicted[\"Date\"] = df_predicted[\"Date\"].tolist()\n",
    "df_predicted.head()"
   ]
  },
  {
   "cell_type": "code",
   "execution_count": 153,
   "metadata": {
    "scrolled": true
   },
   "outputs": [
    {
     "data": {
      "text/html": [
       "<div>\n",
       "<style>\n",
       "    .dataframe thead tr:only-child th {\n",
       "        text-align: right;\n",
       "    }\n",
       "\n",
       "    .dataframe thead th {\n",
       "        text-align: left;\n",
       "    }\n",
       "\n",
       "    .dataframe tbody tr th {\n",
       "        vertical-align: top;\n",
       "    }\n",
       "</style>\n",
       "<table border=\"1\" class=\"dataframe\">\n",
       "  <thead>\n",
       "    <tr style=\"text-align: right;\">\n",
       "      <th></th>\n",
       "      <th>Date</th>\n",
       "      <th>Title</th>\n",
       "      <th>Category</th>\n",
       "      <th>Category(predicted)</th>\n",
       "    </tr>\n",
       "  </thead>\n",
       "  <tbody>\n",
       "    <tr>\n",
       "      <th>0</th>\n",
       "      <td>20170101</td>\n",
       "      <td>朴대통령 \"뇌물죄, 완전히 엮은 것…세월호 허위 걷혀야\"(종합)</td>\n",
       "      <td>BH</td>\n",
       "      <td>BH</td>\n",
       "    </tr>\n",
       "    <tr>\n",
       "      <th>1</th>\n",
       "      <td>20170102</td>\n",
       "      <td>정유라, 덴마크서 불법 체류 혐의로 체포···특검 “송환 협조중” (종합)</td>\n",
       "      <td>BH</td>\n",
       "      <td>BH</td>\n",
       "    </tr>\n",
       "    <tr>\n",
       "      <th>2</th>\n",
       "      <td>20170103</td>\n",
       "      <td>[단독]정유라, “(주사 아줌마)누구인지 알 것 같다”…현지 답변태도 분석, 사전 ...</td>\n",
       "      <td>BH</td>\n",
       "      <td>BH</td>\n",
       "    </tr>\n",
       "    <tr>\n",
       "      <th>3</th>\n",
       "      <td>20170104</td>\n",
       "      <td>[단독]\"정유라, 이대학장실 등 교내서 교수 6명에 학점취득 코치받아\"</td>\n",
       "      <td>Politic</td>\n",
       "      <td>BH</td>\n",
       "    </tr>\n",
       "    <tr>\n",
       "      <th>4</th>\n",
       "      <td>20170105</td>\n",
       "      <td>윤전추 \"기억안나. 몰라. 말못해\"… 헌재 \"본인범죄 외 답해라\"</td>\n",
       "      <td>BH</td>\n",
       "      <td>BH</td>\n",
       "    </tr>\n",
       "    <tr>\n",
       "      <th>5</th>\n",
       "      <td>20170106</td>\n",
       "      <td>강제송환 절차 시작…정유라 '조건없는 귀국 의사' 없는 듯(종합)</td>\n",
       "      <td>Politic</td>\n",
       "      <td>Politic</td>\n",
       "    </tr>\n",
       "    <tr>\n",
       "      <th>6</th>\n",
       "      <td>20170107</td>\n",
       "      <td>특검, 박근혜·이재용 거래단서 포착…삼성수뇌부 소환 초읽기</td>\n",
       "      <td>BH</td>\n",
       "      <td>BH</td>\n",
       "    </tr>\n",
       "    <tr>\n",
       "      <th>7</th>\n",
       "      <td>20170108</td>\n",
       "      <td>[단독] '최순실 금고' 열어보니 김영재 회사 서류…특검, 특혜의혹 수사</td>\n",
       "      <td>BH</td>\n",
       "      <td>BH</td>\n",
       "    </tr>\n",
       "    <tr>\n",
       "      <th>8</th>\n",
       "      <td>20170109</td>\n",
       "      <td>조윤선 '블랙리스트 존재' 인정…\"난 전혀 본적 없다\"</td>\n",
       "      <td>BH</td>\n",
       "      <td>BH</td>\n",
       "    </tr>\n",
       "    <tr>\n",
       "      <th>9</th>\n",
       "      <td>20170110</td>\n",
       "      <td>헌재 \"朴 대통령측 '세월호 7시간' 답변서 부족\"…보완요구</td>\n",
       "      <td>BH</td>\n",
       "      <td>BH</td>\n",
       "    </tr>\n",
       "    <tr>\n",
       "      <th>10</th>\n",
       "      <td>20170111</td>\n",
       "      <td>\"내 태블릿 아냐\" 발뺌 최순실 향한 특검의 '팩트 폭격'</td>\n",
       "      <td>BH</td>\n",
       "      <td>BH</td>\n",
       "    </tr>\n",
       "    <tr>\n",
       "      <th>11</th>\n",
       "      <td>20170112</td>\n",
       "      <td>이재용 수사 '창과 방패'…'대표 칼잡이' vs '특수통' 변호사</td>\n",
       "      <td>BH</td>\n",
       "      <td>BH</td>\n",
       "    </tr>\n",
       "    <tr>\n",
       "      <th>12</th>\n",
       "      <td>20170113</td>\n",
       "      <td>[단독] 박대통령 , 2015년초  “정유라 키워야” 콕 찍어 지원 지시</td>\n",
       "      <td>BH</td>\n",
       "      <td>BH</td>\n",
       "    </tr>\n",
       "    <tr>\n",
       "      <th>13</th>\n",
       "      <td>20170114</td>\n",
       "      <td>행방 묘연한 고영태…태국 출국·신변이상설 ‘시끌’</td>\n",
       "      <td>BH</td>\n",
       "      <td>BH</td>\n",
       "    </tr>\n",
       "    <tr>\n",
       "      <th>14</th>\n",
       "      <td>20170115</td>\n",
       "      <td>헌재, 증인 또 증인…정유라 친구 아빠·차은택·황창규 등</td>\n",
       "      <td>BH</td>\n",
       "      <td>BH</td>\n",
       "    </tr>\n",
       "    <tr>\n",
       "      <th>15</th>\n",
       "      <td>20170116</td>\n",
       "      <td>최순실 \"검찰·특검 수사 강압적…죽을 지경\" 불만 토로</td>\n",
       "      <td>BH</td>\n",
       "      <td>BH</td>\n",
       "    </tr>\n",
       "    <tr>\n",
       "      <th>16</th>\n",
       "      <td>20170117</td>\n",
       "      <td>[단독] \"李 영장 보면 기절할 것\" 특검 '자신'…\"과잉수사\" 삼성 '불만'</td>\n",
       "      <td>BH</td>\n",
       "      <td>BH</td>\n",
       "    </tr>\n",
       "    <tr>\n",
       "      <th>17</th>\n",
       "      <td>20170118</td>\n",
       "      <td>다 털어놓은 정호성…\"대통령 지시로 崔에 문건전달\"(종합2보)</td>\n",
       "      <td>BH</td>\n",
       "      <td>BH</td>\n",
       "    </tr>\n",
       "    <tr>\n",
       "      <th>18</th>\n",
       "      <td>20170119</td>\n",
       "      <td>조의연 판사는 이재용 구속영장을 왜 기각했을까</td>\n",
       "      <td>BH</td>\n",
       "      <td>BH</td>\n",
       "    </tr>\n",
       "    <tr>\n",
       "      <th>19</th>\n",
       "      <td>20170120</td>\n",
       "      <td>안종범 \"다 이야기하겠다\"…등돌리는 '국정농단' 주범들</td>\n",
       "      <td>BH</td>\n",
       "      <td>BH</td>\n",
       "    </tr>\n",
       "    <tr>\n",
       "      <th>20</th>\n",
       "      <td>20170121</td>\n",
       "      <td>'장관 배지' 떼고 '수용자 번호' 달고…특검 출석한 조윤선</td>\n",
       "      <td>BH</td>\n",
       "      <td>BH</td>\n",
       "    </tr>\n",
       "    <tr>\n",
       "      <th>21</th>\n",
       "      <td>20170122</td>\n",
       "      <td>이너서클에 충성하려, 정 때문에 … 거짓말 하는 그들</td>\n",
       "      <td>Politic</td>\n",
       "      <td>Politic</td>\n",
       "    </tr>\n",
       "    <tr>\n",
       "      <th>22</th>\n",
       "      <td>20170123</td>\n",
       "      <td>김종 \"朴 '정유라 잘 키워야 한다' 직접 말해 충격적\"(종합)</td>\n",
       "      <td>BH</td>\n",
       "      <td>BH</td>\n",
       "    </tr>\n",
       "    <tr>\n",
       "      <th>23</th>\n",
       "      <td>20170124</td>\n",
       "      <td>최순실 \"태블릿 놔뒀잖아, 누가 그쪽에?\"…노승일 \"걱정말라\"</td>\n",
       "      <td>BH</td>\n",
       "      <td>BH</td>\n",
       "    </tr>\n",
       "    <tr>\n",
       "      <th>24</th>\n",
       "      <td>20170125</td>\n",
       "      <td>[현장영상] '체포' 최순실 큰소리로 \"억울...자백 강요당해\"</td>\n",
       "      <td>BH</td>\n",
       "      <td>BH</td>\n",
       "    </tr>\n",
       "    <tr>\n",
       "      <th>25</th>\n",
       "      <td>20170126</td>\n",
       "      <td>[종합]최순실 측, 특검 가혹행위·직권남용 주장…\"삼족을 멸하겠다\" 등 공개</td>\n",
       "      <td>BH</td>\n",
       "      <td>BH</td>\n",
       "    </tr>\n",
       "    <tr>\n",
       "      <th>26</th>\n",
       "      <td>20170127</td>\n",
       "      <td>안종범 \"朴대통령, K재단-유정복 연결\"…崔사익 추구 의혹</td>\n",
       "      <td>BH</td>\n",
       "      <td>BH</td>\n",
       "    </tr>\n",
       "    <tr>\n",
       "      <th>27</th>\n",
       "      <td>20170128</td>\n",
       "      <td>'탄핵 50일' 쉼없이 달리는 헌재... 다급한 朴대통령</td>\n",
       "      <td>BH</td>\n",
       "      <td>BH</td>\n",
       "    </tr>\n",
       "    <tr>\n",
       "      <th>28</th>\n",
       "      <td>20170129</td>\n",
       "      <td>[단독] 압수수색 거부했던 청와대 '불승인 사유서' 보니…</td>\n",
       "      <td>BH</td>\n",
       "      <td>BH</td>\n",
       "    </tr>\n",
       "    <tr>\n",
       "      <th>29</th>\n",
       "      <td>20170130</td>\n",
       "      <td>[단독] 압수수색 거부했던 청와대 '불승인 사유서' 보니…</td>\n",
       "      <td>BH</td>\n",
       "      <td>BH</td>\n",
       "    </tr>\n",
       "    <tr>\n",
       "      <th>...</th>\n",
       "      <td>...</td>\n",
       "      <td>...</td>\n",
       "      <td>...</td>\n",
       "      <td>...</td>\n",
       "    </tr>\n",
       "    <tr>\n",
       "      <th>335</th>\n",
       "      <td>20171202</td>\n",
       "      <td>육군, 1000명 규모 인간병기 ‘참수부대’ 만들었다</td>\n",
       "      <td>Defence/Diplo</td>\n",
       "      <td>Defence/Diplo</td>\n",
       "    </tr>\n",
       "    <tr>\n",
       "      <th>336</th>\n",
       "      <td>20171203</td>\n",
       "      <td>문 대통령 \"희생자 가족 챙겨라\" 지시…'구조는 현장중심' 주문</td>\n",
       "      <td>BH</td>\n",
       "      <td>BH</td>\n",
       "    </tr>\n",
       "    <tr>\n",
       "      <th>337</th>\n",
       "      <td>20171204</td>\n",
       "      <td>문 대통령 \"낚싯배 사고, 결국 국가책임…예산안처리 결단 당부\"</td>\n",
       "      <td>BH</td>\n",
       "      <td>BH</td>\n",
       "    </tr>\n",
       "    <tr>\n",
       "      <th>338</th>\n",
       "      <td>20171205</td>\n",
       "      <td>최명길 의원직 박탈…'선거법 위반' 벌금 200만원 확정</td>\n",
       "      <td>Politic</td>\n",
       "      <td>Con/Party</td>\n",
       "    </tr>\n",
       "    <tr>\n",
       "      <th>339</th>\n",
       "      <td>20171206</td>\n",
       "      <td>'특검도우미' 장시호, 뜻밖 법정구속에 \"아이 혼자 두고…\" 호소</td>\n",
       "      <td>BH</td>\n",
       "      <td>BH</td>\n",
       "    </tr>\n",
       "    <tr>\n",
       "      <th>340</th>\n",
       "      <td>20171207</td>\n",
       "      <td>北외무성 \"전쟁 바라지 않지만 결코 피하지 않을 것\"</td>\n",
       "      <td>Defence/Diplo</td>\n",
       "      <td>North</td>\n",
       "    </tr>\n",
       "    <tr>\n",
       "      <th>341</th>\n",
       "      <td>20171208</td>\n",
       "      <td>[단독]“DJ 비자금 의혹…제보자는 박주원”</td>\n",
       "      <td>Con/Party</td>\n",
       "      <td>BH</td>\n",
       "    </tr>\n",
       "    <tr>\n",
       "      <th>342</th>\n",
       "      <td>20171209</td>\n",
       "      <td>[박수찬의 軍] 은밀하고 조용하게…동아시아 하늘 지배하는 스텔스 킬러</td>\n",
       "      <td>Defence/Diplo</td>\n",
       "      <td>Defence/Diplo</td>\n",
       "    </tr>\n",
       "    <tr>\n",
       "      <th>343</th>\n",
       "      <td>20171210</td>\n",
       "      <td>김대중마라톤서 달걀 맞은 박지원… 5㎞ 마라톤 뛴 안철수</td>\n",
       "      <td>Con/Party</td>\n",
       "      <td>Con/Party</td>\n",
       "    </tr>\n",
       "    <tr>\n",
       "      <th>344</th>\n",
       "      <td>20171211</td>\n",
       "      <td>장시호, 실형 후 첫 법정서 연신 눈물…'최순실 혐의' 증언</td>\n",
       "      <td>BH</td>\n",
       "      <td>BH</td>\n",
       "    </tr>\n",
       "    <tr>\n",
       "      <th>345</th>\n",
       "      <td>20171212</td>\n",
       "      <td>조원진, 문재인 대통령에 '문재인씨' 호칭 논란</td>\n",
       "      <td>Con/Party</td>\n",
       "      <td>Con/Party</td>\n",
       "    </tr>\n",
       "    <tr>\n",
       "      <th>346</th>\n",
       "      <td>20171213</td>\n",
       "      <td>'최순실 녹취록' 법정공개, 朴 국정 전반 개입정황 고스란히 담겨</td>\n",
       "      <td>BH</td>\n",
       "      <td>BH</td>\n",
       "    </tr>\n",
       "    <tr>\n",
       "      <th>347</th>\n",
       "      <td>20171214</td>\n",
       "      <td>최순실 징역 25년 구형에 \"아아아악!\"…변호인 \"옥사하란 얘기\"</td>\n",
       "      <td>BH</td>\n",
       "      <td>BH</td>\n",
       "    </tr>\n",
       "    <tr>\n",
       "      <th>348</th>\n",
       "      <td>20171215</td>\n",
       "      <td>中 외교부 \"사건 경위 상관 없이 부상 韓 기자에 위로\"</td>\n",
       "      <td>Defence/Diplo</td>\n",
       "      <td>Defence/Diplo</td>\n",
       "    </tr>\n",
       "    <tr>\n",
       "      <th>349</th>\n",
       "      <td>20171216</td>\n",
       "      <td>10끼 중 2끼만 중국 지도부와 식사 … 문 대통령 ‘혼밥’ 논란</td>\n",
       "      <td>BH</td>\n",
       "      <td>BH</td>\n",
       "    </tr>\n",
       "    <tr>\n",
       "      <th>350</th>\n",
       "      <td>20171217</td>\n",
       "      <td>\"한국은 美·日의 신뢰 잃고, 중국은 한국민의 마음 잃었다\"</td>\n",
       "      <td>Defence/Diplo</td>\n",
       "      <td>Defence/Diplo</td>\n",
       "    </tr>\n",
       "    <tr>\n",
       "      <th>351</th>\n",
       "      <td>20171218</td>\n",
       "      <td>우병우, 구속 후 첫 검찰 출석…호송차 타고 포승줄(종합)</td>\n",
       "      <td>BH</td>\n",
       "      <td>BH</td>\n",
       "    </tr>\n",
       "    <tr>\n",
       "      <th>352</th>\n",
       "      <td>20171219</td>\n",
       "      <td>文대통령 전용열차 '트레인1' 첫 공개…어떻게 생겼나</td>\n",
       "      <td>BH</td>\n",
       "      <td>BH</td>\n",
       "    </tr>\n",
       "    <tr>\n",
       "      <th>353</th>\n",
       "      <td>20171220</td>\n",
       "      <td>안철수, 통합 끝장토론 불참…\"끌고오라\"vs\"무슨말을 그렇게\"</td>\n",
       "      <td>Con/Party</td>\n",
       "      <td>Con/Party</td>\n",
       "    </tr>\n",
       "    <tr>\n",
       "      <th>354</th>\n",
       "      <td>20171221</td>\n",
       "      <td>합참 \"北병사 1명 귀순 후 北수색조 MDL 접근...軍, 20발 경고사격 실시\"(...</td>\n",
       "      <td>North</td>\n",
       "      <td>Defence/Diplo</td>\n",
       "    </tr>\n",
       "    <tr>\n",
       "      <th>355</th>\n",
       "      <td>20171222</td>\n",
       "      <td>‘성완종 리스트’ 이완구·홍준표, 모두 무죄 확정...대법 “증거 없다”</td>\n",
       "      <td>Politic</td>\n",
       "      <td>Politic</td>\n",
       "    </tr>\n",
       "    <tr>\n",
       "      <th>356</th>\n",
       "      <td>20171223</td>\n",
       "      <td>文대통령, 화재참사에 현장行…또 보여준 재해·재난 리더십</td>\n",
       "      <td>BH</td>\n",
       "      <td>BH</td>\n",
       "    </tr>\n",
       "    <tr>\n",
       "      <th>357</th>\n",
       "      <td>20171224</td>\n",
       "      <td>靑 \"김정은 '대담한 작전' 발언, 도발과 관련되진 않은 듯\"</td>\n",
       "      <td>North</td>\n",
       "      <td>North</td>\n",
       "    </tr>\n",
       "    <tr>\n",
       "      <th>358</th>\n",
       "      <td>20171225</td>\n",
       "      <td>추미애 \"소방인력 확충\" vs 홍준표 \"세월호처럼 현장대응 잘못\"</td>\n",
       "      <td>Con/Party</td>\n",
       "      <td>Con/Party</td>\n",
       "    </tr>\n",
       "    <tr>\n",
       "      <th>359</th>\n",
       "      <td>20171226</td>\n",
       "      <td>주진우, 검찰 출석…손에 '다스 취재파일' 한보따리</td>\n",
       "      <td>Politic</td>\n",
       "      <td>BH</td>\n",
       "    </tr>\n",
       "    <tr>\n",
       "      <th>360</th>\n",
       "      <td>20171227</td>\n",
       "      <td>류여해, 제명 확정…\"洪 여성비하\" vs \"사실 아냐\"(종합)</td>\n",
       "      <td>Con/Party</td>\n",
       "      <td>Con/Party</td>\n",
       "    </tr>\n",
       "    <tr>\n",
       "      <th>361</th>\n",
       "      <td>20171228</td>\n",
       "      <td>조윤선 구속영장 기각…검찰 \"형평 어긋나\" 강력 반발(종합2보)</td>\n",
       "      <td>BH</td>\n",
       "      <td>BH</td>\n",
       "    </tr>\n",
       "    <tr>\n",
       "      <th>362</th>\n",
       "      <td>20171229</td>\n",
       "      <td>문재인 정부 첫 사면,  '생계형 범죄자' 구제 방점…경제인 없어(종합)</td>\n",
       "      <td>Politic</td>\n",
       "      <td>Politic</td>\n",
       "    </tr>\n",
       "    <tr>\n",
       "      <th>363</th>\n",
       "      <td>20171230</td>\n",
       "      <td>북한 주민들 불편케 하는 김정은 ‘사진 정치’</td>\n",
       "      <td>North</td>\n",
       "      <td>North</td>\n",
       "    </tr>\n",
       "    <tr>\n",
       "      <th>364</th>\n",
       "      <td>20171231</td>\n",
       "      <td>2017년 달라진 청와대를 보여주는 장면 7가지</td>\n",
       "      <td>BH</td>\n",
       "      <td>BH</td>\n",
       "    </tr>\n",
       "  </tbody>\n",
       "</table>\n",
       "<p>365 rows × 4 columns</p>\n",
       "</div>"
      ],
      "text/plain": [
       "         Date                                              Title  \\\n",
       "0    20170101                朴대통령 \"뇌물죄, 완전히 엮은 것…세월호 허위 걷혀야\"(종합)   \n",
       "1    20170102          정유라, 덴마크서 불법 체류 혐의로 체포···특검 “송환 협조중” (종합)   \n",
       "2    20170103  [단독]정유라, “(주사 아줌마)누구인지 알 것 같다”…현지 답변태도 분석, 사전 ...   \n",
       "3    20170104            [단독]\"정유라, 이대학장실 등 교내서 교수 6명에 학점취득 코치받아\"   \n",
       "4    20170105               윤전추 \"기억안나. 몰라. 말못해\"… 헌재 \"본인범죄 외 답해라\"   \n",
       "5    20170106               강제송환 절차 시작…정유라 '조건없는 귀국 의사' 없는 듯(종합)   \n",
       "6    20170107                   특검, 박근혜·이재용 거래단서 포착…삼성수뇌부 소환 초읽기   \n",
       "7    20170108           [단독] '최순실 금고' 열어보니 김영재 회사 서류…특검, 특혜의혹 수사   \n",
       "8    20170109                     조윤선 '블랙리스트 존재' 인정…\"난 전혀 본적 없다\"   \n",
       "9    20170110                  헌재 \"朴 대통령측 '세월호 7시간' 답변서 부족\"…보완요구   \n",
       "10   20170111                   \"내 태블릿 아냐\" 발뺌 최순실 향한 특검의 '팩트 폭격'   \n",
       "11   20170112               이재용 수사 '창과 방패'…'대표 칼잡이' vs '특수통' 변호사   \n",
       "12   20170113          [단독] 박대통령 , 2015년초  “정유라 키워야” 콕 찍어 지원 지시    \n",
       "13   20170114                        행방 묘연한 고영태…태국 출국·신변이상설 ‘시끌’   \n",
       "14   20170115                    헌재, 증인 또 증인…정유라 친구 아빠·차은택·황창규 등   \n",
       "15   20170116                     최순실 \"검찰·특검 수사 강압적…죽을 지경\" 불만 토로   \n",
       "16   20170117        [단독] \"李 영장 보면 기절할 것\" 특검 '자신'…\"과잉수사\" 삼성 '불만'   \n",
       "17   20170118                 다 털어놓은 정호성…\"대통령 지시로 崔에 문건전달\"(종합2보)   \n",
       "18   20170119                          조의연 판사는 이재용 구속영장을 왜 기각했을까   \n",
       "19   20170120                     안종범 \"다 이야기하겠다\"…등돌리는 '국정농단' 주범들   \n",
       "20   20170121                  '장관 배지' 떼고 '수용자 번호' 달고…특검 출석한 조윤선   \n",
       "21   20170122                      이너서클에 충성하려, 정 때문에 … 거짓말 하는 그들   \n",
       "22   20170123                김종 \"朴 '정유라 잘 키워야 한다' 직접 말해 충격적\"(종합)   \n",
       "23   20170124                 최순실 \"태블릿 놔뒀잖아, 누가 그쪽에?\"…노승일 \"걱정말라\"   \n",
       "24   20170125                [현장영상] '체포' 최순실 큰소리로 \"억울...자백 강요당해\"   \n",
       "25   20170126         [종합]최순실 측, 특검 가혹행위·직권남용 주장…\"삼족을 멸하겠다\" 등 공개   \n",
       "26   20170127                   안종범 \"朴대통령, K재단-유정복 연결\"…崔사익 추구 의혹   \n",
       "27   20170128                    '탄핵 50일' 쉼없이 달리는 헌재... 다급한 朴대통령   \n",
       "28   20170129                   [단독] 압수수색 거부했던 청와대 '불승인 사유서' 보니…   \n",
       "29   20170130                   [단독] 압수수색 거부했던 청와대 '불승인 사유서' 보니…   \n",
       "..        ...                                                ...   \n",
       "335  20171202                      육군, 1000명 규모 인간병기 ‘참수부대’ 만들었다   \n",
       "336  20171203                문 대통령 \"희생자 가족 챙겨라\" 지시…'구조는 현장중심' 주문   \n",
       "337  20171204                문 대통령 \"낚싯배 사고, 결국 국가책임…예산안처리 결단 당부\"   \n",
       "338  20171205                    최명길 의원직 박탈…'선거법 위반' 벌금 200만원 확정   \n",
       "339  20171206               '특검도우미' 장시호, 뜻밖 법정구속에 \"아이 혼자 두고…\" 호소   \n",
       "340  20171207                      北외무성 \"전쟁 바라지 않지만 결코 피하지 않을 것\"   \n",
       "341  20171208                           [단독]“DJ 비자금 의혹…제보자는 박주원”   \n",
       "342  20171209             [박수찬의 軍] 은밀하고 조용하게…동아시아 하늘 지배하는 스텔스 킬러   \n",
       "343  20171210                    김대중마라톤서 달걀 맞은 박지원… 5㎞ 마라톤 뛴 안철수   \n",
       "344  20171211                  장시호, 실형 후 첫 법정서 연신 눈물…'최순실 혐의' 증언   \n",
       "345  20171212                         조원진, 문재인 대통령에 '문재인씨' 호칭 논란   \n",
       "346  20171213               '최순실 녹취록' 법정공개, 朴 국정 전반 개입정황 고스란히 담겨   \n",
       "347  20171214               최순실 징역 25년 구형에 \"아아아악!\"…변호인 \"옥사하란 얘기\"   \n",
       "348  20171215                    中 외교부 \"사건 경위 상관 없이 부상 韓 기자에 위로\"   \n",
       "349  20171216               10끼 중 2끼만 중국 지도부와 식사 … 문 대통령 ‘혼밥’ 논란   \n",
       "350  20171217                  \"한국은 美·日의 신뢰 잃고, 중국은 한국민의 마음 잃었다\"   \n",
       "351  20171218                   우병우, 구속 후 첫 검찰 출석…호송차 타고 포승줄(종합)   \n",
       "352  20171219                      文대통령 전용열차 '트레인1' 첫 공개…어떻게 생겼나   \n",
       "353  20171220                 안철수, 통합 끝장토론 불참…\"끌고오라\"vs\"무슨말을 그렇게\"   \n",
       "354  20171221  합참 \"北병사 1명 귀순 후 北수색조 MDL 접근...軍, 20발 경고사격 실시\"(...   \n",
       "355  20171222           ‘성완종 리스트’ 이완구·홍준표, 모두 무죄 확정...대법 “증거 없다”   \n",
       "356  20171223                    文대통령, 화재참사에 현장行…또 보여준 재해·재난 리더십   \n",
       "357  20171224                 靑 \"김정은 '대담한 작전' 발언, 도발과 관련되진 않은 듯\"   \n",
       "358  20171225               추미애 \"소방인력 확충\" vs 홍준표 \"세월호처럼 현장대응 잘못\"   \n",
       "359  20171226                       주진우, 검찰 출석…손에 '다스 취재파일' 한보따리   \n",
       "360  20171227                 류여해, 제명 확정…\"洪 여성비하\" vs \"사실 아냐\"(종합)   \n",
       "361  20171228                조윤선 구속영장 기각…검찰 \"형평 어긋나\" 강력 반발(종합2보)   \n",
       "362  20171229           문재인 정부 첫 사면,  '생계형 범죄자' 구제 방점…경제인 없어(종합)   \n",
       "363  20171230                          북한 주민들 불편케 하는 김정은 ‘사진 정치’   \n",
       "364  20171231                         2017년 달라진 청와대를 보여주는 장면 7가지   \n",
       "\n",
       "          Category Category(predicted)  \n",
       "0               BH                  BH  \n",
       "1               BH                  BH  \n",
       "2               BH                  BH  \n",
       "3          Politic                  BH  \n",
       "4               BH                  BH  \n",
       "5          Politic             Politic  \n",
       "6               BH                  BH  \n",
       "7               BH                  BH  \n",
       "8               BH                  BH  \n",
       "9               BH                  BH  \n",
       "10              BH                  BH  \n",
       "11              BH                  BH  \n",
       "12              BH                  BH  \n",
       "13              BH                  BH  \n",
       "14              BH                  BH  \n",
       "15              BH                  BH  \n",
       "16              BH                  BH  \n",
       "17              BH                  BH  \n",
       "18              BH                  BH  \n",
       "19              BH                  BH  \n",
       "20              BH                  BH  \n",
       "21         Politic             Politic  \n",
       "22              BH                  BH  \n",
       "23              BH                  BH  \n",
       "24              BH                  BH  \n",
       "25              BH                  BH  \n",
       "26              BH                  BH  \n",
       "27              BH                  BH  \n",
       "28              BH                  BH  \n",
       "29              BH                  BH  \n",
       "..             ...                 ...  \n",
       "335  Defence/Diplo       Defence/Diplo  \n",
       "336             BH                  BH  \n",
       "337             BH                  BH  \n",
       "338        Politic           Con/Party  \n",
       "339             BH                  BH  \n",
       "340  Defence/Diplo               North  \n",
       "341      Con/Party                  BH  \n",
       "342  Defence/Diplo       Defence/Diplo  \n",
       "343      Con/Party           Con/Party  \n",
       "344             BH                  BH  \n",
       "345      Con/Party           Con/Party  \n",
       "346             BH                  BH  \n",
       "347             BH                  BH  \n",
       "348  Defence/Diplo       Defence/Diplo  \n",
       "349             BH                  BH  \n",
       "350  Defence/Diplo       Defence/Diplo  \n",
       "351             BH                  BH  \n",
       "352             BH                  BH  \n",
       "353      Con/Party           Con/Party  \n",
       "354          North       Defence/Diplo  \n",
       "355        Politic             Politic  \n",
       "356             BH                  BH  \n",
       "357          North               North  \n",
       "358      Con/Party           Con/Party  \n",
       "359        Politic                  BH  \n",
       "360      Con/Party           Con/Party  \n",
       "361             BH                  BH  \n",
       "362        Politic             Politic  \n",
       "363          North               North  \n",
       "364             BH                  BH  \n",
       "\n",
       "[365 rows x 4 columns]"
      ]
     },
     "execution_count": 153,
     "metadata": {},
     "output_type": "execute_result"
    }
   ],
   "source": [
    "df_comparison = pd.concat([labeled_data, df_predicted[\"Category(predicted)\"].to_frame()], axis=1)[[\"Date\", \"Title\", \"Category\", \"Category(predicted)\"]]\n",
    "df_comparison"
   ]
  },
  {
   "cell_type": "code",
   "execution_count": 154,
   "metadata": {},
   "outputs": [
    {
     "data": {
      "text/plain": [
       "60"
      ]
     },
     "execution_count": 154,
     "metadata": {},
     "output_type": "execute_result"
    }
   ],
   "source": [
    "## 예측된 분류 결고와 불일치하는 데이터의 갯수\n",
    "len(df_comparison[df_comparison[\"Category\"] != df_comparison[\"Category(predicted)\"]])"
   ]
  },
  {
   "cell_type": "code",
   "execution_count": 155,
   "metadata": {},
   "outputs": [
    {
     "data": {
      "text/plain": [
       "305"
      ]
     },
     "execution_count": 155,
     "metadata": {},
     "output_type": "execute_result"
    }
   ],
   "source": [
    "## 예측된 분류 결고와 일치하는 데이터의 갯수\n",
    "len(df_comparison[df_comparison[\"Category\"] == df_comparison[\"Category(predicted)\"]])"
   ]
  },
  {
   "cell_type": "code",
   "execution_count": 156,
   "metadata": {
    "scrolled": true
   },
   "outputs": [
    {
     "data": {
      "text/plain": [
       "0.8356164383561644"
      ]
     },
     "execution_count": 156,
     "metadata": {},
     "output_type": "execute_result"
    }
   ],
   "source": [
    "## 정확도 계산\n",
    "305/365 "
   ]
  },
  {
   "cell_type": "markdown",
   "metadata": {},
   "source": [
    "ElasticNetCV를 활용한 각 분류별 회귀모델을 만들어 이를 이용해 문서를 분류한 결고, 약 84%의 정확도로 분류가능하였음."
   ]
  }
 ],
 "metadata": {
  "kernelspec": {
   "display_name": "Python [default]",
   "language": "python",
   "name": "python3"
  },
  "language_info": {
   "codemirror_mode": {
    "name": "ipython",
    "version": 3
   },
   "file_extension": ".py",
   "mimetype": "text/x-python",
   "name": "python",
   "nbconvert_exporter": "python",
   "pygments_lexer": "ipython3",
   "version": "3.6.1"
  }
 },
 "nbformat": 4,
 "nbformat_minor": 2
}
