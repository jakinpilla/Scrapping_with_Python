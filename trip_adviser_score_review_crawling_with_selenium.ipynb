{
 "cells": [
  {
   "cell_type": "code",
   "execution_count": 13,
   "metadata": {},
   "outputs": [
    {
     "data": {
      "text/plain": [
       "'C:\\\\Users\\\\Daniel\\\\RNN'"
      ]
     },
     "execution_count": 13,
     "metadata": {},
     "output_type": "execute_result"
    }
   ],
   "source": [
    "import os\n",
    "os.getcwd()"
   ]
  },
  {
   "cell_type": "code",
   "execution_count": 14,
   "metadata": {
    "collapsed": true
   },
   "outputs": [],
   "source": [
    "from selenium.webdriver import Chrome\n",
    "\n",
    "browser = Chrome()\n",
    "\n",
    "url = 'https://www.tripadvisor.co.kr/Restaurant_Review-g294197-d1371740-Reviews-Mugyodong_Bugeokukjib-Seoul.html'\n",
    "\n",
    "browser.get(url)"
   ]
  },
  {
   "cell_type": "code",
   "execution_count": 15,
   "metadata": {
    "collapsed": true
   },
   "outputs": [],
   "source": [
    "more_links = browser.find_elements_by_css_selector(\".ulBlueLinks\")"
   ]
  },
  {
   "cell_type": "code",
   "execution_count": 16,
   "metadata": {
    "collapsed": true
   },
   "outputs": [],
   "source": [
    "for link in more_links:\n",
    "    try:\n",
    "        link.click()\n",
    "    except:\n",
    "        pass"
   ]
  },
  {
   "cell_type": "code",
   "execution_count": 17,
   "metadata": {
    "collapsed": true
   },
   "outputs": [],
   "source": [
    "# find reviews\n",
    "reviews = browser.find_elements_by_css_selector(\".review-container\")"
   ]
  },
  {
   "cell_type": "code",
   "execution_count": 18,
   "metadata": {},
   "outputs": [
    {
     "data": {
      "text/plain": [
       "[<selenium.webdriver.remote.webelement.WebElement (session=\"965775fb0d68d3ce02e3e0679e59c3e5\", element=\"0.6562511506860491-11\")>,\n",
       " <selenium.webdriver.remote.webelement.WebElement (session=\"965775fb0d68d3ce02e3e0679e59c3e5\", element=\"0.6562511506860491-12\")>,\n",
       " <selenium.webdriver.remote.webelement.WebElement (session=\"965775fb0d68d3ce02e3e0679e59c3e5\", element=\"0.6562511506860491-13\")>,\n",
       " <selenium.webdriver.remote.webelement.WebElement (session=\"965775fb0d68d3ce02e3e0679e59c3e5\", element=\"0.6562511506860491-14\")>,\n",
       " <selenium.webdriver.remote.webelement.WebElement (session=\"965775fb0d68d3ce02e3e0679e59c3e5\", element=\"0.6562511506860491-15\")>,\n",
       " <selenium.webdriver.remote.webelement.WebElement (session=\"965775fb0d68d3ce02e3e0679e59c3e5\", element=\"0.6562511506860491-16\")>,\n",
       " <selenium.webdriver.remote.webelement.WebElement (session=\"965775fb0d68d3ce02e3e0679e59c3e5\", element=\"0.6562511506860491-17\")>,\n",
       " <selenium.webdriver.remote.webelement.WebElement (session=\"965775fb0d68d3ce02e3e0679e59c3e5\", element=\"0.6562511506860491-18\")>,\n",
       " <selenium.webdriver.remote.webelement.WebElement (session=\"965775fb0d68d3ce02e3e0679e59c3e5\", element=\"0.6562511506860491-19\")>,\n",
       " <selenium.webdriver.remote.webelement.WebElement (session=\"965775fb0d68d3ce02e3e0679e59c3e5\", element=\"0.6562511506860491-20\")>]"
      ]
     },
     "execution_count": 18,
     "metadata": {},
     "output_type": "execute_result"
    }
   ],
   "source": [
    "reviews"
   ]
  },
  {
   "cell_type": "code",
   "execution_count": 19,
   "metadata": {
    "collapsed": true
   },
   "outputs": [],
   "source": [
    "s = len(\"ui_bubble_rating_bubble_\")\n",
    "\n",
    "review_list = []\n",
    "for review in reviews:\n",
    "    # find rating score\n",
    "    rating = review.find_element_by_css_selector(\".ui_bubble_rating\")\n",
    "    \n",
    "    # get the class of rating with using get_attribute()\n",
    "    cls = rating.get_attribute(\"class\")\n",
    "    \n",
    "    # extract the \"s\" part and convert its type into int\n",
    "    score = int(cls[s:])\n",
    "    \n",
    "    # find the reviews\n",
    "    comment = review.find_element_by_css_selector(\".partial_entry\")\n",
    "    \n",
    "    review_list.append((score, comment.text))"
   ]
  },
  {
   "cell_type": "code",
   "execution_count": 20,
   "metadata": {
    "collapsed": true
   },
   "outputs": [],
   "source": [
    "import pandas as pd"
   ]
  },
  {
   "cell_type": "code",
   "execution_count": 21,
   "metadata": {},
   "outputs": [
    {
     "data": {
      "text/html": [
       "<div>\n",
       "<style>\n",
       "    .dataframe thead tr:only-child th {\n",
       "        text-align: right;\n",
       "    }\n",
       "\n",
       "    .dataframe thead th {\n",
       "        text-align: left;\n",
       "    }\n",
       "\n",
       "    .dataframe tbody tr th {\n",
       "        vertical-align: top;\n",
       "    }\n",
       "</style>\n",
       "<table border=\"1\" class=\"dataframe\">\n",
       "  <thead>\n",
       "    <tr style=\"text-align: right;\">\n",
       "      <th></th>\n",
       "      <th>score</th>\n",
       "      <th>text</th>\n",
       "    </tr>\n",
       "  </thead>\n",
       "  <tbody>\n",
       "    <tr>\n",
       "      <th>0</th>\n",
       "      <td>40</td>\n",
       "      <td>북어국집이 있는 작은 골목을 지날때마다 많은 사람들이 줄서있는 것을 보면...\\n'...</td>\n",
       "    </tr>\n",
       "    <tr>\n",
       "      <th>1</th>\n",
       "      <td>50</td>\n",
       "      <td>왜 미리 몰랐을까 라고 후회 했던 집\\n정말 맛보시길 추천 합니다\\n\\n일요일 오전...</td>\n",
       "    </tr>\n",
       "    <tr>\n",
       "      <th>2</th>\n",
       "      <td>50</td>\n",
       "      <td>\"숙취에 최고의 음식일 듯, 유명한 만큼 맛았고 친절하고 회전이 빠른 식당\"\\n\"직...</td>\n",
       "    </tr>\n",
       "    <tr>\n",
       "      <th>3</th>\n",
       "      <td>50</td>\n",
       "      <td>변함없늗 속풀이. 깔끔하고 회전 빠르고 가격도 주변에 비해 착함. 포장도 맛있음. ...</td>\n",
       "    </tr>\n",
       "    <tr>\n",
       "      <th>4</th>\n",
       "      <td>40</td>\n",
       "      <td>엄청난 맛집은 아니지만 나쁘지 않음으로 꾸준히 유지가 되는 집. 너무 큰 기대를 가...</td>\n",
       "    </tr>\n",
       "    <tr>\n",
       "      <th>5</th>\n",
       "      <td>50</td>\n",
       "      <td>단일 품목으로 오랫동안 손님들의 사랑을 듬뿍 받는 이곳, 5 년만에 다시 들렀어요....</td>\n",
       "    </tr>\n",
       "    <tr>\n",
       "      <th>6</th>\n",
       "      <td>40</td>\n",
       "      <td>첫느낌은 노포에서 맛볼 수 있는 북어국이 아닐까 했는데,들어가보니\\n전혀 반대입니다...</td>\n",
       "    </tr>\n",
       "    <tr>\n",
       "      <th>7</th>\n",
       "      <td>50</td>\n",
       "      <td>이집은 정말 대한민국에서 최고의 해장 북엉국집이라 인정해요\\n\\n어제 과음으로 힘뜰...</td>\n",
       "    </tr>\n",
       "    <tr>\n",
       "      <th>8</th>\n",
       "      <td>40</td>\n",
       "      <td>짭자름한 북엇국물에 밥 한 공기면, 전날 숙취를 깔끔히 떨어낼 수 있다.\\n가격도 ...</td>\n",
       "    </tr>\n",
       "    <tr>\n",
       "      <th>9</th>\n",
       "      <td>30</td>\n",
       "      <td>명동에 명동교자가 있다면 무교동엔 북어국집이 있습니다..\\n오래된 곳이라는 느낌이지...</td>\n",
       "    </tr>\n",
       "  </tbody>\n",
       "</table>\n",
       "</div>"
      ],
      "text/plain": [
       "   score                                               text\n",
       "0     40  북어국집이 있는 작은 골목을 지날때마다 많은 사람들이 줄서있는 것을 보면...\\n'...\n",
       "1     50  왜 미리 몰랐을까 라고 후회 했던 집\\n정말 맛보시길 추천 합니다\\n\\n일요일 오전...\n",
       "2     50  \"숙취에 최고의 음식일 듯, 유명한 만큼 맛았고 친절하고 회전이 빠른 식당\"\\n\"직...\n",
       "3     50  변함없늗 속풀이. 깔끔하고 회전 빠르고 가격도 주변에 비해 착함. 포장도 맛있음. ...\n",
       "4     40  엄청난 맛집은 아니지만 나쁘지 않음으로 꾸준히 유지가 되는 집. 너무 큰 기대를 가...\n",
       "5     50  단일 품목으로 오랫동안 손님들의 사랑을 듬뿍 받는 이곳, 5 년만에 다시 들렀어요....\n",
       "6     40  첫느낌은 노포에서 맛볼 수 있는 북어국이 아닐까 했는데,들어가보니\\n전혀 반대입니다...\n",
       "7     50  이집은 정말 대한민국에서 최고의 해장 북엉국집이라 인정해요\\n\\n어제 과음으로 힘뜰...\n",
       "8     40  짭자름한 북엇국물에 밥 한 공기면, 전날 숙취를 깔끔히 떨어낼 수 있다.\\n가격도 ...\n",
       "9     30  명동에 명동교자가 있다면 무교동엔 북어국집이 있습니다..\\n오래된 곳이라는 느낌이지..."
      ]
     },
     "execution_count": 21,
     "metadata": {},
     "output_type": "execute_result"
    }
   ],
   "source": [
    "df = pd.DataFrame(review_list, columns = [\"score\", \"text\"])\n",
    "df"
   ]
  },
  {
   "cell_type": "code",
   "execution_count": 22,
   "metadata": {
    "collapsed": true
   },
   "outputs": [],
   "source": [
    "df.to_csv(\"tripadvisor.csv\", encoding = \"utf-8\")"
   ]
  },
  {
   "cell_type": "code",
   "execution_count": null,
   "metadata": {
    "collapsed": true
   },
   "outputs": [],
   "source": []
  }
 ],
 "metadata": {
  "kernelspec": {
   "display_name": "Python [default]",
   "language": "python",
   "name": "python3"
  },
  "language_info": {
   "codemirror_mode": {
    "name": "ipython",
    "version": 3
   },
   "file_extension": ".py",
   "mimetype": "text/x-python",
   "name": "python",
   "nbconvert_exporter": "python",
   "pygments_lexer": "ipython3",
   "version": "3.6.1"
  }
 },
 "nbformat": 4,
 "nbformat_minor": 2
}
