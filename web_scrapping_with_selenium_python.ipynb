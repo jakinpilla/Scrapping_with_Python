{
 "cells": [
  {
   "cell_type": "code",
   "execution_count": 1,
   "metadata": {
    "collapsed": true
   },
   "outputs": [],
   "source": [
    "## HTML 가져오기\n",
    "import requests"
   ]
  },
  {
   "cell_type": "code",
   "execution_count": 2,
   "metadata": {
    "collapsed": true
   },
   "outputs": [],
   "source": [
    "url = 'https://techcrunch.com/2017/03/08/a-new-affordable-naming-startup-for-startups/'"
   ]
  },
  {
   "cell_type": "code",
   "execution_count": 5,
   "metadata": {},
   "outputs": [
    {
     "data": {
      "text/plain": [
       "<Response [200]>"
      ]
     },
     "execution_count": 5,
     "metadata": {},
     "output_type": "execute_result"
    }
   ],
   "source": [
    "res = requests.get(url)\n",
    "res"
   ]
  },
  {
   "cell_type": "code",
   "execution_count": 6,
   "metadata": {},
   "outputs": [
    {
     "data": {
      "text/plain": [
       "'\\n<!DOCTYPE html>\\n<html xmlns=\"http://www.w3.org/1999/xhtml\" xmlns:og=\"http://opengraphprotocol.org/s'"
      ]
     },
     "execution_count": 6,
     "metadata": {},
     "output_type": "execute_result"
    }
   ],
   "source": [
    "res.text[:100]"
   ]
  },
  {
   "cell_type": "code",
   "execution_count": 8,
   "metadata": {
    "collapsed": true
   },
   "outputs": [],
   "source": [
    "import lxml.html"
   ]
  },
  {
   "cell_type": "code",
   "execution_count": 9,
   "metadata": {
    "collapsed": true
   },
   "outputs": [],
   "source": [
    "root = lxml.html.fromstring(res.text)"
   ]
  },
  {
   "cell_type": "code",
   "execution_count": 13,
   "metadata": {},
   "outputs": [],
   "source": [
    "entries = root.cssselect('.article-entry')"
   ]
  },
  {
   "cell_type": "code",
   "execution_count": 14,
   "metadata": {},
   "outputs": [
    {
     "data": {
      "text/plain": [
       "[<Element div at 0x5947240>]"
      ]
     },
     "execution_count": 14,
     "metadata": {},
     "output_type": "execute_result"
    }
   ],
   "source": [
    "entries"
   ]
  },
  {
   "cell_type": "code",
   "execution_count": 15,
   "metadata": {
    "collapsed": true
   },
   "outputs": [],
   "source": [
    "article = entries[0]"
   ]
  },
  {
   "cell_type": "code",
   "execution_count": 16,
   "metadata": {
    "collapsed": true
   },
   "outputs": [],
   "source": [
    "content = article.text_content()"
   ]
  },
  {
   "cell_type": "code",
   "execution_count": 18,
   "metadata": {
    "collapsed": true
   },
   "outputs": [],
   "source": [
    "## 목록에서 여러 개의 링크 가져오기"
   ]
  },
  {
   "cell_type": "code",
   "execution_count": 20,
   "metadata": {},
   "outputs": [
    {
     "data": {
      "text/plain": [
       "<Response [200]>"
      ]
     },
     "execution_count": 20,
     "metadata": {},
     "output_type": "execute_result"
    }
   ],
   "source": [
    "res = requests.get('https://techcrunch.com/startups/')\n",
    "res"
   ]
  },
  {
   "cell_type": "code",
   "execution_count": 21,
   "metadata": {
    "collapsed": true
   },
   "outputs": [],
   "source": [
    "root = lxml.html.fromstring(res.text)"
   ]
  },
  {
   "cell_type": "code",
   "execution_count": 22,
   "metadata": {
    "collapsed": true
   },
   "outputs": [],
   "source": [
    "titles = root.cssselect('h2 a')"
   ]
  },
  {
   "cell_type": "code",
   "execution_count": 23,
   "metadata": {},
   "outputs": [
    {
     "data": {
      "text/plain": [
       "[<Element a at 0x595e450>,\n",
       " <Element a at 0x595ee40>,\n",
       " <Element a at 0x595e810>,\n",
       " <Element a at 0x595e8a0>,\n",
       " <Element a at 0x595ec90>,\n",
       " <Element a at 0x595e3c0>,\n",
       " <Element a at 0x595e480>,\n",
       " <Element a at 0x595e900>,\n",
       " <Element a at 0x595e6c0>,\n",
       " <Element a at 0x595e540>,\n",
       " <Element a at 0x595eb70>,\n",
       " <Element a at 0x595e510>,\n",
       " <Element a at 0x595eb10>,\n",
       " <Element a at 0x595eb40>,\n",
       " <Element a at 0x595e9c0>,\n",
       " <Element a at 0x595e870>,\n",
       " <Element a at 0x595ef60>,\n",
       " <Element a at 0x595ecf0>,\n",
       " <Element a at 0x595ec60>,\n",
       " <Element a at 0x595ee70>]"
      ]
     },
     "execution_count": 23,
     "metadata": {},
     "output_type": "execute_result"
    }
   ],
   "source": [
    "titles"
   ]
  },
  {
   "cell_type": "code",
   "execution_count": 24,
   "metadata": {},
   "outputs": [
    {
     "name": "stdout",
     "output_type": "stream",
     "text": [
      "Mattermark to shut down after selling to FullContact\n",
      "Podia helps content creators build their online business\n",
      "Oscar Health expects to generate $1 billion in revenue and sign up 250,000 members in 2018\n",
      "Startup incubator Nailab invests $25K in East African startups\n",
      "Optimization startup Taplytics expands beyond mobile apps with its new Experience Cloud\n",
      "Can a dreaming AI fix low res digital photos in the edit?\n",
      "Chip, the chatbot savings app, raises over £1M in crowdfunding with plans to apply for a banking license\n",
      "Revoice.me offers a simple way to let your blog and newsletter readers subscribe via Facebook Messenger\n",
      "WeWork’s Powered By We product is central to 2018 growth strategy\n",
      "See you tonight at the Brooklyn micro meetup\n",
      "Ooma acquires AI-powered video camera platform Butterfleye for its home security service\n",
      "Tandem’s acquisition of Harrods Bank, the banking arm of UK department store, is approved by regulators\n",
      "PayPal backs pan-European savings deposit marketplace Raisin\n",
      "Bio-programming toolkit maker Asimov launches with $4.7M from Andreessen Horowitz\n",
      "SendBird raises another $16M to help developers add chat functions to a service\n",
      "Former Nike CFO Don Blair joins Dropbox’s board of directors\n",
      "dYdX is a decentralized protocol for cryptocurrency derivatives\n",
      "Overstock’s CEO launches new trading platform and token, tZero\n",
      "Used car marketplace Shift appoints a co-CEO alongside George Arison\n",
      "InVision is investing $5 million in design startups with new fund\n"
     ]
    }
   ],
   "source": [
    "for title in titles:\n",
    "    print(title.text)"
   ]
  },
  {
   "cell_type": "code",
   "execution_count": 25,
   "metadata": {},
   "outputs": [
    {
     "name": "stdout",
     "output_type": "stream",
     "text": [
      "https://techcrunch.com/2017/12/21/mattermark-to-shut-down-after-selling-to-full-contact/\n",
      "https://techcrunch.com/2017/12/21/coach-becomes-podia/\n",
      "https://techcrunch.com/2017/12/21/oscar-health-expects-to-generate-1-billion-in-revenue-and-sign-up-250000-members-in-2018/\n",
      "https://techcrunch.com/2017/12/21/startup-incubator-nailab-invests-25k-in-east-african-startups/\n",
      "https://techcrunch.com/2017/12/21/taplytics-experience-cloud/\n",
      "https://techcrunch.com/2017/12/21/can-a-dreaming-ai-fix-low-res-digital-photos-in-the-edit/\n",
      "https://techcrunch.com/2017/12/20/chip-and-crowdfund/\n",
      "https://techcrunch.com/2017/12/20/revoice-me-offers-a-simple-way-to-let-your-blog-and-newsletter-readers-subscribe-via-facebook-messenger/\n",
      "https://techcrunch.com/2017/12/20/weworks-powered-by-we-product-is-central-to-2018-growth-strategy/\n",
      "https://techcrunch.com/2017/12/20/see-you-tonight-at-the-brooklyn-micro-meetup/\n",
      "https://techcrunch.com/2017/12/20/ooma-acquires-ai-powered-video-camera-platform-butterfleye-for-its-home-security-service/\n",
      "https://techcrunch.com/2017/12/20/tandems-acquisition-of-harrods-bank-the-banking-arm-of-uk-department-store-is-approved-by-regulators/\n",
      "https://techcrunch.com/2017/12/19/paypal-backs-raisin/\n",
      "https://techcrunch.com/2017/12/19/bio-programming-toolkit-maker-asimov-launches-with-4-5m-from-andreessen-horowitz/\n",
      "https://techcrunch.com/2017/12/19/sendbird-raises-another-16m-to-help-developers-add-chat-functions-to-a-service/\n",
      "https://techcrunch.com/2017/12/19/former-nike-cfo-don-blair-joins-dropboxs-board-of-directors/\n",
      "https://techcrunch.com/2017/12/19/dydx-is-a-decentralized-protocol-for-cryptocurrency-derivatives/\n",
      "https://techcrunch.com/2017/12/19/overstocks-ceo-launches-new-trading-platform-and-token-tzero/\n",
      "https://techcrunch.com/2017/12/19/used-car-marketplace-shift-appoints-a-co-ceo-alongside-george-arison/\n",
      "https://techcrunch.com/2017/12/19/invision-is-investing-5-million-in-design-startups-with-new-fund/\n"
     ]
    }
   ],
   "source": [
    "for title in titles:\n",
    "    print(title.attrib['href'])"
   ]
  },
  {
   "cell_type": "code",
   "execution_count": null,
   "metadata": {
    "collapsed": true
   },
   "outputs": [],
   "source": [
    "## daum webtoon"
   ]
  },
  {
   "cell_type": "code",
   "execution_count": 26,
   "metadata": {
    "collapsed": true
   },
   "outputs": [],
   "source": [
    "import requests"
   ]
  },
  {
   "cell_type": "code",
   "execution_count": 27,
   "metadata": {
    "collapsed": true
   },
   "outputs": [],
   "source": [
    "import lxml.html"
   ]
  },
  {
   "cell_type": "code",
   "execution_count": 29,
   "metadata": {
    "collapsed": true
   },
   "outputs": [],
   "source": [
    "res = requests.get('http://cartoon.media.daum.net')"
   ]
  },
  {
   "cell_type": "code",
   "execution_count": 30,
   "metadata": {
    "collapsed": true
   },
   "outputs": [],
   "source": [
    "root = lxml.html.fromstring(res.content)"
   ]
  },
  {
   "cell_type": "code",
   "execution_count": 31,
   "metadata": {},
   "outputs": [
    {
     "data": {
      "text/plain": [
       "[]"
      ]
     },
     "execution_count": 31,
     "metadata": {},
     "output_type": "execute_result"
    }
   ],
   "source": [
    "root.xpath('a.link_wt')"
   ]
  },
  {
   "cell_type": "code",
   "execution_count": 60,
   "metadata": {
    "collapsed": true
   },
   "outputs": [],
   "source": [
    "from selenium.webdriver import Firefox"
   ]
  },
  {
   "cell_type": "code",
   "execution_count": 61,
   "metadata": {},
   "outputs": [],
   "source": [
    "browser = Firefox()"
   ]
  },
  {
   "cell_type": "code",
   "execution_count": 62,
   "metadata": {},
   "outputs": [],
   "source": [
    "browser.get('http://cartoon.media.daum.net')"
   ]
  },
  {
   "cell_type": "code",
   "execution_count": 42,
   "metadata": {},
   "outputs": [
    {
     "data": {
      "text/plain": [
       "<selenium.webdriver.firefox.webelement.FirefoxWebElement (session=\"a0144160-123e-404e-b723-42ff24df2fc6\", element=\"30a2ba28-4cc8-421c-a195-e059f879efb4\")>"
      ]
     },
     "execution_count": 42,
     "metadata": {},
     "output_type": "execute_result"
    }
   ],
   "source": [
    "## find_element\n",
    "browser.find_element_by_css_selector('a.link_wt')"
   ]
  },
  {
   "cell_type": "code",
   "execution_count": 43,
   "metadata": {},
   "outputs": [
    {
     "name": "stdout",
     "output_type": "stream",
     "text": [
      "작약만가 : 불환곡\n",
      "http://cartoon.media.daum.net/webtoon/view/nodesires\n",
      "바리공주\n",
      "http://cartoon.media.daum.net/webtoon/view/princessbari\n",
      "리와 구\n",
      "http://cartoon.media.daum.net/webtoon/view/FollowHim\n",
      "키몽툰\n",
      "http://cartoon.media.daum.net/webtoon/view/kimongtoon\n",
      "가랑가랑\n",
      "http://cartoon.media.daum.net/webtoon/view/Garang\n",
      "티라레\n",
      "http://cartoon.media.daum.net/webtoon/view/Tirare\n",
      "성인헤븐 투 헬\n",
      "http://cartoon.media.daum.net/webtoon/view/HeavenToHell\n",
      "성인김탐정 사용설명서\n",
      "http://cartoon.media.daum.net/webtoon/view/KimsReport\n",
      "연애싫어\n",
      "http://cartoon.media.daum.net/webtoon/view/hatelove\n",
      "퀴퀴한 일기\n",
      "http://cartoon.media.daum.net/webtoon/view/ficnonfic\n",
      "19세기말 비망록\n",
      "http://cartoon.media.daum.net/webtoon/view/memorandom\n",
      "트리니티 원더\n",
      "http://cartoon.media.daum.net/webtoon/view/TrinityWonder\n",
      "주간소년열애사\n",
      "http://cartoon.media.daum.net/webtoon/view/weeklyboys\n",
      "혼자를 기르는 법\n",
      "http://cartoon.media.daum.net/webtoon/view/selfgrow\n",
      "첫사랑은 죽었다\n",
      "http://cartoon.media.daum.net/webtoon/view/love_dead\n",
      "오무라이스 잼잼\n",
      "http://cartoon.media.daum.net/webtoon/view/jamjam\n"
     ]
    }
   ],
   "source": [
    "## find_element\n",
    "for element in browser.find_elements_by_css_selector('a.link_wt'):\n",
    "    try:\n",
    "        title = element.find_element_by_tag_name('strong').text\n",
    "    except:\n",
    "        pass\n",
    "    else :\n",
    "        link = element.get_attribute('href')\n",
    "        print(title)\n",
    "        print(link)"
   ]
  },
  {
   "cell_type": "code",
   "execution_count": 46,
   "metadata": {
    "collapsed": true
   },
   "outputs": [],
   "source": [
    "## click\n",
    "\n",
    "monday_tab = browser.find_element_by_css_selector('a[data-day=\"mon\"]')"
   ]
  },
  {
   "cell_type": "code",
   "execution_count": 45,
   "metadata": {
    "collapsed": true
   },
   "outputs": [],
   "source": [
    "monday_tab.click()"
   ]
  },
  {
   "cell_type": "code",
   "execution_count": 47,
   "metadata": {
    "collapsed": true
   },
   "outputs": [],
   "source": [
    "## click\n",
    "\n",
    "wed_tab = browser.find_element_by_css_selector('a[data-day=\"wed\"]')"
   ]
  },
  {
   "cell_type": "code",
   "execution_count": 48,
   "metadata": {
    "collapsed": true
   },
   "outputs": [],
   "source": [
    "wed_tab.click()"
   ]
  },
  {
   "cell_type": "code",
   "execution_count": 49,
   "metadata": {
    "collapsed": true
   },
   "outputs": [],
   "source": [
    "## 검색버튼 클릭\n",
    "search_button = browser.find_element_by_css_selector('#searchOpenBtn')"
   ]
  },
  {
   "cell_type": "code",
   "execution_count": 50,
   "metadata": {
    "collapsed": true
   },
   "outputs": [],
   "source": [
    "search_button.click()"
   ]
  },
  {
   "cell_type": "code",
   "execution_count": 51,
   "metadata": {
    "collapsed": true
   },
   "outputs": [],
   "source": [
    "## \"미생\" 검색\n",
    "search = browser.find_element_by_id(\"searchKeyword\")"
   ]
  },
  {
   "cell_type": "code",
   "execution_count": 52,
   "metadata": {
    "collapsed": true
   },
   "outputs": [],
   "source": [
    "search.send_keys(\"미생\")"
   ]
  },
  {
   "cell_type": "code",
   "execution_count": 54,
   "metadata": {},
   "outputs": [],
   "source": [
    "## 엔터입력\n",
    "from selenium.webdriver.common.keys import Keys"
   ]
  },
  {
   "cell_type": "code",
   "execution_count": 55,
   "metadata": {
    "collapsed": true
   },
   "outputs": [],
   "source": [
    "search.send_keys(Keys.ENTER)"
   ]
  },
  {
   "cell_type": "code",
   "execution_count": 57,
   "metadata": {},
   "outputs": [],
   "source": [
    "## wait\n",
    "browser.implicitly_wait(10)"
   ]
  },
  {
   "cell_type": "code",
   "execution_count": 58,
   "metadata": {
    "collapsed": true
   },
   "outputs": [],
   "source": [
    "## close window\n",
    "browser.quit()"
   ]
  },
  {
   "cell_type": "code",
   "execution_count": null,
   "metadata": {
    "collapsed": true
   },
   "outputs": [],
   "source": []
  },
  {
   "cell_type": "code",
   "execution_count": null,
   "metadata": {
    "collapsed": true
   },
   "outputs": [],
   "source": []
  },
  {
   "cell_type": "code",
   "execution_count": null,
   "metadata": {
    "collapsed": true
   },
   "outputs": [],
   "source": []
  },
  {
   "cell_type": "code",
   "execution_count": null,
   "metadata": {
    "collapsed": true
   },
   "outputs": [],
   "source": []
  },
  {
   "cell_type": "code",
   "execution_count": null,
   "metadata": {
    "collapsed": true
   },
   "outputs": [],
   "source": []
  },
  {
   "cell_type": "code",
   "execution_count": null,
   "metadata": {
    "collapsed": true
   },
   "outputs": [],
   "source": []
  }
 ],
 "metadata": {
  "kernelspec": {
   "display_name": "Python 3",
   "language": "python",
   "name": "python3"
  },
  "language_info": {
   "codemirror_mode": {
    "name": "ipython",
    "version": 3
   },
   "file_extension": ".py",
   "mimetype": "text/x-python",
   "name": "python",
   "nbconvert_exporter": "python",
   "pygments_lexer": "ipython3",
   "version": "3.6.3"
  }
 },
 "nbformat": 4,
 "nbformat_minor": 2
}
